{
 "cells": [
  {
   "cell_type": "code",
   "execution_count": 431,
   "id": "a61547f4",
   "metadata": {},
   "outputs": [],
   "source": [
    "# import libraries\n",
    "import os\n",
    "import csv\n",
    "import pandas as pd\n",
    "import matplotlib.pyplot as plt\n",
    "import scipy.stats as stats"
   ]
  },
  {
   "cell_type": "code",
   "execution_count": 432,
   "id": "3bafe3bf",
   "metadata": {},
   "outputs": [],
   "source": [
    "# for t test\n",
    "def pvalue_eval(pval, a=.05):\n",
    "    if pval<a :\n",
    "        return f\"{pval} ({pval:0.6f}) is Statistically Significant (reject the null hypothesis)\"\n",
    "    return f\"{pval} ({pval:0.6f}) is Statistically Non-Significant (failed to reject the null hypothesis)\""
   ]
  },
  {
   "cell_type": "code",
   "execution_count": 433,
   "id": "e3622626",
   "metadata": {},
   "outputs": [],
   "source": [
    "# read in files\n",
    "student_df = pd.read_csv(\"Resources/Student Mental health.csv\")\n",
    "academic_performance_df = pd.read_csv(\"Resources/Effects on Academic Performance.csv\")"
   ]
  },
  {
   "cell_type": "code",
   "execution_count": 434,
   "id": "eb9e2412",
   "metadata": {},
   "outputs": [],
   "source": [
    "# CLEANING DATA"
   ]
  },
  {
   "cell_type": "code",
   "execution_count": 435,
   "id": "8cef57a5",
   "metadata": {},
   "outputs": [
    {
     "data": {
      "text/plain": [
       "Index(['Timestamp', 'Choose your gender', 'Age', 'What is your course?',\n",
       "       'Your current year of Study', 'What is your CGPA?', 'Marital status',\n",
       "       'Do you have Depression?', 'Do you have Anxiety?',\n",
       "       'Do you have Panic attack?',\n",
       "       'Did you seek any specialist for a treatment?'],\n",
       "      dtype='object')"
      ]
     },
     "execution_count": 435,
     "metadata": {},
     "output_type": "execute_result"
    }
   ],
   "source": [
    "# show column names\n",
    "student_columns = student_df.columns\n",
    "student_columns"
   ]
  },
  {
   "cell_type": "code",
   "execution_count": 436,
   "id": "99e27593",
   "metadata": {},
   "outputs": [
    {
     "data": {
      "text/html": [
       "<div>\n",
       "<style scoped>\n",
       "    .dataframe tbody tr th:only-of-type {\n",
       "        vertical-align: middle;\n",
       "    }\n",
       "\n",
       "    .dataframe tbody tr th {\n",
       "        vertical-align: top;\n",
       "    }\n",
       "\n",
       "    .dataframe thead th {\n",
       "        text-align: right;\n",
       "    }\n",
       "</style>\n",
       "<table border=\"1\" class=\"dataframe\">\n",
       "  <thead>\n",
       "    <tr style=\"text-align: right;\">\n",
       "      <th></th>\n",
       "      <th>Timestamp</th>\n",
       "      <th>Choose your gender</th>\n",
       "      <th>Age</th>\n",
       "      <th>What is your course?</th>\n",
       "      <th>Your current year of Study</th>\n",
       "      <th>What is your CGPA?</th>\n",
       "      <th>Marital status</th>\n",
       "      <th>Do you have Depression?</th>\n",
       "      <th>Do you have Anxiety?</th>\n",
       "      <th>Do you have Panic attack?</th>\n",
       "      <th>Did you seek any specialist for a treatment?</th>\n",
       "    </tr>\n",
       "  </thead>\n",
       "  <tbody>\n",
       "    <tr>\n",
       "      <th>0</th>\n",
       "      <td>8/7/20 12:02</td>\n",
       "      <td>Female</td>\n",
       "      <td>18.0</td>\n",
       "      <td>Engineering</td>\n",
       "      <td>year 1</td>\n",
       "      <td>3.00 - 3.49</td>\n",
       "      <td>No</td>\n",
       "      <td>Yes</td>\n",
       "      <td>No</td>\n",
       "      <td>Yes</td>\n",
       "      <td>No</td>\n",
       "    </tr>\n",
       "    <tr>\n",
       "      <th>1</th>\n",
       "      <td>8/7/20 12:04</td>\n",
       "      <td>Male</td>\n",
       "      <td>21.0</td>\n",
       "      <td>Islamic education</td>\n",
       "      <td>year 2</td>\n",
       "      <td>3.00 - 3.49</td>\n",
       "      <td>No</td>\n",
       "      <td>No</td>\n",
       "      <td>Yes</td>\n",
       "      <td>No</td>\n",
       "      <td>No</td>\n",
       "    </tr>\n",
       "    <tr>\n",
       "      <th>2</th>\n",
       "      <td>8/7/20 12:05</td>\n",
       "      <td>Male</td>\n",
       "      <td>19.0</td>\n",
       "      <td>BIT</td>\n",
       "      <td>Year 1</td>\n",
       "      <td>3.00 - 3.49</td>\n",
       "      <td>No</td>\n",
       "      <td>Yes</td>\n",
       "      <td>Yes</td>\n",
       "      <td>Yes</td>\n",
       "      <td>No</td>\n",
       "    </tr>\n",
       "    <tr>\n",
       "      <th>3</th>\n",
       "      <td>8/7/20 12:06</td>\n",
       "      <td>Female</td>\n",
       "      <td>22.0</td>\n",
       "      <td>Laws</td>\n",
       "      <td>year 3</td>\n",
       "      <td>3.00 - 3.49</td>\n",
       "      <td>Yes</td>\n",
       "      <td>Yes</td>\n",
       "      <td>No</td>\n",
       "      <td>No</td>\n",
       "      <td>No</td>\n",
       "    </tr>\n",
       "    <tr>\n",
       "      <th>4</th>\n",
       "      <td>8/7/20 12:13</td>\n",
       "      <td>Male</td>\n",
       "      <td>23.0</td>\n",
       "      <td>Mathemathics</td>\n",
       "      <td>year 4</td>\n",
       "      <td>3.00 - 3.49</td>\n",
       "      <td>No</td>\n",
       "      <td>No</td>\n",
       "      <td>No</td>\n",
       "      <td>No</td>\n",
       "      <td>No</td>\n",
       "    </tr>\n",
       "  </tbody>\n",
       "</table>\n",
       "</div>"
      ],
      "text/plain": [
       "      Timestamp Choose your gender   Age What is your course?  \\\n",
       "0  8/7/20 12:02             Female  18.0          Engineering   \n",
       "1  8/7/20 12:04               Male  21.0    Islamic education   \n",
       "2  8/7/20 12:05               Male  19.0                  BIT   \n",
       "3  8/7/20 12:06             Female  22.0                 Laws   \n",
       "4  8/7/20 12:13               Male  23.0         Mathemathics   \n",
       "\n",
       "  Your current year of Study What is your CGPA? Marital status  \\\n",
       "0                     year 1        3.00 - 3.49             No   \n",
       "1                     year 2        3.00 - 3.49             No   \n",
       "2                     Year 1        3.00 - 3.49             No   \n",
       "3                     year 3        3.00 - 3.49            Yes   \n",
       "4                     year 4        3.00 - 3.49             No   \n",
       "\n",
       "  Do you have Depression? Do you have Anxiety? Do you have Panic attack?  \\\n",
       "0                     Yes                   No                       Yes   \n",
       "1                      No                  Yes                        No   \n",
       "2                     Yes                  Yes                       Yes   \n",
       "3                     Yes                   No                        No   \n",
       "4                      No                   No                        No   \n",
       "\n",
       "  Did you seek any specialist for a treatment?  \n",
       "0                                           No  \n",
       "1                                           No  \n",
       "2                                           No  \n",
       "3                                           No  \n",
       "4                                           No  "
      ]
     },
     "execution_count": 436,
     "metadata": {},
     "output_type": "execute_result"
    }
   ],
   "source": [
    "student_df.head()"
   ]
  },
  {
   "cell_type": "code",
   "execution_count": 437,
   "id": "00365cdb",
   "metadata": {},
   "outputs": [],
   "source": [
    "# rename columns\n",
    "student_df.columns = ['Timestamp', 'Gender', 'Age', 'Course',\n",
    "       'Year', 'GPA', 'Marital_status',\n",
    "       'Depression', 'Anxiety',\n",
    "       'Panic_attack',\n",
    "       'Specialist_visit']"
   ]
  },
  {
   "cell_type": "code",
   "execution_count": 438,
   "id": "ee4b1e28",
   "metadata": {},
   "outputs": [],
   "source": [
    "# delete timestamp column\n",
    "del student_df['Timestamp']"
   ]
  },
  {
   "cell_type": "code",
   "execution_count": 439,
   "id": "6aa8e3ab",
   "metadata": {},
   "outputs": [
    {
     "data": {
      "text/html": [
       "<div>\n",
       "<style scoped>\n",
       "    .dataframe tbody tr th:only-of-type {\n",
       "        vertical-align: middle;\n",
       "    }\n",
       "\n",
       "    .dataframe tbody tr th {\n",
       "        vertical-align: top;\n",
       "    }\n",
       "\n",
       "    .dataframe thead th {\n",
       "        text-align: right;\n",
       "    }\n",
       "</style>\n",
       "<table border=\"1\" class=\"dataframe\">\n",
       "  <thead>\n",
       "    <tr style=\"text-align: right;\">\n",
       "      <th></th>\n",
       "      <th>Gender</th>\n",
       "      <th>Age</th>\n",
       "      <th>Course</th>\n",
       "      <th>Year</th>\n",
       "      <th>GPA</th>\n",
       "      <th>Marital_status</th>\n",
       "      <th>Depression</th>\n",
       "      <th>Anxiety</th>\n",
       "      <th>Panic_attack</th>\n",
       "      <th>Specialist_visit</th>\n",
       "    </tr>\n",
       "  </thead>\n",
       "  <tbody>\n",
       "    <tr>\n",
       "      <th>0</th>\n",
       "      <td>Female</td>\n",
       "      <td>18.0</td>\n",
       "      <td>Engineering</td>\n",
       "      <td>year 1</td>\n",
       "      <td>3.00 - 3.49</td>\n",
       "      <td>No</td>\n",
       "      <td>Yes</td>\n",
       "      <td>No</td>\n",
       "      <td>Yes</td>\n",
       "      <td>No</td>\n",
       "    </tr>\n",
       "    <tr>\n",
       "      <th>1</th>\n",
       "      <td>Male</td>\n",
       "      <td>21.0</td>\n",
       "      <td>Islamic education</td>\n",
       "      <td>year 2</td>\n",
       "      <td>3.00 - 3.49</td>\n",
       "      <td>No</td>\n",
       "      <td>No</td>\n",
       "      <td>Yes</td>\n",
       "      <td>No</td>\n",
       "      <td>No</td>\n",
       "    </tr>\n",
       "    <tr>\n",
       "      <th>2</th>\n",
       "      <td>Male</td>\n",
       "      <td>19.0</td>\n",
       "      <td>BIT</td>\n",
       "      <td>Year 1</td>\n",
       "      <td>3.00 - 3.49</td>\n",
       "      <td>No</td>\n",
       "      <td>Yes</td>\n",
       "      <td>Yes</td>\n",
       "      <td>Yes</td>\n",
       "      <td>No</td>\n",
       "    </tr>\n",
       "    <tr>\n",
       "      <th>3</th>\n",
       "      <td>Female</td>\n",
       "      <td>22.0</td>\n",
       "      <td>Laws</td>\n",
       "      <td>year 3</td>\n",
       "      <td>3.00 - 3.49</td>\n",
       "      <td>Yes</td>\n",
       "      <td>Yes</td>\n",
       "      <td>No</td>\n",
       "      <td>No</td>\n",
       "      <td>No</td>\n",
       "    </tr>\n",
       "    <tr>\n",
       "      <th>4</th>\n",
       "      <td>Male</td>\n",
       "      <td>23.0</td>\n",
       "      <td>Mathemathics</td>\n",
       "      <td>year 4</td>\n",
       "      <td>3.00 - 3.49</td>\n",
       "      <td>No</td>\n",
       "      <td>No</td>\n",
       "      <td>No</td>\n",
       "      <td>No</td>\n",
       "      <td>No</td>\n",
       "    </tr>\n",
       "  </tbody>\n",
       "</table>\n",
       "</div>"
      ],
      "text/plain": [
       "   Gender   Age             Course    Year          GPA Marital_status  \\\n",
       "0  Female  18.0        Engineering  year 1  3.00 - 3.49             No   \n",
       "1    Male  21.0  Islamic education  year 2  3.00 - 3.49             No   \n",
       "2    Male  19.0                BIT  Year 1  3.00 - 3.49             No   \n",
       "3  Female  22.0               Laws  year 3  3.00 - 3.49            Yes   \n",
       "4    Male  23.0       Mathemathics  year 4  3.00 - 3.49             No   \n",
       "\n",
       "  Depression Anxiety Panic_attack Specialist_visit  \n",
       "0        Yes      No          Yes               No  \n",
       "1         No     Yes           No               No  \n",
       "2        Yes     Yes          Yes               No  \n",
       "3        Yes      No           No               No  \n",
       "4         No      No           No               No  "
      ]
     },
     "execution_count": 439,
     "metadata": {},
     "output_type": "execute_result"
    }
   ],
   "source": [
    "student_df.head()"
   ]
  },
  {
   "cell_type": "code",
   "execution_count": 440,
   "id": "a65b5db8",
   "metadata": {},
   "outputs": [
    {
     "data": {
      "text/plain": [
       "101"
      ]
     },
     "execution_count": 440,
     "metadata": {},
     "output_type": "execute_result"
    }
   ],
   "source": [
    "# count how many total students\n",
    "total_students = len(student_df[\"Gender\"])\n",
    "total_students"
   ]
  },
  {
   "cell_type": "code",
   "execution_count": 441,
   "id": "5fde8cd7",
   "metadata": {
    "scrolled": true
   },
   "outputs": [
    {
     "data": {
      "text/plain": [
       "Gender              101\n",
       "Age                 100\n",
       "Course              101\n",
       "Year                101\n",
       "GPA                 101\n",
       "Marital_status      101\n",
       "Depression          101\n",
       "Anxiety             101\n",
       "Panic_attack        101\n",
       "Specialist_visit    101\n",
       "dtype: int64"
      ]
     },
     "execution_count": 441,
     "metadata": {},
     "output_type": "execute_result"
    }
   ],
   "source": [
    "# make sure every column has same count\n",
    "student_df.count()"
   ]
  },
  {
   "cell_type": "code",
   "execution_count": 442,
   "id": "02d7cc9c",
   "metadata": {},
   "outputs": [],
   "source": [
    "# see data types\n",
    "# student_df.dtypes"
   ]
  },
  {
   "cell_type": "code",
   "execution_count": 443,
   "id": "dd1371c5",
   "metadata": {},
   "outputs": [
    {
     "data": {
      "text/plain": [
       "Female    75\n",
       "Male      26\n",
       "Name: Gender, dtype: int64"
      ]
     },
     "execution_count": 443,
     "metadata": {},
     "output_type": "execute_result"
    }
   ],
   "source": [
    "# count male vs female\n",
    "student_df[\"Gender\"].value_counts()"
   ]
  },
  {
   "cell_type": "code",
   "execution_count": 444,
   "id": "8ab9ea5f",
   "metadata": {},
   "outputs": [
    {
     "data": {
      "text/plain": [
       "BCS                        18\n",
       "Engineering                17\n",
       "BIT                        10\n",
       "Biomedical science          4\n",
       "KOE                         4\n",
       "BENL                        2\n",
       "Laws                        2\n",
       "psychology                  2\n",
       "Engine                      2\n",
       "Islamic Education           1\n",
       "Biotechnology               1\n",
       "engin                       1\n",
       "Econs                       1\n",
       "MHSC                        1\n",
       "Malcom                      1\n",
       "Kop                         1\n",
       "Human Sciences              1\n",
       "Communication               1\n",
       "Nursing                     1\n",
       "Diploma Nursing             1\n",
       "IT                          1\n",
       "Pendidikan Islam            1\n",
       "Radiography                 1\n",
       "Fiqh fatwa                  1\n",
       "DIPLOMA TESL                1\n",
       "Koe                         1\n",
       "Fiqh                        1\n",
       "CTS                         1\n",
       "koe                         1\n",
       "Benl                        1\n",
       "Kirkhs                      1\n",
       "Mathemathics                1\n",
       "Pendidikan islam            1\n",
       "Human Resources             1\n",
       "Irkhs                       1\n",
       "Psychology                  1\n",
       "KENMS                       1\n",
       "Accounting                  1\n",
       "ENM                         1\n",
       "Marine science              1\n",
       "Banking Studies             1\n",
       "Business Administration     1\n",
       "Law                         1\n",
       "KIRKHS                      1\n",
       "Usuluddin                   1\n",
       "TAASL                       1\n",
       "ALA                         1\n",
       "Islamic education           1\n",
       "Pendidikan Islam            1\n",
       "Name: Course, dtype: int64"
      ]
     },
     "execution_count": 444,
     "metadata": {},
     "output_type": "execute_result"
    }
   ],
   "source": [
    "# show different courses\n",
    "student_df[\"Course\"].value_counts()"
   ]
  },
  {
   "cell_type": "code",
   "execution_count": 445,
   "id": "a43c1345",
   "metadata": {},
   "outputs": [],
   "source": [
    "# Clean up Course column\n",
    "student_df['Course'] = student_df['Course'].replace({'Koe': 'KOE','koe': 'KOE'})\n",
    "student_df['Course'] = student_df['Course'].replace({'benl': 'BENL', 'Benl': 'BENL'})\n",
    "student_df['Course'] = student_df['Course'].replace({'engin': 'Engineering','Engine': 'Engineering'})\n",
    "student_df['Course'] = student_df['Course'].replace({'KIRKHS': 'Kirkhs'})\n",
    "student_df['Course'] = student_df['Course'].replace({'Islamic education': 'Islamic Education'})\n",
    "student_df['Course'] = student_df['Course'].replace({'Laws': 'Law'})\n",
    "student_df['Course'] = student_df['Course'].replace({'Pendidikan islam': 'Pendidikan Islam', 'Pendidikan Islam ': 'Pendidikan Islam'})\n",
    "student_df['Course'] = student_df['Course'].replace({'Diploma Nursing': 'Nursing', 'Nursing ': 'Nursing'})\n",
    "student_df['Course'] = student_df['Course'].replace({'Fiqh' : 'Fiqh Fatwa ', 'Fiqh Fatwa': 'Fiqh Fatwa'})\n",
    "student_df['Course'] = student_df['Course'].replace({'Econs' : 'Econ'})\n",
    "student_df['Course'] = student_df['Course'].replace({'Irkhs' : 'Kirkhs'})\n",
    "student_df['Course'] = student_df['Course'].replace({'ENM' : 'KENMS'})\n",
    "student_df['Course'] = student_df['Course'].replace({'psychology' : 'Psychology'})"
   ]
  },
  {
   "cell_type": "code",
   "execution_count": 446,
   "id": "a2c0792e",
   "metadata": {},
   "outputs": [
    {
     "data": {
      "text/plain": [
       "Engineering                20\n",
       "BCS                        18\n",
       "BIT                        10\n",
       "KOE                         6\n",
       "Biomedical science          4\n",
       "Law                         3\n",
       "Pendidikan Islam            3\n",
       "BENL                        3\n",
       "Kirkhs                      3\n",
       "Psychology                  3\n",
       "KENMS                       2\n",
       "Nursing                     2\n",
       "Islamic Education           2\n",
       "Human Sciences              1\n",
       "Malcom                      1\n",
       "Kop                         1\n",
       "Radiography                 1\n",
       "Biotechnology               1\n",
       "Communication               1\n",
       "Econ                        1\n",
       "Fiqh fatwa                  1\n",
       "DIPLOMA TESL                1\n",
       "MHSC                        1\n",
       "TAASL                       1\n",
       "CTS                         1\n",
       "IT                          1\n",
       "ALA                         1\n",
       "Usuluddin                   1\n",
       "Business Administration     1\n",
       "Banking Studies             1\n",
       "Marine science              1\n",
       "Accounting                  1\n",
       "Human Resources             1\n",
       "Mathemathics                1\n",
       "Fiqh Fatwa                  1\n",
       "Name: Course, dtype: int64"
      ]
     },
     "execution_count": 446,
     "metadata": {},
     "output_type": "execute_result"
    }
   ],
   "source": [
    "student_df[\"Course\"].value_counts()"
   ]
  },
  {
   "cell_type": "code",
   "execution_count": 447,
   "id": "71c591d7",
   "metadata": {},
   "outputs": [
    {
     "data": {
      "text/plain": [
       "year 1    41\n",
       "Year 3    19\n",
       "Year 2    16\n",
       "year 2    10\n",
       "year 4     8\n",
       "year 3     5\n",
       "Year 1     2\n",
       "Name: Year, dtype: int64"
      ]
     },
     "execution_count": 447,
     "metadata": {},
     "output_type": "execute_result"
    }
   ],
   "source": [
    "# clean up Year column\n",
    "student_df[\"Year\"].value_counts()"
   ]
  },
  {
   "cell_type": "code",
   "execution_count": 448,
   "id": "cffa94e0",
   "metadata": {},
   "outputs": [],
   "source": [
    "student_df['Year'] = student_df['Year'].replace({'year 1': 'Year 1'})\n",
    "student_df['Year'] = student_df['Year'].replace({'year 2': 'Year 2'})\n",
    "student_df['Year'] = student_df['Year'].replace({'year 3': 'Year 3'})"
   ]
  },
  {
   "cell_type": "code",
   "execution_count": 449,
   "id": "d9939f31",
   "metadata": {
    "scrolled": true
   },
   "outputs": [
    {
     "data": {
      "text/plain": [
       "Year 1    43\n",
       "Year 2    26\n",
       "Year 3    24\n",
       "year 4     8\n",
       "Name: Year, dtype: int64"
      ]
     },
     "execution_count": 449,
     "metadata": {},
     "output_type": "execute_result"
    }
   ],
   "source": [
    "student_df[\"Year\"].value_counts()"
   ]
  },
  {
   "cell_type": "code",
   "execution_count": 450,
   "id": "2963f6ee",
   "metadata": {},
   "outputs": [
    {
     "data": {
      "text/plain": [
       "3.50 - 4.00     47\n",
       "3.00 - 3.49     43\n",
       "2.50 - 2.99      4\n",
       "0 - 1.99         4\n",
       "2.00 - 2.49      2\n",
       "3.50 - 4.00      1\n",
       "Name: GPA, dtype: int64"
      ]
     },
     "execution_count": 450,
     "metadata": {},
     "output_type": "execute_result"
    }
   ],
   "source": [
    "# clean up GPA column\n",
    "student_df[\"GPA\"].value_counts()"
   ]
  },
  {
   "cell_type": "code",
   "execution_count": 451,
   "id": "2f798472",
   "metadata": {},
   "outputs": [],
   "source": [
    "student_df['GPA'] = student_df['GPA'].replace({'3.50 - 4.00 ': '3.50 - 4.00'})"
   ]
  },
  {
   "cell_type": "code",
   "execution_count": 452,
   "id": "a76b74b1",
   "metadata": {
    "scrolled": true
   },
   "outputs": [
    {
     "data": {
      "text/plain": [
       "3.50 - 4.00    48\n",
       "3.00 - 3.49    43\n",
       "2.50 - 2.99     4\n",
       "0 - 1.99        4\n",
       "2.00 - 2.49     2\n",
       "Name: GPA, dtype: int64"
      ]
     },
     "execution_count": 452,
     "metadata": {},
     "output_type": "execute_result"
    }
   ],
   "source": [
    "student_df[\"GPA\"].value_counts()"
   ]
  },
  {
   "cell_type": "code",
   "execution_count": 453,
   "id": "94b631fd",
   "metadata": {},
   "outputs": [],
   "source": [
    "##### OTHER SPREADSHEET "
   ]
  },
  {
   "cell_type": "code",
   "execution_count": 454,
   "id": "fa5d78cb",
   "metadata": {},
   "outputs": [
    {
     "data": {
      "text/html": [
       "<div>\n",
       "<style scoped>\n",
       "    .dataframe tbody tr th:only-of-type {\n",
       "        vertical-align: middle;\n",
       "    }\n",
       "\n",
       "    .dataframe tbody tr th {\n",
       "        vertical-align: top;\n",
       "    }\n",
       "\n",
       "    .dataframe thead th {\n",
       "        text-align: right;\n",
       "    }\n",
       "</style>\n",
       "<table border=\"1\" class=\"dataframe\">\n",
       "  <thead>\n",
       "    <tr style=\"text-align: right;\">\n",
       "      <th></th>\n",
       "      <th>Gender:</th>\n",
       "      <th>Age:</th>\n",
       "      <th>Educational Level</th>\n",
       "      <th>Little interest or pleasure in doing things</th>\n",
       "      <th>Feeling down, depressed, or hopeless</th>\n",
       "      <th>Trouble falling or staying asleep, or sleeping too much</th>\n",
       "      <th>Feeling tired or having little energy</th>\n",
       "      <th>Poor appetite or overeating</th>\n",
       "      <th>Feeling bad about yourself or that you are a failure or not have let yourself or your family down</th>\n",
       "      <th>Trouble concentrating on things, such as reading the newspaper or watching television</th>\n",
       "      <th>Moving or speaking so slowly that other people could have noticed Or being so restless that you have been moving around a lot more than usual</th>\n",
       "      <th>Thoughts that you would be better off dead or of hurting yourself in some way</th>\n",
       "      <th>Do you have part-time or full-time job?</th>\n",
       "      <th>Which of the following best describes your term-time accommodation?</th>\n",
       "      <th>How many hours do you spend studying each day?</th>\n",
       "      <th>How many of the electronic gadgets (e.g. mobile phone, computer, laptop, PSP, PS4, Wii, etc.) do you have in your home or your student accommodation/mess/hall?</th>\n",
       "      <th>How many hours do you spend on social media per day?</th>\n",
       "      <th>Your Last Semester GPA:</th>\n",
       "    </tr>\n",
       "  </thead>\n",
       "  <tbody>\n",
       "    <tr>\n",
       "      <th>0</th>\n",
       "      <td>Male</td>\n",
       "      <td>19 to 24 years</td>\n",
       "      <td>College - Bachelor's</td>\n",
       "      <td>3</td>\n",
       "      <td>2</td>\n",
       "      <td>4</td>\n",
       "      <td>4</td>\n",
       "      <td>3</td>\n",
       "      <td>3</td>\n",
       "      <td>4</td>\n",
       "      <td>3</td>\n",
       "      <td>2</td>\n",
       "      <td>Part time</td>\n",
       "      <td>Home (with parents)</td>\n",
       "      <td>2 - 4 hours</td>\n",
       "      <td>4 - 6</td>\n",
       "      <td>More than 4 Hours</td>\n",
       "      <td>2.30</td>\n",
       "    </tr>\n",
       "    <tr>\n",
       "      <th>1</th>\n",
       "      <td>Male</td>\n",
       "      <td>19 to 24 years</td>\n",
       "      <td>College - Bachelor's</td>\n",
       "      <td>2</td>\n",
       "      <td>1</td>\n",
       "      <td>2</td>\n",
       "      <td>1</td>\n",
       "      <td>1</td>\n",
       "      <td>1</td>\n",
       "      <td>1</td>\n",
       "      <td>1</td>\n",
       "      <td>1</td>\n",
       "      <td>Part time</td>\n",
       "      <td>University hall of residence</td>\n",
       "      <td>1 - 2 hours</td>\n",
       "      <td>1 - 3</td>\n",
       "      <td>1 - 2 Hours</td>\n",
       "      <td>2.70</td>\n",
       "    </tr>\n",
       "    <tr>\n",
       "      <th>2</th>\n",
       "      <td>Female</td>\n",
       "      <td>18 years or less</td>\n",
       "      <td>High School</td>\n",
       "      <td>2</td>\n",
       "      <td>2</td>\n",
       "      <td>2</td>\n",
       "      <td>2</td>\n",
       "      <td>1</td>\n",
       "      <td>1</td>\n",
       "      <td>2</td>\n",
       "      <td>2</td>\n",
       "      <td>1</td>\n",
       "      <td>No</td>\n",
       "      <td>Home (with parents)</td>\n",
       "      <td>1 - 2 hours</td>\n",
       "      <td>1 - 3</td>\n",
       "      <td>More than 4 Hours</td>\n",
       "      <td>2.97</td>\n",
       "    </tr>\n",
       "    <tr>\n",
       "      <th>3</th>\n",
       "      <td>Female</td>\n",
       "      <td>18 years or less</td>\n",
       "      <td>High School</td>\n",
       "      <td>3</td>\n",
       "      <td>1</td>\n",
       "      <td>2</td>\n",
       "      <td>3</td>\n",
       "      <td>3</td>\n",
       "      <td>1</td>\n",
       "      <td>1</td>\n",
       "      <td>1</td>\n",
       "      <td>2</td>\n",
       "      <td>No</td>\n",
       "      <td>Home (with parents)</td>\n",
       "      <td>1 - 2 hours</td>\n",
       "      <td>More than 6</td>\n",
       "      <td>2 - 4 Hours</td>\n",
       "      <td>2.74</td>\n",
       "    </tr>\n",
       "    <tr>\n",
       "      <th>4</th>\n",
       "      <td>Male</td>\n",
       "      <td>18 years or less</td>\n",
       "      <td>High School</td>\n",
       "      <td>1</td>\n",
       "      <td>2</td>\n",
       "      <td>2</td>\n",
       "      <td>3</td>\n",
       "      <td>1</td>\n",
       "      <td>1</td>\n",
       "      <td>3</td>\n",
       "      <td>1</td>\n",
       "      <td>1</td>\n",
       "      <td>Part time</td>\n",
       "      <td>Home (with parents)</td>\n",
       "      <td>1 - 2 hours</td>\n",
       "      <td>4 - 6</td>\n",
       "      <td>More than 4 Hours</td>\n",
       "      <td>3.37</td>\n",
       "    </tr>\n",
       "  </tbody>\n",
       "</table>\n",
       "</div>"
      ],
      "text/plain": [
       "  Gender:              Age:     Educational Level  \\\n",
       "0    Male    19 to 24 years  College - Bachelor's   \n",
       "1    Male    19 to 24 years  College - Bachelor's   \n",
       "2  Female  18 years or less           High School   \n",
       "3  Female  18 years or less           High School   \n",
       "4    Male  18 years or less           High School   \n",
       "\n",
       "   Little interest or pleasure in doing things   \\\n",
       "0                                             3   \n",
       "1                                             2   \n",
       "2                                             2   \n",
       "3                                             3   \n",
       "4                                             1   \n",
       "\n",
       "   Feeling down, depressed, or hopeless  \\\n",
       "0                                     2   \n",
       "1                                     1   \n",
       "2                                     2   \n",
       "3                                     1   \n",
       "4                                     2   \n",
       "\n",
       "   Trouble falling or staying asleep, or sleeping too much  \\\n",
       "0                                                  4         \n",
       "1                                                  2         \n",
       "2                                                  2         \n",
       "3                                                  2         \n",
       "4                                                  2         \n",
       "\n",
       "   Feeling tired or having little energy  Poor appetite or overeating  \\\n",
       "0                                      4                            3   \n",
       "1                                      1                            1   \n",
       "2                                      2                            1   \n",
       "3                                      3                            3   \n",
       "4                                      3                            1   \n",
       "\n",
       "   Feeling bad about yourself or that you are a failure or not have let yourself or your family down  \\\n",
       "0                                                  3                                                   \n",
       "1                                                  1                                                   \n",
       "2                                                  1                                                   \n",
       "3                                                  1                                                   \n",
       "4                                                  1                                                   \n",
       "\n",
       "   Trouble concentrating on things, such as reading the newspaper or watching television  \\\n",
       "0                                                  4                                       \n",
       "1                                                  1                                       \n",
       "2                                                  2                                       \n",
       "3                                                  1                                       \n",
       "4                                                  3                                       \n",
       "\n",
       "   Moving or speaking so slowly that other people could have noticed Or being so restless that you have been moving around a lot more than usual  \\\n",
       "0                                                  3                                                                                               \n",
       "1                                                  1                                                                                               \n",
       "2                                                  2                                                                                               \n",
       "3                                                  1                                                                                               \n",
       "4                                                  1                                                                                               \n",
       "\n",
       "   Thoughts that you would be better off dead or of hurting yourself in some way  \\\n",
       "0                                                  2                               \n",
       "1                                                  1                               \n",
       "2                                                  1                               \n",
       "3                                                  2                               \n",
       "4                                                  1                               \n",
       "\n",
       "  Do you have part-time or full-time job?   \\\n",
       "0                                Part time   \n",
       "1                                Part time   \n",
       "2                                       No   \n",
       "3                                       No   \n",
       "4                                Part time   \n",
       "\n",
       "  Which of the following best describes your term-time accommodation?  \\\n",
       "0                                Home (with parents)                    \n",
       "1                       University hall of residence                    \n",
       "2                                Home (with parents)                    \n",
       "3                                Home (with parents)                    \n",
       "4                                Home (with parents)                    \n",
       "\n",
       "  How many hours do you spend studying each day?  \\\n",
       "0                                    2 - 4 hours   \n",
       "1                                    1 - 2 hours   \n",
       "2                                    1 - 2 hours   \n",
       "3                                    1 - 2 hours   \n",
       "4                                    1 - 2 hours   \n",
       "\n",
       "  How many of the electronic gadgets (e.g. mobile phone, computer, laptop, PSP, PS4, Wii, etc.) do you have in your home or your student accommodation/mess/hall?  \\\n",
       "0                                              4 - 6                                                                                                                \n",
       "1                                              1 - 3                                                                                                                \n",
       "2                                              1 - 3                                                                                                                \n",
       "3                                        More than 6                                                                                                                \n",
       "4                                              4 - 6                                                                                                                \n",
       "\n",
       "  How many hours do you spend on social media per day?  \\\n",
       "0                                  More than 4 Hours     \n",
       "1                                        1 - 2 Hours     \n",
       "2                                  More than 4 Hours     \n",
       "3                                        2 - 4 Hours     \n",
       "4                                  More than 4 Hours     \n",
       "\n",
       "   Your Last Semester GPA:   \n",
       "0                      2.30  \n",
       "1                      2.70  \n",
       "2                      2.97  \n",
       "3                      2.74  \n",
       "4                      3.37  "
      ]
     },
     "execution_count": 454,
     "metadata": {},
     "output_type": "execute_result"
    }
   ],
   "source": [
    "academic_performance_df.head()"
   ]
  },
  {
   "cell_type": "code",
   "execution_count": 455,
   "id": "52463bd4",
   "metadata": {},
   "outputs": [],
   "source": [
    "# CLEANING DATA "
   ]
  },
  {
   "cell_type": "code",
   "execution_count": 456,
   "id": "34f3d807",
   "metadata": {},
   "outputs": [],
   "source": [
    "# rename columns\n",
    "rename_academic_df = academic_performance_df.rename(columns = {'Gender:':'gender', 'Age:':'age',\n",
    "                                     'Educational Level':'educational_level',\n",
    "                                     'Little interest or pleasure in doing things ':'interest_level',\n",
    "                                     'Feeling down, depressed, or hopeless':'depressed_level',\n",
    "                                     'Trouble falling or staying asleep, or sleeping too much':'sleepy_level',\n",
    "                                     'Feeling tired or having little energy':'energy_level',\n",
    "                                     'Poor appetite or overeating':'appetite_level',\n",
    "                                     'Feeling bad about yourself or that you are a failure or not have let yourself or your family down':'self_worth_level',\n",
    "                                     'Trouble concentrating on things, such as reading the newspaper or watching television':'concentrating_level',\n",
    "                                     'Moving or speaking so slowly that other people could have noticed Or being so restless that you have been moving around a lot more than usual':'restless_level',\n",
    "                                     'Thoughts that you would be better off dead or of hurting yourself in some way':'suicidal_level',\n",
    "                                     'Do you have part-time or full-time job? ':'employment',\n",
    "                                     'Which of the following best describes your term-time accommodation?':'housing_situation',\n",
    "                                     'How many hours do you spend studying each day?':'studying_spending',\n",
    "                                     'How many of the electronic gadgets (e.g. mobile phone, computer, laptop, PSP, PS4, Wii, etc.) do you have in your home or your student accommodation/mess/hall?':'electronic_devices',\n",
    "                                     'How many hours do you spend on social media per day?':'social_media_time',\n",
    "                                     'Your Last Semester GPA: ':'GPA'})"
   ]
  },
  {
   "cell_type": "code",
   "execution_count": 457,
   "id": "54852bef",
   "metadata": {},
   "outputs": [
    {
     "data": {
      "text/plain": [
       "gender                 352\n",
       "age                    352\n",
       "educational_level      352\n",
       "interest_level         352\n",
       "depressed_level        352\n",
       "sleepy_level           352\n",
       "energy_level           352\n",
       "appetite_level         352\n",
       "self_worth_level       352\n",
       "concentrating_level    352\n",
       "restless_level         352\n",
       "suicidal_level         352\n",
       "employment             352\n",
       "housing_situation      352\n",
       "studying_spending      352\n",
       "electronic_devices     352\n",
       "social_media_time      352\n",
       "GPA                    352\n",
       "dtype: int64"
      ]
     },
     "execution_count": 457,
     "metadata": {},
     "output_type": "execute_result"
    }
   ],
   "source": [
    "# look at count to ensure each column has same number of rows \n",
    "rename_academic_df.count()"
   ]
  },
  {
   "cell_type": "code",
   "execution_count": 458,
   "id": "72b1e937",
   "metadata": {
    "scrolled": true
   },
   "outputs": [
    {
     "data": {
      "text/plain": [
       "College - Bachelor's    204\n",
       "High School             124\n",
       "Master                   24\n",
       "Name: educational_level, dtype: int64"
      ]
     },
     "execution_count": 458,
     "metadata": {},
     "output_type": "execute_result"
    }
   ],
   "source": [
    "# filter to show only \"College - Bachelor's\"\n",
    "rename_academic_df['educational_level'].value_counts()"
   ]
  },
  {
   "cell_type": "code",
   "execution_count": 459,
   "id": "2342e3f2",
   "metadata": {},
   "outputs": [
    {
     "data": {
      "text/html": [
       "<div>\n",
       "<style scoped>\n",
       "    .dataframe tbody tr th:only-of-type {\n",
       "        vertical-align: middle;\n",
       "    }\n",
       "\n",
       "    .dataframe tbody tr th {\n",
       "        vertical-align: top;\n",
       "    }\n",
       "\n",
       "    .dataframe thead th {\n",
       "        text-align: right;\n",
       "    }\n",
       "</style>\n",
       "<table border=\"1\" class=\"dataframe\">\n",
       "  <thead>\n",
       "    <tr style=\"text-align: right;\">\n",
       "      <th></th>\n",
       "      <th>gender</th>\n",
       "      <th>age</th>\n",
       "      <th>educational_level</th>\n",
       "      <th>interest_level</th>\n",
       "      <th>depressed_level</th>\n",
       "      <th>sleepy_level</th>\n",
       "      <th>energy_level</th>\n",
       "      <th>appetite_level</th>\n",
       "      <th>self_worth_level</th>\n",
       "      <th>concentrating_level</th>\n",
       "      <th>restless_level</th>\n",
       "      <th>suicidal_level</th>\n",
       "      <th>employment</th>\n",
       "      <th>housing_situation</th>\n",
       "      <th>studying_spending</th>\n",
       "      <th>electronic_devices</th>\n",
       "      <th>social_media_time</th>\n",
       "      <th>GPA</th>\n",
       "    </tr>\n",
       "  </thead>\n",
       "  <tbody>\n",
       "    <tr>\n",
       "      <th>0</th>\n",
       "      <td>Male</td>\n",
       "      <td>19 to 24 years</td>\n",
       "      <td>College - Bachelor's</td>\n",
       "      <td>3</td>\n",
       "      <td>2</td>\n",
       "      <td>4</td>\n",
       "      <td>4</td>\n",
       "      <td>3</td>\n",
       "      <td>3</td>\n",
       "      <td>4</td>\n",
       "      <td>3</td>\n",
       "      <td>2</td>\n",
       "      <td>Part time</td>\n",
       "      <td>Home (with parents)</td>\n",
       "      <td>2 - 4 hours</td>\n",
       "      <td>4 - 6</td>\n",
       "      <td>More than 4 Hours</td>\n",
       "      <td>2.30</td>\n",
       "    </tr>\n",
       "    <tr>\n",
       "      <th>1</th>\n",
       "      <td>Male</td>\n",
       "      <td>19 to 24 years</td>\n",
       "      <td>College - Bachelor's</td>\n",
       "      <td>2</td>\n",
       "      <td>1</td>\n",
       "      <td>2</td>\n",
       "      <td>1</td>\n",
       "      <td>1</td>\n",
       "      <td>1</td>\n",
       "      <td>1</td>\n",
       "      <td>1</td>\n",
       "      <td>1</td>\n",
       "      <td>Part time</td>\n",
       "      <td>University hall of residence</td>\n",
       "      <td>1 - 2 hours</td>\n",
       "      <td>1 - 3</td>\n",
       "      <td>1 - 2 Hours</td>\n",
       "      <td>2.70</td>\n",
       "    </tr>\n",
       "    <tr>\n",
       "      <th>6</th>\n",
       "      <td>Female</td>\n",
       "      <td>19 to 24 years</td>\n",
       "      <td>College - Bachelor's</td>\n",
       "      <td>2</td>\n",
       "      <td>2</td>\n",
       "      <td>3</td>\n",
       "      <td>3</td>\n",
       "      <td>1</td>\n",
       "      <td>1</td>\n",
       "      <td>2</td>\n",
       "      <td>2</td>\n",
       "      <td>1</td>\n",
       "      <td>Part time</td>\n",
       "      <td>Home (with parents)</td>\n",
       "      <td>1 - 2 hours</td>\n",
       "      <td>4 - 6</td>\n",
       "      <td>2 - 4 Hours</td>\n",
       "      <td>2.75</td>\n",
       "    </tr>\n",
       "    <tr>\n",
       "      <th>8</th>\n",
       "      <td>Female</td>\n",
       "      <td>19 to 24 years</td>\n",
       "      <td>College - Bachelor's</td>\n",
       "      <td>3</td>\n",
       "      <td>1</td>\n",
       "      <td>4</td>\n",
       "      <td>3</td>\n",
       "      <td>1</td>\n",
       "      <td>2</td>\n",
       "      <td>1</td>\n",
       "      <td>1</td>\n",
       "      <td>1</td>\n",
       "      <td>Full time</td>\n",
       "      <td>Home (with parents)</td>\n",
       "      <td>1 - 2 hours</td>\n",
       "      <td>4 - 6</td>\n",
       "      <td>More than 4 Hours</td>\n",
       "      <td>3.97</td>\n",
       "    </tr>\n",
       "    <tr>\n",
       "      <th>10</th>\n",
       "      <td>Female</td>\n",
       "      <td>19 to 24 years</td>\n",
       "      <td>College - Bachelor's</td>\n",
       "      <td>2</td>\n",
       "      <td>4</td>\n",
       "      <td>4</td>\n",
       "      <td>3</td>\n",
       "      <td>2</td>\n",
       "      <td>3</td>\n",
       "      <td>4</td>\n",
       "      <td>1</td>\n",
       "      <td>3</td>\n",
       "      <td>No</td>\n",
       "      <td>Home (with parents)</td>\n",
       "      <td>1 - 2 hours</td>\n",
       "      <td>1 - 3</td>\n",
       "      <td>More than 4 Hours</td>\n",
       "      <td>2.97</td>\n",
       "    </tr>\n",
       "  </tbody>\n",
       "</table>\n",
       "</div>"
      ],
      "text/plain": [
       "    gender             age     educational_level  interest_level  \\\n",
       "0     Male  19 to 24 years  College - Bachelor's               3   \n",
       "1     Male  19 to 24 years  College - Bachelor's               2   \n",
       "6   Female  19 to 24 years  College - Bachelor's               2   \n",
       "8   Female  19 to 24 years  College - Bachelor's               3   \n",
       "10  Female  19 to 24 years  College - Bachelor's               2   \n",
       "\n",
       "    depressed_level  sleepy_level  energy_level  appetite_level  \\\n",
       "0                 2             4             4               3   \n",
       "1                 1             2             1               1   \n",
       "6                 2             3             3               1   \n",
       "8                 1             4             3               1   \n",
       "10                4             4             3               2   \n",
       "\n",
       "    self_worth_level  concentrating_level  restless_level  suicidal_level  \\\n",
       "0                  3                    4               3               2   \n",
       "1                  1                    1               1               1   \n",
       "6                  1                    2               2               1   \n",
       "8                  2                    1               1               1   \n",
       "10                 3                    4               1               3   \n",
       "\n",
       "   employment             housing_situation studying_spending  \\\n",
       "0   Part time           Home (with parents)       2 - 4 hours   \n",
       "1   Part time  University hall of residence       1 - 2 hours   \n",
       "6   Part time           Home (with parents)       1 - 2 hours   \n",
       "8   Full time           Home (with parents)       1 - 2 hours   \n",
       "10         No           Home (with parents)       1 - 2 hours   \n",
       "\n",
       "   electronic_devices  social_media_time   GPA  \n",
       "0               4 - 6  More than 4 Hours  2.30  \n",
       "1               1 - 3        1 - 2 Hours  2.70  \n",
       "6               4 - 6        2 - 4 Hours  2.75  \n",
       "8               4 - 6  More than 4 Hours  3.97  \n",
       "10              1 - 3  More than 4 Hours  2.97  "
      ]
     },
     "execution_count": 459,
     "metadata": {},
     "output_type": "execute_result"
    }
   ],
   "source": [
    "bachelors_df = rename_academic_df.loc[rename_academic_df['educational_level'] == \"College - Bachelor's\"]\n",
    "bachelors_df.head()"
   ]
  },
  {
   "cell_type": "code",
   "execution_count": 460,
   "id": "8d7e03ea",
   "metadata": {},
   "outputs": [
    {
     "data": {
      "text/plain": [
       "Full Time    83\n",
       "No           53\n",
       "Part time    51\n",
       "Full time    17\n",
       "Name: employment, dtype: int64"
      ]
     },
     "execution_count": 460,
     "metadata": {},
     "output_type": "execute_result"
    }
   ],
   "source": [
    "# clean up employment column\n",
    "bachelors_df['employment'].value_counts()"
   ]
  },
  {
   "cell_type": "code",
   "execution_count": 461,
   "id": "b6d11fd8",
   "metadata": {},
   "outputs": [
    {
     "name": "stderr",
     "output_type": "stream",
     "text": [
      "/var/folders/s8/06x09z5j12g_t79tbrhn448w0000gn/T/ipykernel_92029/876268993.py:1: SettingWithCopyWarning: \n",
      "A value is trying to be set on a copy of a slice from a DataFrame.\n",
      "Try using .loc[row_indexer,col_indexer] = value instead\n",
      "\n",
      "See the caveats in the documentation: https://pandas.pydata.org/pandas-docs/stable/user_guide/indexing.html#returning-a-view-versus-a-copy\n",
      "  bachelors_df[\"employment\"] = bachelors_df[\"employment\"].replace({'Full Time': 'Full time', 'No': 'Unemployed'})\n"
     ]
    }
   ],
   "source": [
    "bachelors_df[\"employment\"] = bachelors_df[\"employment\"].replace({'Full Time': 'Full time', 'No': 'Unemployed'})"
   ]
  },
  {
   "cell_type": "code",
   "execution_count": 462,
   "id": "99d9fc1b",
   "metadata": {},
   "outputs": [
    {
     "data": {
      "text/plain": [
       "Full time     100\n",
       "Unemployed     53\n",
       "Part time      51\n",
       "Name: employment, dtype: int64"
      ]
     },
     "execution_count": 462,
     "metadata": {},
     "output_type": "execute_result"
    }
   ],
   "source": [
    "bachelors_df['employment'].value_counts()"
   ]
  },
  {
   "cell_type": "code",
   "execution_count": 463,
   "id": "6fc4ae4c",
   "metadata": {},
   "outputs": [],
   "source": [
    "# reset index \n",
    "bachelors_df = bachelors_df.reset_index(drop = True)"
   ]
  },
  {
   "cell_type": "code",
   "execution_count": 464,
   "id": "4ee08359",
   "metadata": {
    "scrolled": true
   },
   "outputs": [
    {
     "data": {
      "text/html": [
       "<div>\n",
       "<style scoped>\n",
       "    .dataframe tbody tr th:only-of-type {\n",
       "        vertical-align: middle;\n",
       "    }\n",
       "\n",
       "    .dataframe tbody tr th {\n",
       "        vertical-align: top;\n",
       "    }\n",
       "\n",
       "    .dataframe thead th {\n",
       "        text-align: right;\n",
       "    }\n",
       "</style>\n",
       "<table border=\"1\" class=\"dataframe\">\n",
       "  <thead>\n",
       "    <tr style=\"text-align: right;\">\n",
       "      <th></th>\n",
       "      <th>gender</th>\n",
       "      <th>age</th>\n",
       "      <th>educational_level</th>\n",
       "      <th>interest_level</th>\n",
       "      <th>depressed_level</th>\n",
       "      <th>sleepy_level</th>\n",
       "      <th>energy_level</th>\n",
       "      <th>appetite_level</th>\n",
       "      <th>self_worth_level</th>\n",
       "      <th>concentrating_level</th>\n",
       "      <th>restless_level</th>\n",
       "      <th>suicidal_level</th>\n",
       "      <th>employment</th>\n",
       "      <th>housing_situation</th>\n",
       "      <th>studying_spending</th>\n",
       "      <th>electronic_devices</th>\n",
       "      <th>social_media_time</th>\n",
       "      <th>GPA</th>\n",
       "    </tr>\n",
       "  </thead>\n",
       "  <tbody>\n",
       "    <tr>\n",
       "      <th>0</th>\n",
       "      <td>Male</td>\n",
       "      <td>19 to 24 years</td>\n",
       "      <td>College - Bachelor's</td>\n",
       "      <td>3</td>\n",
       "      <td>2</td>\n",
       "      <td>4</td>\n",
       "      <td>4</td>\n",
       "      <td>3</td>\n",
       "      <td>3</td>\n",
       "      <td>4</td>\n",
       "      <td>3</td>\n",
       "      <td>2</td>\n",
       "      <td>Part time</td>\n",
       "      <td>Home (with parents)</td>\n",
       "      <td>2 - 4 hours</td>\n",
       "      <td>4 - 6</td>\n",
       "      <td>More than 4 Hours</td>\n",
       "      <td>2.30</td>\n",
       "    </tr>\n",
       "    <tr>\n",
       "      <th>1</th>\n",
       "      <td>Male</td>\n",
       "      <td>19 to 24 years</td>\n",
       "      <td>College - Bachelor's</td>\n",
       "      <td>2</td>\n",
       "      <td>1</td>\n",
       "      <td>2</td>\n",
       "      <td>1</td>\n",
       "      <td>1</td>\n",
       "      <td>1</td>\n",
       "      <td>1</td>\n",
       "      <td>1</td>\n",
       "      <td>1</td>\n",
       "      <td>Part time</td>\n",
       "      <td>University hall of residence</td>\n",
       "      <td>1 - 2 hours</td>\n",
       "      <td>1 - 3</td>\n",
       "      <td>1 - 2 Hours</td>\n",
       "      <td>2.70</td>\n",
       "    </tr>\n",
       "    <tr>\n",
       "      <th>2</th>\n",
       "      <td>Female</td>\n",
       "      <td>19 to 24 years</td>\n",
       "      <td>College - Bachelor's</td>\n",
       "      <td>2</td>\n",
       "      <td>2</td>\n",
       "      <td>3</td>\n",
       "      <td>3</td>\n",
       "      <td>1</td>\n",
       "      <td>1</td>\n",
       "      <td>2</td>\n",
       "      <td>2</td>\n",
       "      <td>1</td>\n",
       "      <td>Part time</td>\n",
       "      <td>Home (with parents)</td>\n",
       "      <td>1 - 2 hours</td>\n",
       "      <td>4 - 6</td>\n",
       "      <td>2 - 4 Hours</td>\n",
       "      <td>2.75</td>\n",
       "    </tr>\n",
       "    <tr>\n",
       "      <th>3</th>\n",
       "      <td>Female</td>\n",
       "      <td>19 to 24 years</td>\n",
       "      <td>College - Bachelor's</td>\n",
       "      <td>3</td>\n",
       "      <td>1</td>\n",
       "      <td>4</td>\n",
       "      <td>3</td>\n",
       "      <td>1</td>\n",
       "      <td>2</td>\n",
       "      <td>1</td>\n",
       "      <td>1</td>\n",
       "      <td>1</td>\n",
       "      <td>Full time</td>\n",
       "      <td>Home (with parents)</td>\n",
       "      <td>1 - 2 hours</td>\n",
       "      <td>4 - 6</td>\n",
       "      <td>More than 4 Hours</td>\n",
       "      <td>3.97</td>\n",
       "    </tr>\n",
       "    <tr>\n",
       "      <th>4</th>\n",
       "      <td>Female</td>\n",
       "      <td>19 to 24 years</td>\n",
       "      <td>College - Bachelor's</td>\n",
       "      <td>2</td>\n",
       "      <td>4</td>\n",
       "      <td>4</td>\n",
       "      <td>3</td>\n",
       "      <td>2</td>\n",
       "      <td>3</td>\n",
       "      <td>4</td>\n",
       "      <td>1</td>\n",
       "      <td>3</td>\n",
       "      <td>Unemployed</td>\n",
       "      <td>Home (with parents)</td>\n",
       "      <td>1 - 2 hours</td>\n",
       "      <td>1 - 3</td>\n",
       "      <td>More than 4 Hours</td>\n",
       "      <td>2.97</td>\n",
       "    </tr>\n",
       "    <tr>\n",
       "      <th>...</th>\n",
       "      <td>...</td>\n",
       "      <td>...</td>\n",
       "      <td>...</td>\n",
       "      <td>...</td>\n",
       "      <td>...</td>\n",
       "      <td>...</td>\n",
       "      <td>...</td>\n",
       "      <td>...</td>\n",
       "      <td>...</td>\n",
       "      <td>...</td>\n",
       "      <td>...</td>\n",
       "      <td>...</td>\n",
       "      <td>...</td>\n",
       "      <td>...</td>\n",
       "      <td>...</td>\n",
       "      <td>...</td>\n",
       "      <td>...</td>\n",
       "      <td>...</td>\n",
       "    </tr>\n",
       "    <tr>\n",
       "      <th>199</th>\n",
       "      <td>Female</td>\n",
       "      <td>25 years and above</td>\n",
       "      <td>College - Bachelor's</td>\n",
       "      <td>4</td>\n",
       "      <td>3</td>\n",
       "      <td>4</td>\n",
       "      <td>4</td>\n",
       "      <td>4</td>\n",
       "      <td>4</td>\n",
       "      <td>4</td>\n",
       "      <td>3</td>\n",
       "      <td>2</td>\n",
       "      <td>Full time</td>\n",
       "      <td>Private rented accommodation</td>\n",
       "      <td>2 - 4 hours</td>\n",
       "      <td>4 - 6</td>\n",
       "      <td>2 - 4 Hours</td>\n",
       "      <td>1.30</td>\n",
       "    </tr>\n",
       "    <tr>\n",
       "      <th>200</th>\n",
       "      <td>Female</td>\n",
       "      <td>19 to 24 years</td>\n",
       "      <td>College - Bachelor's</td>\n",
       "      <td>4</td>\n",
       "      <td>4</td>\n",
       "      <td>2</td>\n",
       "      <td>4</td>\n",
       "      <td>3</td>\n",
       "      <td>4</td>\n",
       "      <td>4</td>\n",
       "      <td>3</td>\n",
       "      <td>2</td>\n",
       "      <td>Unemployed</td>\n",
       "      <td>Home (with parents)</td>\n",
       "      <td>2 - 4 hours</td>\n",
       "      <td>1 - 3</td>\n",
       "      <td>2 - 4 Hours</td>\n",
       "      <td>4.00</td>\n",
       "    </tr>\n",
       "    <tr>\n",
       "      <th>201</th>\n",
       "      <td>Female</td>\n",
       "      <td>25 years and above</td>\n",
       "      <td>College - Bachelor's</td>\n",
       "      <td>4</td>\n",
       "      <td>4</td>\n",
       "      <td>2</td>\n",
       "      <td>2</td>\n",
       "      <td>2</td>\n",
       "      <td>2</td>\n",
       "      <td>2</td>\n",
       "      <td>2</td>\n",
       "      <td>3</td>\n",
       "      <td>Full time</td>\n",
       "      <td>Home (with parents)</td>\n",
       "      <td>More than 4 hours</td>\n",
       "      <td>1 - 3</td>\n",
       "      <td>More than 4 Hours</td>\n",
       "      <td>4.00</td>\n",
       "    </tr>\n",
       "    <tr>\n",
       "      <th>202</th>\n",
       "      <td>Female</td>\n",
       "      <td>19 to 24 years</td>\n",
       "      <td>College - Bachelor's</td>\n",
       "      <td>3</td>\n",
       "      <td>3</td>\n",
       "      <td>3</td>\n",
       "      <td>3</td>\n",
       "      <td>3</td>\n",
       "      <td>3</td>\n",
       "      <td>3</td>\n",
       "      <td>3</td>\n",
       "      <td>2</td>\n",
       "      <td>Full time</td>\n",
       "      <td>Private rented accommodation</td>\n",
       "      <td>2 - 4 hours</td>\n",
       "      <td>4 - 6</td>\n",
       "      <td>2 - 4 Hours</td>\n",
       "      <td>3.35</td>\n",
       "    </tr>\n",
       "    <tr>\n",
       "      <th>203</th>\n",
       "      <td>Female</td>\n",
       "      <td>25 years and above</td>\n",
       "      <td>College - Bachelor's</td>\n",
       "      <td>3</td>\n",
       "      <td>4</td>\n",
       "      <td>4</td>\n",
       "      <td>3</td>\n",
       "      <td>4</td>\n",
       "      <td>4</td>\n",
       "      <td>2</td>\n",
       "      <td>2</td>\n",
       "      <td>3</td>\n",
       "      <td>Full time</td>\n",
       "      <td>Home (with parents)</td>\n",
       "      <td>2 - 4 hours</td>\n",
       "      <td>1 - 3</td>\n",
       "      <td>2 - 4 Hours</td>\n",
       "      <td>3.35</td>\n",
       "    </tr>\n",
       "  </tbody>\n",
       "</table>\n",
       "<p>204 rows × 18 columns</p>\n",
       "</div>"
      ],
      "text/plain": [
       "     gender                 age     educational_level  interest_level  \\\n",
       "0      Male      19 to 24 years  College - Bachelor's               3   \n",
       "1      Male      19 to 24 years  College - Bachelor's               2   \n",
       "2    Female      19 to 24 years  College - Bachelor's               2   \n",
       "3    Female      19 to 24 years  College - Bachelor's               3   \n",
       "4    Female      19 to 24 years  College - Bachelor's               2   \n",
       "..      ...                 ...                   ...             ...   \n",
       "199  Female  25 years and above  College - Bachelor's               4   \n",
       "200  Female      19 to 24 years  College - Bachelor's               4   \n",
       "201  Female  25 years and above  College - Bachelor's               4   \n",
       "202  Female      19 to 24 years  College - Bachelor's               3   \n",
       "203  Female  25 years and above  College - Bachelor's               3   \n",
       "\n",
       "     depressed_level  sleepy_level  energy_level  appetite_level  \\\n",
       "0                  2             4             4               3   \n",
       "1                  1             2             1               1   \n",
       "2                  2             3             3               1   \n",
       "3                  1             4             3               1   \n",
       "4                  4             4             3               2   \n",
       "..               ...           ...           ...             ...   \n",
       "199                3             4             4               4   \n",
       "200                4             2             4               3   \n",
       "201                4             2             2               2   \n",
       "202                3             3             3               3   \n",
       "203                4             4             3               4   \n",
       "\n",
       "     self_worth_level  concentrating_level  restless_level  suicidal_level  \\\n",
       "0                   3                    4               3               2   \n",
       "1                   1                    1               1               1   \n",
       "2                   1                    2               2               1   \n",
       "3                   2                    1               1               1   \n",
       "4                   3                    4               1               3   \n",
       "..                ...                  ...             ...             ...   \n",
       "199                 4                    4               3               2   \n",
       "200                 4                    4               3               2   \n",
       "201                 2                    2               2               3   \n",
       "202                 3                    3               3               2   \n",
       "203                 4                    2               2               3   \n",
       "\n",
       "     employment             housing_situation  studying_spending  \\\n",
       "0     Part time           Home (with parents)        2 - 4 hours   \n",
       "1     Part time  University hall of residence        1 - 2 hours   \n",
       "2     Part time           Home (with parents)        1 - 2 hours   \n",
       "3     Full time           Home (with parents)        1 - 2 hours   \n",
       "4    Unemployed           Home (with parents)        1 - 2 hours   \n",
       "..          ...                           ...                ...   \n",
       "199   Full time  Private rented accommodation        2 - 4 hours   \n",
       "200  Unemployed           Home (with parents)        2 - 4 hours   \n",
       "201   Full time           Home (with parents)  More than 4 hours   \n",
       "202   Full time  Private rented accommodation        2 - 4 hours   \n",
       "203   Full time           Home (with parents)        2 - 4 hours   \n",
       "\n",
       "    electronic_devices  social_media_time   GPA  \n",
       "0                4 - 6  More than 4 Hours  2.30  \n",
       "1                1 - 3        1 - 2 Hours  2.70  \n",
       "2                4 - 6        2 - 4 Hours  2.75  \n",
       "3                4 - 6  More than 4 Hours  3.97  \n",
       "4                1 - 3  More than 4 Hours  2.97  \n",
       "..                 ...                ...   ...  \n",
       "199              4 - 6        2 - 4 Hours  1.30  \n",
       "200              1 - 3        2 - 4 Hours  4.00  \n",
       "201              1 - 3  More than 4 Hours  4.00  \n",
       "202              4 - 6        2 - 4 Hours  3.35  \n",
       "203              1 - 3        2 - 4 Hours  3.35  \n",
       "\n",
       "[204 rows x 18 columns]"
      ]
     },
     "execution_count": 464,
     "metadata": {},
     "output_type": "execute_result"
    }
   ],
   "source": [
    "bachelors_df"
   ]
  },
  {
   "cell_type": "code",
   "execution_count": 465,
   "id": "d19638c8",
   "metadata": {},
   "outputs": [],
   "source": [
    "## CLAIRE QUESTION\n",
    "\n",
    "# Does living at home with parents affect a college students mental health \n",
    "    #(depression level, interest level, sleepy level, energy level, appetite level, self-worth level, \n",
    "        # concentrating level, restless level, and suicidal level)?\n",
    "        \n",
    "# Null: If mental health is not related to a college students living situation, \n",
    "    # then mental health levels will be the same in students living at home compared to \n",
    "    # students living in private accommodations.\n",
    "    \n",
    "# Alternate: If mental health is related to a college students living situation, \n",
    "    # then a student living at home with parents will report greater mental health problems \n",
    "    # than a student living in private accommodations."
   ]
  },
  {
   "cell_type": "code",
   "execution_count": 466,
   "id": "aa9ecba6",
   "metadata": {},
   "outputs": [
    {
     "data": {
      "text/html": [
       "<div>\n",
       "<style scoped>\n",
       "    .dataframe tbody tr th:only-of-type {\n",
       "        vertical-align: middle;\n",
       "    }\n",
       "\n",
       "    .dataframe tbody tr th {\n",
       "        vertical-align: top;\n",
       "    }\n",
       "\n",
       "    .dataframe thead th {\n",
       "        text-align: right;\n",
       "    }\n",
       "</style>\n",
       "<table border=\"1\" class=\"dataframe\">\n",
       "  <thead>\n",
       "    <tr style=\"text-align: right;\">\n",
       "      <th></th>\n",
       "      <th>housing_situation</th>\n",
       "      <th>interest_level</th>\n",
       "      <th>depressed_level</th>\n",
       "      <th>sleepy_level</th>\n",
       "      <th>energy_level</th>\n",
       "      <th>appetite_level</th>\n",
       "      <th>self_worth_level</th>\n",
       "      <th>concentrating_level</th>\n",
       "      <th>restless_level</th>\n",
       "      <th>suicidal_level</th>\n",
       "    </tr>\n",
       "  </thead>\n",
       "  <tbody>\n",
       "    <tr>\n",
       "      <th>0</th>\n",
       "      <td>Home (with parents)</td>\n",
       "      <td>3</td>\n",
       "      <td>2</td>\n",
       "      <td>4</td>\n",
       "      <td>4</td>\n",
       "      <td>3</td>\n",
       "      <td>3</td>\n",
       "      <td>4</td>\n",
       "      <td>3</td>\n",
       "      <td>2</td>\n",
       "    </tr>\n",
       "    <tr>\n",
       "      <th>1</th>\n",
       "      <td>University hall of residence</td>\n",
       "      <td>2</td>\n",
       "      <td>1</td>\n",
       "      <td>2</td>\n",
       "      <td>1</td>\n",
       "      <td>1</td>\n",
       "      <td>1</td>\n",
       "      <td>1</td>\n",
       "      <td>1</td>\n",
       "      <td>1</td>\n",
       "    </tr>\n",
       "    <tr>\n",
       "      <th>2</th>\n",
       "      <td>Home (with parents)</td>\n",
       "      <td>2</td>\n",
       "      <td>2</td>\n",
       "      <td>3</td>\n",
       "      <td>3</td>\n",
       "      <td>1</td>\n",
       "      <td>1</td>\n",
       "      <td>2</td>\n",
       "      <td>2</td>\n",
       "      <td>1</td>\n",
       "    </tr>\n",
       "    <tr>\n",
       "      <th>3</th>\n",
       "      <td>Home (with parents)</td>\n",
       "      <td>3</td>\n",
       "      <td>1</td>\n",
       "      <td>4</td>\n",
       "      <td>3</td>\n",
       "      <td>1</td>\n",
       "      <td>2</td>\n",
       "      <td>1</td>\n",
       "      <td>1</td>\n",
       "      <td>1</td>\n",
       "    </tr>\n",
       "    <tr>\n",
       "      <th>4</th>\n",
       "      <td>Home (with parents)</td>\n",
       "      <td>2</td>\n",
       "      <td>4</td>\n",
       "      <td>4</td>\n",
       "      <td>3</td>\n",
       "      <td>2</td>\n",
       "      <td>3</td>\n",
       "      <td>4</td>\n",
       "      <td>1</td>\n",
       "      <td>3</td>\n",
       "    </tr>\n",
       "    <tr>\n",
       "      <th>...</th>\n",
       "      <td>...</td>\n",
       "      <td>...</td>\n",
       "      <td>...</td>\n",
       "      <td>...</td>\n",
       "      <td>...</td>\n",
       "      <td>...</td>\n",
       "      <td>...</td>\n",
       "      <td>...</td>\n",
       "      <td>...</td>\n",
       "      <td>...</td>\n",
       "    </tr>\n",
       "    <tr>\n",
       "      <th>199</th>\n",
       "      <td>Private rented accommodation</td>\n",
       "      <td>4</td>\n",
       "      <td>3</td>\n",
       "      <td>4</td>\n",
       "      <td>4</td>\n",
       "      <td>4</td>\n",
       "      <td>4</td>\n",
       "      <td>4</td>\n",
       "      <td>3</td>\n",
       "      <td>2</td>\n",
       "    </tr>\n",
       "    <tr>\n",
       "      <th>200</th>\n",
       "      <td>Home (with parents)</td>\n",
       "      <td>4</td>\n",
       "      <td>4</td>\n",
       "      <td>2</td>\n",
       "      <td>4</td>\n",
       "      <td>3</td>\n",
       "      <td>4</td>\n",
       "      <td>4</td>\n",
       "      <td>3</td>\n",
       "      <td>2</td>\n",
       "    </tr>\n",
       "    <tr>\n",
       "      <th>201</th>\n",
       "      <td>Home (with parents)</td>\n",
       "      <td>4</td>\n",
       "      <td>4</td>\n",
       "      <td>2</td>\n",
       "      <td>2</td>\n",
       "      <td>2</td>\n",
       "      <td>2</td>\n",
       "      <td>2</td>\n",
       "      <td>2</td>\n",
       "      <td>3</td>\n",
       "    </tr>\n",
       "    <tr>\n",
       "      <th>202</th>\n",
       "      <td>Private rented accommodation</td>\n",
       "      <td>3</td>\n",
       "      <td>3</td>\n",
       "      <td>3</td>\n",
       "      <td>3</td>\n",
       "      <td>3</td>\n",
       "      <td>3</td>\n",
       "      <td>3</td>\n",
       "      <td>3</td>\n",
       "      <td>2</td>\n",
       "    </tr>\n",
       "    <tr>\n",
       "      <th>203</th>\n",
       "      <td>Home (with parents)</td>\n",
       "      <td>3</td>\n",
       "      <td>4</td>\n",
       "      <td>4</td>\n",
       "      <td>3</td>\n",
       "      <td>4</td>\n",
       "      <td>4</td>\n",
       "      <td>2</td>\n",
       "      <td>2</td>\n",
       "      <td>3</td>\n",
       "    </tr>\n",
       "  </tbody>\n",
       "</table>\n",
       "<p>204 rows × 10 columns</p>\n",
       "</div>"
      ],
      "text/plain": [
       "                housing_situation  interest_level  depressed_level  \\\n",
       "0             Home (with parents)               3                2   \n",
       "1    University hall of residence               2                1   \n",
       "2             Home (with parents)               2                2   \n",
       "3             Home (with parents)               3                1   \n",
       "4             Home (with parents)               2                4   \n",
       "..                            ...             ...              ...   \n",
       "199  Private rented accommodation               4                3   \n",
       "200           Home (with parents)               4                4   \n",
       "201           Home (with parents)               4                4   \n",
       "202  Private rented accommodation               3                3   \n",
       "203           Home (with parents)               3                4   \n",
       "\n",
       "     sleepy_level  energy_level  appetite_level  self_worth_level  \\\n",
       "0               4             4               3                 3   \n",
       "1               2             1               1                 1   \n",
       "2               3             3               1                 1   \n",
       "3               4             3               1                 2   \n",
       "4               4             3               2                 3   \n",
       "..            ...           ...             ...               ...   \n",
       "199             4             4               4                 4   \n",
       "200             2             4               3                 4   \n",
       "201             2             2               2                 2   \n",
       "202             3             3               3                 3   \n",
       "203             4             3               4                 4   \n",
       "\n",
       "     concentrating_level  restless_level  suicidal_level  \n",
       "0                      4               3               2  \n",
       "1                      1               1               1  \n",
       "2                      2               2               1  \n",
       "3                      1               1               1  \n",
       "4                      4               1               3  \n",
       "..                   ...             ...             ...  \n",
       "199                    4               3               2  \n",
       "200                    4               3               2  \n",
       "201                    2               2               3  \n",
       "202                    3               3               2  \n",
       "203                    2               2               3  \n",
       "\n",
       "[204 rows x 10 columns]"
      ]
     },
     "execution_count": 466,
     "metadata": {},
     "output_type": "execute_result"
    }
   ],
   "source": [
    "# make a new dataframe only with columns i'm interested in \n",
    "living_df = bachelors_df[[\"housing_situation\", \"interest_level\", \"depressed_level\", \"sleepy_level\", \n",
    "                          \"energy_level\", \"appetite_level\", \"self_worth_level\", \"concentrating_level\", \n",
    "                          \"restless_level\", \"suicidal_level\"]]\n",
    "living_df"
   ]
  },
  {
   "cell_type": "code",
   "execution_count": 467,
   "id": "5fc7143d",
   "metadata": {
    "scrolled": false
   },
   "outputs": [
    {
     "data": {
      "text/plain": [
       "Private rented accommodation    114\n",
       "Home (with parents)              89\n",
       "University hall of residence      1\n",
       "Name: housing_situation, dtype: int64"
      ]
     },
     "execution_count": 467,
     "metadata": {},
     "output_type": "execute_result"
    }
   ],
   "source": [
    "# look at different housing siutations\n",
    "living_df[\"housing_situation\"].value_counts()"
   ]
  },
  {
   "cell_type": "code",
   "execution_count": 468,
   "id": "5b413a13",
   "metadata": {},
   "outputs": [
    {
     "data": {
      "text/html": [
       "<div>\n",
       "<style scoped>\n",
       "    .dataframe tbody tr th:only-of-type {\n",
       "        vertical-align: middle;\n",
       "    }\n",
       "\n",
       "    .dataframe tbody tr th {\n",
       "        vertical-align: top;\n",
       "    }\n",
       "\n",
       "    .dataframe thead th {\n",
       "        text-align: right;\n",
       "    }\n",
       "</style>\n",
       "<table border=\"1\" class=\"dataframe\">\n",
       "  <thead>\n",
       "    <tr style=\"text-align: right;\">\n",
       "      <th></th>\n",
       "      <th>housing_situation</th>\n",
       "      <th>interest_level</th>\n",
       "      <th>depressed_level</th>\n",
       "      <th>sleepy_level</th>\n",
       "      <th>energy_level</th>\n",
       "      <th>appetite_level</th>\n",
       "      <th>self_worth_level</th>\n",
       "      <th>concentrating_level</th>\n",
       "      <th>restless_level</th>\n",
       "      <th>suicidal_level</th>\n",
       "    </tr>\n",
       "  </thead>\n",
       "  <tbody>\n",
       "    <tr>\n",
       "      <th>0</th>\n",
       "      <td>Home (with parents)</td>\n",
       "      <td>3</td>\n",
       "      <td>2</td>\n",
       "      <td>4</td>\n",
       "      <td>4</td>\n",
       "      <td>3</td>\n",
       "      <td>3</td>\n",
       "      <td>4</td>\n",
       "      <td>3</td>\n",
       "      <td>2</td>\n",
       "    </tr>\n",
       "    <tr>\n",
       "      <th>2</th>\n",
       "      <td>Home (with parents)</td>\n",
       "      <td>2</td>\n",
       "      <td>2</td>\n",
       "      <td>3</td>\n",
       "      <td>3</td>\n",
       "      <td>1</td>\n",
       "      <td>1</td>\n",
       "      <td>2</td>\n",
       "      <td>2</td>\n",
       "      <td>1</td>\n",
       "    </tr>\n",
       "    <tr>\n",
       "      <th>3</th>\n",
       "      <td>Home (with parents)</td>\n",
       "      <td>3</td>\n",
       "      <td>1</td>\n",
       "      <td>4</td>\n",
       "      <td>3</td>\n",
       "      <td>1</td>\n",
       "      <td>2</td>\n",
       "      <td>1</td>\n",
       "      <td>1</td>\n",
       "      <td>1</td>\n",
       "    </tr>\n",
       "    <tr>\n",
       "      <th>4</th>\n",
       "      <td>Home (with parents)</td>\n",
       "      <td>2</td>\n",
       "      <td>4</td>\n",
       "      <td>4</td>\n",
       "      <td>3</td>\n",
       "      <td>2</td>\n",
       "      <td>3</td>\n",
       "      <td>4</td>\n",
       "      <td>1</td>\n",
       "      <td>3</td>\n",
       "    </tr>\n",
       "    <tr>\n",
       "      <th>5</th>\n",
       "      <td>Private rented accommodation</td>\n",
       "      <td>1</td>\n",
       "      <td>1</td>\n",
       "      <td>1</td>\n",
       "      <td>1</td>\n",
       "      <td>2</td>\n",
       "      <td>2</td>\n",
       "      <td>2</td>\n",
       "      <td>1</td>\n",
       "      <td>1</td>\n",
       "    </tr>\n",
       "    <tr>\n",
       "      <th>...</th>\n",
       "      <td>...</td>\n",
       "      <td>...</td>\n",
       "      <td>...</td>\n",
       "      <td>...</td>\n",
       "      <td>...</td>\n",
       "      <td>...</td>\n",
       "      <td>...</td>\n",
       "      <td>...</td>\n",
       "      <td>...</td>\n",
       "      <td>...</td>\n",
       "    </tr>\n",
       "    <tr>\n",
       "      <th>199</th>\n",
       "      <td>Private rented accommodation</td>\n",
       "      <td>4</td>\n",
       "      <td>3</td>\n",
       "      <td>4</td>\n",
       "      <td>4</td>\n",
       "      <td>4</td>\n",
       "      <td>4</td>\n",
       "      <td>4</td>\n",
       "      <td>3</td>\n",
       "      <td>2</td>\n",
       "    </tr>\n",
       "    <tr>\n",
       "      <th>200</th>\n",
       "      <td>Home (with parents)</td>\n",
       "      <td>4</td>\n",
       "      <td>4</td>\n",
       "      <td>2</td>\n",
       "      <td>4</td>\n",
       "      <td>3</td>\n",
       "      <td>4</td>\n",
       "      <td>4</td>\n",
       "      <td>3</td>\n",
       "      <td>2</td>\n",
       "    </tr>\n",
       "    <tr>\n",
       "      <th>201</th>\n",
       "      <td>Home (with parents)</td>\n",
       "      <td>4</td>\n",
       "      <td>4</td>\n",
       "      <td>2</td>\n",
       "      <td>2</td>\n",
       "      <td>2</td>\n",
       "      <td>2</td>\n",
       "      <td>2</td>\n",
       "      <td>2</td>\n",
       "      <td>3</td>\n",
       "    </tr>\n",
       "    <tr>\n",
       "      <th>202</th>\n",
       "      <td>Private rented accommodation</td>\n",
       "      <td>3</td>\n",
       "      <td>3</td>\n",
       "      <td>3</td>\n",
       "      <td>3</td>\n",
       "      <td>3</td>\n",
       "      <td>3</td>\n",
       "      <td>3</td>\n",
       "      <td>3</td>\n",
       "      <td>2</td>\n",
       "    </tr>\n",
       "    <tr>\n",
       "      <th>203</th>\n",
       "      <td>Home (with parents)</td>\n",
       "      <td>3</td>\n",
       "      <td>4</td>\n",
       "      <td>4</td>\n",
       "      <td>3</td>\n",
       "      <td>4</td>\n",
       "      <td>4</td>\n",
       "      <td>2</td>\n",
       "      <td>2</td>\n",
       "      <td>3</td>\n",
       "    </tr>\n",
       "  </tbody>\n",
       "</table>\n",
       "<p>203 rows × 10 columns</p>\n",
       "</div>"
      ],
      "text/plain": [
       "                housing_situation  interest_level  depressed_level  \\\n",
       "0             Home (with parents)               3                2   \n",
       "2             Home (with parents)               2                2   \n",
       "3             Home (with parents)               3                1   \n",
       "4             Home (with parents)               2                4   \n",
       "5    Private rented accommodation               1                1   \n",
       "..                            ...             ...              ...   \n",
       "199  Private rented accommodation               4                3   \n",
       "200           Home (with parents)               4                4   \n",
       "201           Home (with parents)               4                4   \n",
       "202  Private rented accommodation               3                3   \n",
       "203           Home (with parents)               3                4   \n",
       "\n",
       "     sleepy_level  energy_level  appetite_level  self_worth_level  \\\n",
       "0               4             4               3                 3   \n",
       "2               3             3               1                 1   \n",
       "3               4             3               1                 2   \n",
       "4               4             3               2                 3   \n",
       "5               1             1               2                 2   \n",
       "..            ...           ...             ...               ...   \n",
       "199             4             4               4                 4   \n",
       "200             2             4               3                 4   \n",
       "201             2             2               2                 2   \n",
       "202             3             3               3                 3   \n",
       "203             4             3               4                 4   \n",
       "\n",
       "     concentrating_level  restless_level  suicidal_level  \n",
       "0                      4               3               2  \n",
       "2                      2               2               1  \n",
       "3                      1               1               1  \n",
       "4                      4               1               3  \n",
       "5                      2               1               1  \n",
       "..                   ...             ...             ...  \n",
       "199                    4               3               2  \n",
       "200                    4               3               2  \n",
       "201                    2               2               3  \n",
       "202                    3               3               2  \n",
       "203                    2               2               3  \n",
       "\n",
       "[203 rows x 10 columns]"
      ]
     },
     "execution_count": 468,
     "metadata": {},
     "output_type": "execute_result"
    }
   ],
   "source": [
    "# only look at private rented accomodation and home (with parents)\n",
    "filtered_df = living_df.loc[living_df[\"housing_situation\"].isin([\"Private rented accommodation\", \"Home (with parents)\"])]\n",
    "filtered_df"
   ]
  },
  {
   "cell_type": "code",
   "execution_count": 469,
   "id": "a93c86e1",
   "metadata": {},
   "outputs": [
    {
     "data": {
      "text/plain": [
       "Private rented accommodation    114\n",
       "Home (with parents)              89\n",
       "Name: housing_situation, dtype: int64"
      ]
     },
     "execution_count": 469,
     "metadata": {},
     "output_type": "execute_result"
    }
   ],
   "source": [
    "# check to make sure University hall of residence was dropped\n",
    "filtered_df[\"housing_situation\"].value_counts()"
   ]
  },
  {
   "cell_type": "code",
   "execution_count": 470,
   "id": "ab4863b8",
   "metadata": {
    "scrolled": true
   },
   "outputs": [],
   "source": [
    "# new data frame for private accomodation\n",
    "# private_df = filtered_df.loc[living_df[\"housing_situation\"] == \"Private rented accommodation\"]\n",
    "\n",
    "# reset index \n",
    "# private_df = private_df.reset_index(drop = True)\n",
    "\n",
    "# private_df"
   ]
  },
  {
   "cell_type": "code",
   "execution_count": 471,
   "id": "43890f90",
   "metadata": {
    "scrolled": true
   },
   "outputs": [],
   "source": [
    "# obtain summary stastistics\n",
    "# private_df.describe()"
   ]
  },
  {
   "cell_type": "code",
   "execution_count": 472,
   "id": "b8a79a97",
   "metadata": {},
   "outputs": [],
   "source": [
    "# new data frame for home (with parents) accomodation\n",
    "# home_df = filtered_df.loc[living_df[\"housing_situation\"] == \"Home (with parents)\"]\n",
    "# home_df = home_df.reset_index(drop = True)\n",
    "# home_df"
   ]
  },
  {
   "cell_type": "code",
   "execution_count": 473,
   "id": "4ae46b82",
   "metadata": {},
   "outputs": [],
   "source": [
    "# obtain summary statistics\n",
    "# home_df.describe()"
   ]
  },
  {
   "cell_type": "code",
   "execution_count": 474,
   "id": "b15024ef",
   "metadata": {},
   "outputs": [],
   "source": [
    "# look at percentage of students living at home vs private \n",
    "private_students = filtered_df.loc[living_df[\"housing_situation\"] == \"Private rented accommodation\"]\n",
    "private_students_count = len(private_students)\n",
    "\n",
    "home_students = filtered_df.loc[living_df[\"housing_situation\"] == \"Home (with parents)\"]\n",
    "home_students_count = len(home_students)"
   ]
  },
  {
   "cell_type": "code",
   "execution_count": 475,
   "id": "647ed0b6",
   "metadata": {},
   "outputs": [],
   "source": [
    "total_student = len(living_df[\"housing_situation\"])"
   ]
  },
  {
   "cell_type": "code",
   "execution_count": 476,
   "id": "a3f08a48",
   "metadata": {},
   "outputs": [],
   "source": [
    "percent_private = round(private_students_count / total_student *100, 2)\n",
    "percent_home = round(home_students_count / total_student *100, 2)"
   ]
  },
  {
   "cell_type": "code",
   "execution_count": 477,
   "id": "98766efb",
   "metadata": {
    "scrolled": true
   },
   "outputs": [
    {
     "data": {
      "text/html": [
       "<div>\n",
       "<style scoped>\n",
       "    .dataframe tbody tr th:only-of-type {\n",
       "        vertical-align: middle;\n",
       "    }\n",
       "\n",
       "    .dataframe tbody tr th {\n",
       "        vertical-align: top;\n",
       "    }\n",
       "\n",
       "    .dataframe thead th {\n",
       "        text-align: right;\n",
       "    }\n",
       "</style>\n",
       "<table border=\"1\" class=\"dataframe\">\n",
       "  <thead>\n",
       "    <tr style=\"text-align: right;\">\n",
       "      <th></th>\n",
       "      <th>% Private</th>\n",
       "      <th>% Home</th>\n",
       "    </tr>\n",
       "  </thead>\n",
       "  <tbody>\n",
       "    <tr>\n",
       "      <th>0</th>\n",
       "      <td>55.88</td>\n",
       "      <td>43.63</td>\n",
       "    </tr>\n",
       "  </tbody>\n",
       "</table>\n",
       "</div>"
      ],
      "text/plain": [
       "   % Private  % Home\n",
       "0      55.88   43.63"
      ]
     },
     "execution_count": 477,
     "metadata": {},
     "output_type": "execute_result"
    }
   ],
   "source": [
    "housing_percent = [{\"% Private\": percent_private, \"% Home\": percent_home}]\n",
    "housing_percent_df = pd.DataFrame(housing_percent)\n",
    "housing_percent_df"
   ]
  },
  {
   "cell_type": "code",
   "execution_count": 478,
   "id": "d0b7afb0",
   "metadata": {},
   "outputs": [],
   "source": [
    "# make a pie chart \n",
    "data = [percent_private, percent_home]\n",
    "labels = [\"% Private\", \"% Home\"]\n",
    "colors = [\"rosybrown\", \"thistle\"]\n",
    "explode = (0.05,0)"
   ]
  },
  {
   "cell_type": "code",
   "execution_count": 479,
   "id": "3bbf6e21",
   "metadata": {},
   "outputs": [
    {
     "data": {
      "image/png": "[encoded data removed]",
      "text/plain": [
       "<Figure size 640x480 with 1 Axes>"
      ]
     },
     "metadata": {},
     "output_type": "display_data"
    }
   ],
   "source": [
    "plt.pie(data, labels=labels, explode=explode, colors=colors, autopct=\"%1.1f%%\", shadow=True, startangle=90)\n",
    "plt.title(\"Student Living Situation Distribution\")\n",
    "plt.show()"
   ]
  },
  {
   "cell_type": "code",
   "execution_count": 480,
   "id": "8b194b06",
   "metadata": {},
   "outputs": [
    {
     "data": {
      "text/plain": [
       "<Figure size 640x480 with 0 Axes>"
      ]
     },
     "metadata": {},
     "output_type": "display_data"
    }
   ],
   "source": [
    "student_pie_output_file = \"/Users/AttiasC16/Desktop/housing_pie.png\"\n",
    "plt.savefig(student_pie_output_file)\n",
    "plt.show()"
   ]
  },
  {
   "cell_type": "code",
   "execution_count": 481,
   "id": "b65d5bf2",
   "metadata": {},
   "outputs": [],
   "source": [
    "## INTEREST LEVEL"
   ]
  },
  {
   "cell_type": "code",
   "execution_count": 482,
   "id": "5c5c655f",
   "metadata": {},
   "outputs": [
    {
     "data": {
      "text/plain": [
       "housing_situation\n",
       "Home (with parents)             2.471910\n",
       "Private rented accommodation    2.359649\n",
       "Name: interest_level, dtype: float64"
      ]
     },
     "execution_count": 482,
     "metadata": {},
     "output_type": "execute_result"
    }
   ],
   "source": [
    "# look at mean interest level per housing sitation\n",
    "interest_avg = filtered_df.groupby([\"housing_situation\"]).mean()[\"interest_level\"]\n",
    "interest_avg"
   ]
  },
  {
   "cell_type": "code",
   "execution_count": 483,
   "id": "1e7c3d30",
   "metadata": {},
   "outputs": [
    {
     "data": {
      "text/plain": [
       "Ttest_indResult(statistic=-0.9000697438629391, pvalue=0.36922505353253854)"
      ]
     },
     "execution_count": 483,
     "metadata": {},
     "output_type": "execute_result"
    }
   ],
   "source": [
    "# run a t test to test for signigicance \n",
    "interest_population1 = filtered_df[filtered_df[\"housing_situation\"] == \"Private rented accommodation\"]\n",
    "interest_population1.interest_level.mean()\n",
    "\n",
    "interest_population2 = filtered_df[filtered_df[\"housing_situation\"] == \"Home (with parents)\"]\n",
    "interest_population2.interest_level.mean()\n",
    "\n",
    "interest_ret = stats.ttest_ind(interest_population1.interest_level, interest_population2.interest_level, equal_var=False)\n",
    "interest_ret"
   ]
  },
  {
   "cell_type": "code",
   "execution_count": 484,
   "id": "8a70e839",
   "metadata": {},
   "outputs": [
    {
     "data": {
      "text/plain": [
       "'0.36922505353253854 (0.369225) is Statistically Non-Significant (failed to reject the null hypothesis)'"
      ]
     },
     "execution_count": 484,
     "metadata": {},
     "output_type": "execute_result"
    }
   ],
   "source": [
    "# t test summary\n",
    "pvalue_eval(interest_ret[1])"
   ]
  },
  {
   "cell_type": "code",
   "execution_count": 485,
   "id": "7def27fe",
   "metadata": {},
   "outputs": [],
   "source": [
    "## DEPRESSION LEVEL"
   ]
  },
  {
   "cell_type": "code",
   "execution_count": 486,
   "id": "23ebf5cf",
   "metadata": {},
   "outputs": [
    {
     "data": {
      "text/plain": [
       "housing_situation\n",
       "Home (with parents)             2.292135\n",
       "Private rented accommodation    2.236842\n",
       "Name: depressed_level, dtype: float64"
      ]
     },
     "execution_count": 486,
     "metadata": {},
     "output_type": "execute_result"
    }
   ],
   "source": [
    "# look at mean depression level per housing sitation\n",
    "depressed_avg = filtered_df.groupby([\"housing_situation\"]).mean()[\"depressed_level\"]\n",
    "depressed_avg"
   ]
  },
  {
   "cell_type": "code",
   "execution_count": 487,
   "id": "c25d4d11",
   "metadata": {
    "scrolled": true
   },
   "outputs": [
    {
     "data": {
      "text/plain": [
       "Ttest_indResult(statistic=-0.3834323801338354, pvalue=0.7018375346654766)"
      ]
     },
     "execution_count": 487,
     "metadata": {},
     "output_type": "execute_result"
    }
   ],
   "source": [
    "# run a t test to test for signigicance \n",
    "depressed_population1 = filtered_df[filtered_df[\"housing_situation\"] == \"Private rented accommodation\"]\n",
    "depressed_population1.depressed_level.mean()\n",
    "\n",
    "depressed_population2 = filtered_df[filtered_df[\"housing_situation\"] == \"Home (with parents)\"]\n",
    "depressed_population2.depressed_level.mean()\n",
    "\n",
    "depressed_ret = stats.ttest_ind(depressed_population1.depressed_level, depressed_population2.depressed_level, equal_var=False)\n",
    "depressed_ret"
   ]
  },
  {
   "cell_type": "code",
   "execution_count": 488,
   "id": "6fc91a1a",
   "metadata": {},
   "outputs": [
    {
     "data": {
      "text/plain": [
       "'0.7018375346654766 (0.701838) is Statistically Non-Significant (failed to reject the null hypothesis)'"
      ]
     },
     "execution_count": 488,
     "metadata": {},
     "output_type": "execute_result"
    }
   ],
   "source": [
    "# t test summary\n",
    "pvalue_eval(depressed_ret[1])"
   ]
  },
  {
   "cell_type": "code",
   "execution_count": 489,
   "id": "b6d326d4",
   "metadata": {},
   "outputs": [],
   "source": [
    "## SLEEPY LEVEL"
   ]
  },
  {
   "cell_type": "code",
   "execution_count": 490,
   "id": "407d06ea",
   "metadata": {},
   "outputs": [
    {
     "data": {
      "text/plain": [
       "housing_situation\n",
       "Home (with parents)             2.988764\n",
       "Private rented accommodation    2.622807\n",
       "Name: sleepy_level, dtype: float64"
      ]
     },
     "execution_count": 490,
     "metadata": {},
     "output_type": "execute_result"
    }
   ],
   "source": [
    "# look at mean sleepy level per housing sitation\n",
    "sleepy_avg = filtered_df.groupby([\"housing_situation\"]).mean()[\"sleepy_level\"]\n",
    "sleepy_avg"
   ]
  },
  {
   "cell_type": "code",
   "execution_count": 491,
   "id": "9eb39ae7",
   "metadata": {},
   "outputs": [
    {
     "data": {
      "text/plain": [
       "Ttest_indResult(statistic=-2.395793269047011, pvalue=0.01750430659230779)"
      ]
     },
     "execution_count": 491,
     "metadata": {},
     "output_type": "execute_result"
    }
   ],
   "source": [
    "# run a t test to test for signigicance \n",
    "sleepy_population1 = filtered_df[filtered_df[\"housing_situation\"] == \"Private rented accommodation\"]\n",
    "sleepy_population1.sleepy_level.mean()\n",
    "\n",
    "sleepy_population2 = filtered_df[filtered_df[\"housing_situation\"] == \"Home (with parents)\"]\n",
    "sleepy_population2.sleepy_level.mean()\n",
    "\n",
    "sleepy_ret = stats.ttest_ind(sleepy_population1.sleepy_level, sleepy_population2.sleepy_level, equal_var=False)\n",
    "sleepy_ret"
   ]
  },
  {
   "cell_type": "code",
   "execution_count": 492,
   "id": "25dc8fac",
   "metadata": {},
   "outputs": [
    {
     "data": {
      "text/plain": [
       "'0.01750430659230779 (0.017504) is Statistically Significant (reject the null hypothesis)'"
      ]
     },
     "execution_count": 492,
     "metadata": {},
     "output_type": "execute_result"
    }
   ],
   "source": [
    "# t test summary\n",
    "pvalue_eval(sleepy_ret[1])"
   ]
  },
  {
   "cell_type": "code",
   "execution_count": 493,
   "id": "677bcbb1",
   "metadata": {},
   "outputs": [],
   "source": [
    "## ENERGY LEVEL"
   ]
  },
  {
   "cell_type": "code",
   "execution_count": 494,
   "id": "615c34e8",
   "metadata": {},
   "outputs": [
    {
     "data": {
      "text/plain": [
       "housing_situation\n",
       "Home (with parents)             2.910112\n",
       "Private rented accommodation    2.789474\n",
       "Name: energy_level, dtype: float64"
      ]
     },
     "execution_count": 494,
     "metadata": {},
     "output_type": "execute_result"
    }
   ],
   "source": [
    "# look at mean energy level per housing sitation\n",
    "energy_avg = filtered_df.groupby([\"housing_situation\"]).mean()[\"energy_level\"]\n",
    "energy_avg"
   ]
  },
  {
   "cell_type": "code",
   "execution_count": 495,
   "id": "dadbf591",
   "metadata": {},
   "outputs": [
    {
     "data": {
      "text/plain": [
       "Ttest_indResult(statistic=-0.852352660331828, pvalue=0.3950451855472421)"
      ]
     },
     "execution_count": 495,
     "metadata": {},
     "output_type": "execute_result"
    }
   ],
   "source": [
    "# run a t test to test for signigicance \n",
    "energy_population1 = filtered_df[filtered_df[\"housing_situation\"] == \"Private rented accommodation\"]\n",
    "energy_population1.energy_level.mean()\n",
    "\n",
    "energy_population2 = filtered_df[filtered_df[\"housing_situation\"] == \"Home (with parents)\"]\n",
    "energy_population2.energy_level.mean()\n",
    "\n",
    "energy_ret = stats.ttest_ind(energy_population1.energy_level, energy_population2.energy_level, equal_var=False)\n",
    "energy_ret"
   ]
  },
  {
   "cell_type": "code",
   "execution_count": 496,
   "id": "b2093d90",
   "metadata": {},
   "outputs": [
    {
     "data": {
      "text/plain": [
       "'0.3950451855472421 (0.395045) is Statistically Non-Significant (failed to reject the null hypothesis)'"
      ]
     },
     "execution_count": 496,
     "metadata": {},
     "output_type": "execute_result"
    }
   ],
   "source": [
    "# t test summary\n",
    "pvalue_eval(energy_ret[1])"
   ]
  },
  {
   "cell_type": "code",
   "execution_count": 497,
   "id": "48c36886",
   "metadata": {},
   "outputs": [],
   "source": [
    "## APPETITE LEVEL"
   ]
  },
  {
   "cell_type": "code",
   "execution_count": 498,
   "id": "4a01ce02",
   "metadata": {},
   "outputs": [
    {
     "data": {
      "text/plain": [
       "housing_situation\n",
       "Home (with parents)             2.606742\n",
       "Private rented accommodation    2.561404\n",
       "Name: appetite_level, dtype: float64"
      ]
     },
     "execution_count": 498,
     "metadata": {},
     "output_type": "execute_result"
    }
   ],
   "source": [
    "# look at mean appetite level per housing sitation\n",
    "appetite_avg = filtered_df.groupby([\"housing_situation\"]).mean()[\"appetite_level\"]\n",
    "appetite_avg"
   ]
  },
  {
   "cell_type": "code",
   "execution_count": 499,
   "id": "922527ab",
   "metadata": {},
   "outputs": [
    {
     "data": {
      "text/plain": [
       "Ttest_indResult(statistic=-0.2856802070070185, pvalue=0.7754306278723632)"
      ]
     },
     "execution_count": 499,
     "metadata": {},
     "output_type": "execute_result"
    }
   ],
   "source": [
    "# run a t test to test for signigicance \n",
    "appetite_population1 = filtered_df[filtered_df[\"housing_situation\"] == \"Private rented accommodation\"]\n",
    "appetite_population1.appetite_level.mean()\n",
    "\n",
    "appetite_population2 = filtered_df[filtered_df[\"housing_situation\"] == \"Home (with parents)\"]\n",
    "energy_population2.appetite_level.mean()\n",
    "\n",
    "appetite_ret = stats.ttest_ind(appetite_population1.appetite_level, appetite_population2.appetite_level, equal_var=False)\n",
    "appetite_ret"
   ]
  },
  {
   "cell_type": "code",
   "execution_count": 500,
   "id": "57acc1b7",
   "metadata": {},
   "outputs": [
    {
     "data": {
      "text/plain": [
       "'0.7754306278723632 (0.775431) is Statistically Non-Significant (failed to reject the null hypothesis)'"
      ]
     },
     "execution_count": 500,
     "metadata": {},
     "output_type": "execute_result"
    }
   ],
   "source": [
    "# t test summary\n",
    "pvalue_eval(appetite_ret[1])"
   ]
  },
  {
   "cell_type": "code",
   "execution_count": 501,
   "id": "16c5c25c",
   "metadata": {},
   "outputs": [],
   "source": [
    "## SELF-WORTH LEVEL"
   ]
  },
  {
   "cell_type": "code",
   "execution_count": 502,
   "id": "341bedf2",
   "metadata": {},
   "outputs": [
    {
     "data": {
      "text/plain": [
       "housing_situation\n",
       "Home (with parents)             2.595506\n",
       "Private rented accommodation    2.377193\n",
       "Name: self_worth_level, dtype: float64"
      ]
     },
     "execution_count": 502,
     "metadata": {},
     "output_type": "execute_result"
    }
   ],
   "source": [
    "# look at mean self-worth level per housing sitation\n",
    "self_worth_avg = filtered_df.groupby([\"housing_situation\"]).mean()[\"self_worth_level\"]\n",
    "self_worth_avg"
   ]
  },
  {
   "cell_type": "code",
   "execution_count": 503,
   "id": "ccd4967d",
   "metadata": {},
   "outputs": [
    {
     "data": {
      "text/plain": [
       "Ttest_indResult(statistic=-1.420039487569023, pvalue=0.15717355408142206)"
      ]
     },
     "execution_count": 503,
     "metadata": {},
     "output_type": "execute_result"
    }
   ],
   "source": [
    "# run a t test to test for signigicance \n",
    "self_worth_population1 = filtered_df[filtered_df[\"housing_situation\"] == \"Private rented accommodation\"]\n",
    "self_worth_population1.self_worth_level.mean()\n",
    "\n",
    "self_worth_population2 = filtered_df[filtered_df[\"housing_situation\"] == \"Home (with parents)\"]\n",
    "self_worth_population2.self_worth_level.mean()\n",
    "\n",
    "self_worth_ret = stats.ttest_ind(self_worth_population1.self_worth_level, self_worth_population2.self_worth_level, equal_var=False)\n",
    "self_worth_ret"
   ]
  },
  {
   "cell_type": "code",
   "execution_count": 504,
   "id": "e2def1cb",
   "metadata": {},
   "outputs": [
    {
     "data": {
      "text/plain": [
       "'0.15717355408142206 (0.157174) is Statistically Non-Significant (failed to reject the null hypothesis)'"
      ]
     },
     "execution_count": 504,
     "metadata": {},
     "output_type": "execute_result"
    }
   ],
   "source": [
    "# t test summary\n",
    "pvalue_eval(self_worth_ret[1])"
   ]
  },
  {
   "cell_type": "code",
   "execution_count": 505,
   "id": "478bea3c",
   "metadata": {},
   "outputs": [],
   "source": [
    "## CONCENTRATING LEVEL"
   ]
  },
  {
   "cell_type": "code",
   "execution_count": 506,
   "id": "45b2caa4",
   "metadata": {},
   "outputs": [
    {
     "data": {
      "text/plain": [
       "housing_situation\n",
       "Home (with parents)             2.202247\n",
       "Private rented accommodation    2.175439\n",
       "Name: concentrating_level, dtype: float64"
      ]
     },
     "execution_count": 506,
     "metadata": {},
     "output_type": "execute_result"
    }
   ],
   "source": [
    "# look at mean concentrating level per housing sitation\n",
    "concentrating_avg = filtered_df.groupby([\"housing_situation\"]).mean()[\"concentrating_level\"]\n",
    "concentrating_avg"
   ]
  },
  {
   "cell_type": "code",
   "execution_count": 507,
   "id": "64dd4e52",
   "metadata": {},
   "outputs": [
    {
     "data": {
      "text/plain": [
       "Ttest_indResult(statistic=-0.17939118501625972, pvalue=0.8578188418389965)"
      ]
     },
     "execution_count": 507,
     "metadata": {},
     "output_type": "execute_result"
    }
   ],
   "source": [
    "# run a t test to test for signigicance \n",
    "concentrating_population1 = filtered_df[filtered_df[\"housing_situation\"] == \"Private rented accommodation\"]\n",
    "concentrating_population1.concentrating_level.mean()\n",
    "\n",
    "concentrating_population2 = filtered_df[filtered_df[\"housing_situation\"] == \"Home (with parents)\"]\n",
    "concentrating_population2.concentrating_level.mean()\n",
    "\n",
    "concentrating_ret = stats.ttest_ind(concentrating_population1.concentrating_level, concentrating_population2.concentrating_level, equal_var=False)\n",
    "concentrating_ret"
   ]
  },
  {
   "cell_type": "code",
   "execution_count": 508,
   "id": "077a7557",
   "metadata": {},
   "outputs": [
    {
     "data": {
      "text/plain": [
       "'0.8578188418389965 (0.857819) is Statistically Non-Significant (failed to reject the null hypothesis)'"
      ]
     },
     "execution_count": 508,
     "metadata": {},
     "output_type": "execute_result"
    }
   ],
   "source": [
    "# t test summary\n",
    "pvalue_eval(concentrating_ret[1])"
   ]
  },
  {
   "cell_type": "code",
   "execution_count": 509,
   "id": "cf7467d0",
   "metadata": {},
   "outputs": [],
   "source": [
    "## RESTLESS LEVEL"
   ]
  },
  {
   "cell_type": "code",
   "execution_count": 510,
   "id": "6aa6160b",
   "metadata": {},
   "outputs": [
    {
     "data": {
      "text/plain": [
       "housing_situation\n",
       "Home (with parents)             1.943820\n",
       "Private rented accommodation    1.631579\n",
       "Name: restless_level, dtype: float64"
      ]
     },
     "execution_count": 510,
     "metadata": {},
     "output_type": "execute_result"
    }
   ],
   "source": [
    "# look at mean restless level per housing sitation\n",
    "restless_avg = filtered_df.groupby([\"housing_situation\"]).mean()[\"restless_level\"]\n",
    "restless_avg"
   ]
  },
  {
   "cell_type": "code",
   "execution_count": 511,
   "id": "6f06023a",
   "metadata": {},
   "outputs": [
    {
     "data": {
      "text/plain": [
       "Ttest_indResult(statistic=-2.239344304127492, pvalue=0.026323110873723535)"
      ]
     },
     "execution_count": 511,
     "metadata": {},
     "output_type": "execute_result"
    }
   ],
   "source": [
    "# run a t test to test for signigicance \n",
    "restless_population1 = filtered_df[filtered_df[\"housing_situation\"] == \"Private rented accommodation\"]\n",
    "restless_population1.restless_level.mean()\n",
    "\n",
    "restless_population2 = filtered_df[filtered_df[\"housing_situation\"] == \"Home (with parents)\"]\n",
    "restless_population2.restless_level.mean()\n",
    "\n",
    "restless_ret = stats.ttest_ind(restless_population1.restless_level, restless_population2.restless_level, equal_var=False)\n",
    "restless_ret"
   ]
  },
  {
   "cell_type": "code",
   "execution_count": 512,
   "id": "9a4421a5",
   "metadata": {},
   "outputs": [
    {
     "data": {
      "text/plain": [
       "'0.026323110873723535 (0.026323) is Statistically Significant (reject the null hypothesis)'"
      ]
     },
     "execution_count": 512,
     "metadata": {},
     "output_type": "execute_result"
    }
   ],
   "source": [
    "# t test summary\n",
    "pvalue_eval(restless_ret[1])"
   ]
  },
  {
   "cell_type": "code",
   "execution_count": 513,
   "id": "836b1fb5",
   "metadata": {},
   "outputs": [],
   "source": [
    "## SUICIDAL LEVEL"
   ]
  },
  {
   "cell_type": "code",
   "execution_count": 514,
   "id": "f32ed15e",
   "metadata": {
    "scrolled": true
   },
   "outputs": [
    {
     "data": {
      "text/plain": [
       "housing_situation\n",
       "Home (with parents)             1.651685\n",
       "Private rented accommodation    1.517544\n",
       "Name: suicidal_level, dtype: float64"
      ]
     },
     "execution_count": 514,
     "metadata": {},
     "output_type": "execute_result"
    }
   ],
   "source": [
    "# look at mean suicidal level per housing sitation\n",
    "suicidal_avg = filtered_df.groupby([\"housing_situation\"]).mean()[\"suicidal_level\"]\n",
    "suicidal_avg"
   ]
  },
  {
   "cell_type": "code",
   "execution_count": 515,
   "id": "82353b52",
   "metadata": {},
   "outputs": [
    {
     "data": {
      "text/plain": [
       "Ttest_indResult(statistic=-1.0288985260149588, pvalue=0.3049540628442314)"
      ]
     },
     "execution_count": 515,
     "metadata": {},
     "output_type": "execute_result"
    }
   ],
   "source": [
    "# run a t test to test for signigicance \n",
    "suicidal_population1 = filtered_df[filtered_df[\"housing_situation\"] == \"Private rented accommodation\"]\n",
    "suicidal_population1.suicidal_level.mean()\n",
    "\n",
    "suicidal_population2 = filtered_df[filtered_df[\"housing_situation\"] == \"Home (with parents)\"]\n",
    "suicidal_population2.suicidal_level.mean()\n",
    "\n",
    "suicidal_ret = stats.ttest_ind(suicidal_population1.suicidal_level, suicidal_population2.suicidal_level, equal_var=False)\n",
    "suicidal_ret"
   ]
  },
  {
   "cell_type": "code",
   "execution_count": 516,
   "id": "73efb7fc",
   "metadata": {},
   "outputs": [
    {
     "data": {
      "text/plain": [
       "'0.3049540628442314 (0.304954) is Statistically Non-Significant (failed to reject the null hypothesis)'"
      ]
     },
     "execution_count": 516,
     "metadata": {},
     "output_type": "execute_result"
    }
   ],
   "source": [
    "# t test summary\n",
    "pvalue_eval(suicidal_ret[1])"
   ]
  },
  {
   "cell_type": "code",
   "execution_count": 517,
   "id": "0f8ecc53",
   "metadata": {},
   "outputs": [
    {
     "data": {
      "text/html": [
       "<div>\n",
       "<style scoped>\n",
       "    .dataframe tbody tr th:only-of-type {\n",
       "        vertical-align: middle;\n",
       "    }\n",
       "\n",
       "    .dataframe tbody tr th {\n",
       "        vertical-align: top;\n",
       "    }\n",
       "\n",
       "    .dataframe thead th {\n",
       "        text-align: right;\n",
       "    }\n",
       "</style>\n",
       "<table border=\"1\" class=\"dataframe\">\n",
       "  <thead>\n",
       "    <tr style=\"text-align: right;\">\n",
       "      <th></th>\n",
       "      <th>Average Interest</th>\n",
       "      <th>Average Depression</th>\n",
       "      <th>Average Sleepy</th>\n",
       "      <th>Average Energy</th>\n",
       "      <th>Average Apetite</th>\n",
       "      <th>Avergae Self-Worth</th>\n",
       "      <th>Average Concentrating</th>\n",
       "      <th>Average Restless</th>\n",
       "      <th>Average Suicidal</th>\n",
       "    </tr>\n",
       "    <tr>\n",
       "      <th>housing_situation</th>\n",
       "      <th></th>\n",
       "      <th></th>\n",
       "      <th></th>\n",
       "      <th></th>\n",
       "      <th></th>\n",
       "      <th></th>\n",
       "      <th></th>\n",
       "      <th></th>\n",
       "      <th></th>\n",
       "    </tr>\n",
       "  </thead>\n",
       "  <tbody>\n",
       "    <tr>\n",
       "      <th>Home (with parents)</th>\n",
       "      <td>2.471910</td>\n",
       "      <td>2.292135</td>\n",
       "      <td>2.988764</td>\n",
       "      <td>2.910112</td>\n",
       "      <td>2.606742</td>\n",
       "      <td>2.595506</td>\n",
       "      <td>2.202247</td>\n",
       "      <td>1.943820</td>\n",
       "      <td>1.651685</td>\n",
       "    </tr>\n",
       "    <tr>\n",
       "      <th>Private rented accommodation</th>\n",
       "      <td>2.359649</td>\n",
       "      <td>2.236842</td>\n",
       "      <td>2.622807</td>\n",
       "      <td>2.789474</td>\n",
       "      <td>2.561404</td>\n",
       "      <td>2.377193</td>\n",
       "      <td>2.175439</td>\n",
       "      <td>1.631579</td>\n",
       "      <td>1.517544</td>\n",
       "    </tr>\n",
       "  </tbody>\n",
       "</table>\n",
       "</div>"
      ],
      "text/plain": [
       "                              Average Interest  Average Depression  \\\n",
       "housing_situation                                                    \n",
       "Home (with parents)                   2.471910            2.292135   \n",
       "Private rented accommodation          2.359649            2.236842   \n",
       "\n",
       "                              Average Sleepy  Average Energy  Average Apetite  \\\n",
       "housing_situation                                                               \n",
       "Home (with parents)                 2.988764        2.910112         2.606742   \n",
       "Private rented accommodation        2.622807        2.789474         2.561404   \n",
       "\n",
       "                              Avergae Self-Worth  Average Concentrating  \\\n",
       "housing_situation                                                         \n",
       "Home (with parents)                     2.595506               2.202247   \n",
       "Private rented accommodation            2.377193               2.175439   \n",
       "\n",
       "                              Average Restless  Average Suicidal  \n",
       "housing_situation                                                 \n",
       "Home (with parents)                   1.943820          1.651685  \n",
       "Private rented accommodation          1.631579          1.517544  "
      ]
     },
     "execution_count": 517,
     "metadata": {},
     "output_type": "execute_result"
    }
   ],
   "source": [
    "# create a new data frame with averages to turn into bar chart\n",
    "averages_df = pd.DataFrame({\"Average Interest\": interest_avg, \"Average Depression\": depressed_avg, \n",
    "                     \"Average Sleepy\": sleepy_avg, \"Average Energy\": energy_avg, \"Average Apetite\": appetite_avg, \n",
    "                    \"Avergae Self-Worth\": self_worth_avg, \"Average Concentrating\": concentrating_avg, \n",
    "                     \"Average Restless\": restless_avg, \"Average Suicidal\": suicidal_avg})\n",
    "averages_df"
   ]
  },
  {
   "cell_type": "code",
   "execution_count": 518,
   "id": "07df7cde",
   "metadata": {},
   "outputs": [
    {
     "data": {
      "image/png": "[encoded data removed]",
      "text/plain": [
       "<Figure size 800x600 with 1 Axes>"
      ]
     },
     "metadata": {},
     "output_type": "display_data"
    }
   ],
   "source": [
    "# create bar chart \n",
    "averages_bar = averages_df.plot(kind=\"bar\", width=0.8, color=[\"orangered\", \"lightblue\", \"pink\", \"orange\", \"green\", \"lightcoral\", \"grey\", \"slateblue\", \"plum\"], figsize=(8,6),\n",
    "                                   title=\"Average Mental Health per Living Siutation\",\n",
    "                                   xlabel=\"Living Situation\",\n",
    "                                   ylabel=\"Average\")\n",
    "\n",
    "# Configure x-tick rotation\n",
    "xticklabels = averages_df.index\n",
    "averages_bar.set_xticklabels(xticklabels, rotation=\"horizontal\", ha=\"center\")\n",
    "\n",
    "# formatting\n",
    "plt.ylim(1.4, 3.05)\n",
    "plt.xlim(-0.45, 1.45)\n",
    "plt.legend(bbox_to_anchor=(1.04, 1), loc=\"upper left\")\n",
    "\n",
    "# Show plot\n",
    "plt.show()"
   ]
  },
  {
   "cell_type": "code",
   "execution_count": 519,
   "id": "2bf59b25",
   "metadata": {},
   "outputs": [
    {
     "data": {
      "text/plain": [
       "<Figure size 640x480 with 0 Axes>"
      ]
     },
     "metadata": {},
     "output_type": "display_data"
    }
   ],
   "source": [
    "# save graph image to device\n",
    "housing_bar_output_file = \"/Users/AttiasC16/Desktop/housing_bar.png\"\n",
    "plt.savefig(housing_bar_output_file)\n",
    "plt.show()"
   ]
  },
  {
   "cell_type": "code",
   "execution_count": 520,
   "id": "20d15f82",
   "metadata": {},
   "outputs": [],
   "source": [
    "## QUESTION 2\n",
    "\n",
    "# Does employment status affect a college students mental health?\n",
    "    #(depression level, interest level, sleepy level, energy level, appetite level, self-worth level, \n",
    "        # concentrating level, restless level, and suicidal level)?\n",
    "        \n",
    "# Null: If mental health is not related to a college students employment status, \n",
    "    # then mental health levels will be the same in full time, part time, and unemployed students.\n",
    "    \n",
    "# Alternate: If mental health is related to a college students employment status, \n",
    "    # then full time employed students will report greater mental health problems \n",
    "    # than part time employed students and unemployed students."
   ]
  },
  {
   "cell_type": "code",
   "execution_count": 521,
   "id": "397bcf0f",
   "metadata": {
    "scrolled": true
   },
   "outputs": [
    {
     "data": {
      "text/html": [
       "<div>\n",
       "<style scoped>\n",
       "    .dataframe tbody tr th:only-of-type {\n",
       "        vertical-align: middle;\n",
       "    }\n",
       "\n",
       "    .dataframe tbody tr th {\n",
       "        vertical-align: top;\n",
       "    }\n",
       "\n",
       "    .dataframe thead th {\n",
       "        text-align: right;\n",
       "    }\n",
       "</style>\n",
       "<table border=\"1\" class=\"dataframe\">\n",
       "  <thead>\n",
       "    <tr style=\"text-align: right;\">\n",
       "      <th></th>\n",
       "      <th>employment</th>\n",
       "      <th>interest_level</th>\n",
       "      <th>depressed_level</th>\n",
       "      <th>sleepy_level</th>\n",
       "      <th>energy_level</th>\n",
       "      <th>appetite_level</th>\n",
       "      <th>self_worth_level</th>\n",
       "      <th>concentrating_level</th>\n",
       "      <th>restless_level</th>\n",
       "      <th>suicidal_level</th>\n",
       "    </tr>\n",
       "  </thead>\n",
       "  <tbody>\n",
       "    <tr>\n",
       "      <th>0</th>\n",
       "      <td>Part time</td>\n",
       "      <td>3</td>\n",
       "      <td>2</td>\n",
       "      <td>4</td>\n",
       "      <td>4</td>\n",
       "      <td>3</td>\n",
       "      <td>3</td>\n",
       "      <td>4</td>\n",
       "      <td>3</td>\n",
       "      <td>2</td>\n",
       "    </tr>\n",
       "    <tr>\n",
       "      <th>1</th>\n",
       "      <td>Part time</td>\n",
       "      <td>2</td>\n",
       "      <td>1</td>\n",
       "      <td>2</td>\n",
       "      <td>1</td>\n",
       "      <td>1</td>\n",
       "      <td>1</td>\n",
       "      <td>1</td>\n",
       "      <td>1</td>\n",
       "      <td>1</td>\n",
       "    </tr>\n",
       "    <tr>\n",
       "      <th>2</th>\n",
       "      <td>Part time</td>\n",
       "      <td>2</td>\n",
       "      <td>2</td>\n",
       "      <td>3</td>\n",
       "      <td>3</td>\n",
       "      <td>1</td>\n",
       "      <td>1</td>\n",
       "      <td>2</td>\n",
       "      <td>2</td>\n",
       "      <td>1</td>\n",
       "    </tr>\n",
       "    <tr>\n",
       "      <th>3</th>\n",
       "      <td>Full time</td>\n",
       "      <td>3</td>\n",
       "      <td>1</td>\n",
       "      <td>4</td>\n",
       "      <td>3</td>\n",
       "      <td>1</td>\n",
       "      <td>2</td>\n",
       "      <td>1</td>\n",
       "      <td>1</td>\n",
       "      <td>1</td>\n",
       "    </tr>\n",
       "    <tr>\n",
       "      <th>4</th>\n",
       "      <td>Unemployed</td>\n",
       "      <td>2</td>\n",
       "      <td>4</td>\n",
       "      <td>4</td>\n",
       "      <td>3</td>\n",
       "      <td>2</td>\n",
       "      <td>3</td>\n",
       "      <td>4</td>\n",
       "      <td>1</td>\n",
       "      <td>3</td>\n",
       "    </tr>\n",
       "  </tbody>\n",
       "</table>\n",
       "</div>"
      ],
      "text/plain": [
       "   employment  interest_level  depressed_level  sleepy_level  energy_level  \\\n",
       "0   Part time               3                2             4             4   \n",
       "1   Part time               2                1             2             1   \n",
       "2   Part time               2                2             3             3   \n",
       "3   Full time               3                1             4             3   \n",
       "4  Unemployed               2                4             4             3   \n",
       "\n",
       "   appetite_level  self_worth_level  concentrating_level  restless_level  \\\n",
       "0               3                 3                    4               3   \n",
       "1               1                 1                    1               1   \n",
       "2               1                 1                    2               2   \n",
       "3               1                 2                    1               1   \n",
       "4               2                 3                    4               1   \n",
       "\n",
       "   suicidal_level  \n",
       "0               2  \n",
       "1               1  \n",
       "2               1  \n",
       "3               1  \n",
       "4               3  "
      ]
     },
     "execution_count": 521,
     "metadata": {},
     "output_type": "execute_result"
    }
   ],
   "source": [
    "# make a new dataframe only with columns i'm interested in \n",
    "employment_df = bachelors_df[[\"employment\", \"interest_level\", \"depressed_level\", \"sleepy_level\", \n",
    "                          \"energy_level\", \"appetite_level\", \"self_worth_level\", \"concentrating_level\", \n",
    "                          \"restless_level\", \"suicidal_level\"]]\n",
    "employment_df.head()"
   ]
  },
  {
   "cell_type": "code",
   "execution_count": 522,
   "id": "1fe15e2f",
   "metadata": {},
   "outputs": [],
   "source": [
    "# clean column"
   ]
  },
  {
   "cell_type": "code",
   "execution_count": 523,
   "id": "817c776b",
   "metadata": {},
   "outputs": [
    {
     "data": {
      "text/plain": [
       "Full time     100\n",
       "Unemployed     53\n",
       "Part time      51\n",
       "Name: employment, dtype: int64"
      ]
     },
     "execution_count": 523,
     "metadata": {},
     "output_type": "execute_result"
    }
   ],
   "source": [
    "employment_df[\"employment\"].value_counts()"
   ]
  },
  {
   "cell_type": "code",
   "execution_count": 524,
   "id": "4d35be65",
   "metadata": {},
   "outputs": [],
   "source": [
    "# look at percentage of students living at home vs private \n",
    "full_time_students = employment_df.loc[employment_df[\"employment\"] == \"Full time\"]\n",
    "full_time_students_count = len(full_time_students)\n",
    "\n",
    "part_time_students = employment_df.loc[employment_df[\"employment\"] == \"Part time\"]\n",
    "part_time_students_count = len(part_time_students)\n",
    "\n",
    "unemployed_students = employment_df.loc[employment_df[\"employment\"] == \"Unemployed\"]\n",
    "unemployed_students_count = len(unemployed_students)"
   ]
  },
  {
   "cell_type": "code",
   "execution_count": 525,
   "id": "44c1db99",
   "metadata": {},
   "outputs": [],
   "source": [
    "percent_full_time = round(full_time_students_count / total_student *100, 2)\n",
    "percent_part_time = round(part_time_students_count / total_student *100, 2)\n",
    "percent_unemployed = round(unemployed_students_count / total_student *100, 2)"
   ]
  },
  {
   "cell_type": "code",
   "execution_count": 526,
   "id": "fa5c2c2e",
   "metadata": {
    "scrolled": true
   },
   "outputs": [
    {
     "data": {
      "text/html": [
       "<div>\n",
       "<style scoped>\n",
       "    .dataframe tbody tr th:only-of-type {\n",
       "        vertical-align: middle;\n",
       "    }\n",
       "\n",
       "    .dataframe tbody tr th {\n",
       "        vertical-align: top;\n",
       "    }\n",
       "\n",
       "    .dataframe thead th {\n",
       "        text-align: right;\n",
       "    }\n",
       "</style>\n",
       "<table border=\"1\" class=\"dataframe\">\n",
       "  <thead>\n",
       "    <tr style=\"text-align: right;\">\n",
       "      <th></th>\n",
       "      <th>% Full time</th>\n",
       "      <th>% Part time</th>\n",
       "      <th>% Unemployed</th>\n",
       "    </tr>\n",
       "  </thead>\n",
       "  <tbody>\n",
       "    <tr>\n",
       "      <th>0</th>\n",
       "      <td>49.02</td>\n",
       "      <td>25.0</td>\n",
       "      <td>25.98</td>\n",
       "    </tr>\n",
       "  </tbody>\n",
       "</table>\n",
       "</div>"
      ],
      "text/plain": [
       "   % Full time  % Part time  % Unemployed\n",
       "0        49.02         25.0         25.98"
      ]
     },
     "execution_count": 526,
     "metadata": {},
     "output_type": "execute_result"
    }
   ],
   "source": [
    "employment_percent = [{\"% Full time\": percent_full_time, \"% Part time\": percent_part_time, \"% Unemployed\": percent_unemployed}]\n",
    "employment_percent_df = pd.DataFrame(employment_percent)\n",
    "employment_percent_df"
   ]
  },
  {
   "cell_type": "code",
   "execution_count": 527,
   "id": "00bded4f",
   "metadata": {},
   "outputs": [],
   "source": [
    "# make a pie chart \n",
    "data = [percent_full_time, percent_part_time, percent_unemployed]\n",
    "labels = [\"% Full Time\", \"% Part Time\", \"% Unemployed\"]\n",
    "colors = [\"indianred\", \"coral\", \"darksalmon\"]\n",
    "explode = (0.025, 0.025, 0.025)"
   ]
  },
  {
   "cell_type": "code",
   "execution_count": 528,
   "id": "aba1f597",
   "metadata": {},
   "outputs": [
    {
     "data": {
      "image/png": "[encoded data removed]",
      "text/plain": [
       "<Figure size 640x480 with 1 Axes>"
      ]
     },
     "metadata": {},
     "output_type": "display_data"
    }
   ],
   "source": [
    "plt.pie(data, labels=labels, explode=explode, colors=colors, autopct=\"%1.1f%%\", shadow=True, startangle=180)\n",
    "plt.title(\"Student Employment Status Distribution\")\n",
    "plt.show()"
   ]
  },
  {
   "cell_type": "code",
   "execution_count": 529,
   "id": "8fd46aad",
   "metadata": {},
   "outputs": [
    {
     "data": {
      "text/plain": [
       "<Figure size 640x480 with 0 Axes>"
      ]
     },
     "metadata": {},
     "output_type": "display_data"
    }
   ],
   "source": [
    "employment_pie_output_file = \"/Users/AttiasC16/Desktop/employment_pie.png\"\n",
    "plt.savefig(employment_pie_output_file)\n",
    "plt.show()"
   ]
  },
  {
   "cell_type": "code",
   "execution_count": 530,
   "id": "6401e9e3",
   "metadata": {},
   "outputs": [],
   "source": [
    "## INTEREST LEVEL"
   ]
  },
  {
   "cell_type": "code",
   "execution_count": 531,
   "id": "422ac2ae",
   "metadata": {},
   "outputs": [
    {
     "data": {
      "text/plain": [
       "employment\n",
       "Full time     2.380000\n",
       "Part time     2.352941\n",
       "Unemployed    2.509434\n",
       "Name: interest_level, dtype: float64"
      ]
     },
     "execution_count": 531,
     "metadata": {},
     "output_type": "execute_result"
    }
   ],
   "source": [
    "# look at mean interest level per employment status\n",
    "employ_interest_avg = employment_df.groupby([\"employment\"]).mean()[\"interest_level\"]\n",
    "employ_interest_avg"
   ]
  },
  {
   "cell_type": "code",
   "execution_count": 532,
   "id": "c1dbac14",
   "metadata": {},
   "outputs": [
    {
     "data": {
      "text/plain": [
       "F_onewayResult(statistic=0.4997947341852037, pvalue=0.607407074636415)"
      ]
     },
     "execution_count": 532,
     "metadata": {},
     "output_type": "execute_result"
    }
   ],
   "source": [
    "# run an ANOVA to test for signigicance (since 3 ore more populations)\n",
    "employ_interest_population1 = employment_df[employment_df[\"employment\"] == \"Full time\"]\n",
    "employ_interest_population1.interest_level.mean()\n",
    "\n",
    "employ_interest_population2 = employment_df[employment_df[\"employment\"] == \"Part time\"]\n",
    "employ_interest_population2.interest_level.mean()\n",
    "\n",
    "employ_interest_population3 = employment_df[employment_df[\"employment\"] == \"Unemployed\"]\n",
    "employ_interest_population3.interest_level.mean()\n",
    "\n",
    "\n",
    "employ_interest_ret = stats.f_oneway(employ_interest_population1.interest_level, employ_interest_population2.interest_level, employ_interest_population3.interest_level)\n",
    "employ_interest_ret"
   ]
  },
  {
   "cell_type": "code",
   "execution_count": 533,
   "id": "1533f156",
   "metadata": {},
   "outputs": [
    {
     "data": {
      "text/plain": [
       "'0.607407074636415 (0.607407) is Statistically Non-Significant (failed to reject the null hypothesis)'"
      ]
     },
     "execution_count": 533,
     "metadata": {},
     "output_type": "execute_result"
    }
   ],
   "source": [
    "# ANOVA summary\n",
    "pvalue_eval(employ_interest_ret[1])"
   ]
  },
  {
   "cell_type": "code",
   "execution_count": 534,
   "id": "f6f7db96",
   "metadata": {},
   "outputs": [],
   "source": [
    "## DEPRESSED LEVEL"
   ]
  },
  {
   "cell_type": "code",
   "execution_count": 535,
   "id": "cc7cbf43",
   "metadata": {},
   "outputs": [
    {
     "data": {
      "text/plain": [
       "employment\n",
       "Full time     2.200000\n",
       "Part time     2.333333\n",
       "Unemployed    2.283019\n",
       "Name: depressed_level, dtype: float64"
      ]
     },
     "execution_count": 535,
     "metadata": {},
     "output_type": "execute_result"
    }
   ],
   "source": [
    "# look at mean depression level per employment status\n",
    "employ_depressed_avg = employment_df.groupby([\"employment\"]).mean()[\"depressed_level\"]\n",
    "employ_depressed_avg"
   ]
  },
  {
   "cell_type": "code",
   "execution_count": 536,
   "id": "5a842c04",
   "metadata": {},
   "outputs": [
    {
     "data": {
      "text/plain": [
       "F_onewayResult(statistic=0.3173334376366759, pvalue=0.7284520379776457)"
      ]
     },
     "execution_count": 536,
     "metadata": {},
     "output_type": "execute_result"
    }
   ],
   "source": [
    "# run an ANOVA to test for signigicance (since 3 ore more populations)\n",
    "employ_depressed_population1 = employment_df[employment_df[\"employment\"] == \"Full time\"]\n",
    "employ_depressed_population1.depressed_level.mean()\n",
    "\n",
    "employ_depressed_population2 = employment_df[employment_df[\"employment\"] == \"Part time\"]\n",
    "employ_depressed_population2.depressed_level.mean()\n",
    "\n",
    "employ_depressed_population3 = employment_df[employment_df[\"employment\"] == \"Unemployed\"]\n",
    "employ_depressed_population3.depressed_level.mean()\n",
    "\n",
    "\n",
    "employ_depressed_ret = stats.f_oneway(employ_depressed_population1.depressed_level, employ_depressed_population2.depressed_level, employ_depressed_population3.depressed_level)\n",
    "employ_depressed_ret"
   ]
  },
  {
   "cell_type": "code",
   "execution_count": 537,
   "id": "4b4db443",
   "metadata": {},
   "outputs": [
    {
     "data": {
      "text/plain": [
       "'0.7284520379776457 (0.728452) is Statistically Non-Significant (failed to reject the null hypothesis)'"
      ]
     },
     "execution_count": 537,
     "metadata": {},
     "output_type": "execute_result"
    }
   ],
   "source": [
    "# ANOVA summary\n",
    "pvalue_eval(employ_depressed_ret[1])"
   ]
  },
  {
   "cell_type": "code",
   "execution_count": 538,
   "id": "94455014",
   "metadata": {},
   "outputs": [],
   "source": [
    "## SLEEPY LEVEL"
   ]
  },
  {
   "cell_type": "code",
   "execution_count": 539,
   "id": "76e11437",
   "metadata": {},
   "outputs": [
    {
     "data": {
      "text/plain": [
       "employment\n",
       "Full time     2.720000\n",
       "Part time     2.568627\n",
       "Unemployed    3.094340\n",
       "Name: sleepy_level, dtype: float64"
      ]
     },
     "execution_count": 539,
     "metadata": {},
     "output_type": "execute_result"
    }
   ],
   "source": [
    "# look at mean sleepy level per employment status\n",
    "employ_sleepy_avg = employment_df.groupby([\"employment\"]).mean()[\"sleepy_level\"]\n",
    "employ_sleepy_avg"
   ]
  },
  {
   "cell_type": "code",
   "execution_count": 540,
   "id": "3caf1d1f",
   "metadata": {},
   "outputs": [
    {
     "data": {
      "text/plain": [
       "F_onewayResult(statistic=3.2279208256227676, pvalue=0.04170365253248798)"
      ]
     },
     "execution_count": 540,
     "metadata": {},
     "output_type": "execute_result"
    }
   ],
   "source": [
    "# run an ANOVA to test for signigicance (since 3 ore more populations)\n",
    "employ_sleepy_population1 = employment_df[employment_df[\"employment\"] == \"Full time\"]\n",
    "employ_sleepy_population1.sleepy_level.mean()\n",
    "\n",
    "employ_sleepy_population2 = employment_df[employment_df[\"employment\"] == \"Part time\"]\n",
    "employ_sleepy_population2.sleepy_level.mean()\n",
    "\n",
    "employ_sleepy_population3 = employment_df[employment_df[\"employment\"] == \"Unemployed\"]\n",
    "employ_sleepy_population3.sleepy_level.mean()\n",
    "\n",
    "\n",
    "employ_sleepy_ret = stats.f_oneway(employ_sleepy_population1.sleepy_level, employ_sleepy_population2.sleepy_level, employ_sleepy_population3.sleepy_level)\n",
    "employ_sleepy_ret"
   ]
  },
  {
   "cell_type": "code",
   "execution_count": 541,
   "id": "02864b54",
   "metadata": {},
   "outputs": [
    {
     "data": {
      "text/plain": [
       "'0.04170365253248798 (0.041704) is Statistically Significant (reject the null hypothesis)'"
      ]
     },
     "execution_count": 541,
     "metadata": {},
     "output_type": "execute_result"
    }
   ],
   "source": [
    "# ANOVA summary\n",
    "pvalue_eval(employ_sleepy_ret[1])"
   ]
  },
  {
   "cell_type": "code",
   "execution_count": 542,
   "id": "ff1d45ed",
   "metadata": {},
   "outputs": [],
   "source": [
    "## ENERGY LEVEL"
   ]
  },
  {
   "cell_type": "code",
   "execution_count": 543,
   "id": "15d0dda3",
   "metadata": {},
   "outputs": [
    {
     "data": {
      "text/plain": [
       "employment\n",
       "Full time     2.940000\n",
       "Part time     2.686275\n",
       "Unemployed    2.773585\n",
       "Name: energy_level, dtype: float64"
      ]
     },
     "execution_count": 543,
     "metadata": {},
     "output_type": "execute_result"
    }
   ],
   "source": [
    "# look at mean energy level per employment status\n",
    "employ_energy_avg = employment_df.groupby([\"employment\"]).mean()[\"energy_level\"]\n",
    "employ_energy_avg"
   ]
  },
  {
   "cell_type": "code",
   "execution_count": 544,
   "id": "2ad3d874",
   "metadata": {},
   "outputs": [
    {
     "data": {
      "text/plain": [
       "F_onewayResult(statistic=1.1634265056323496, pvalue=0.3145085886418397)"
      ]
     },
     "execution_count": 544,
     "metadata": {},
     "output_type": "execute_result"
    }
   ],
   "source": [
    "# run an ANOVA to test for signigicance (since 3 ore more populations)\n",
    "employ_energy_population1 = employment_df[employment_df[\"employment\"] == \"Full time\"]\n",
    "employ_energy_population1.energy_level.mean()\n",
    "\n",
    "employ_energy_population2 = employment_df[employment_df[\"employment\"] == \"Part time\"]\n",
    "employ_energy_population2.energy_level.mean()\n",
    "\n",
    "employ_energy_population3 = employment_df[employment_df[\"employment\"] == \"Unemployed\"]\n",
    "employ_energy_population3.energy_level.mean()\n",
    "\n",
    "\n",
    "employ_energy_ret = stats.f_oneway(employ_energy_population1.energy_level, employ_energy_population2.energy_level, employ_energy_population3.energy_level)\n",
    "employ_energy_ret"
   ]
  },
  {
   "cell_type": "code",
   "execution_count": 545,
   "id": "239bde23",
   "metadata": {},
   "outputs": [
    {
     "data": {
      "text/plain": [
       "'0.3145085886418397 (0.314509) is Statistically Non-Significant (failed to reject the null hypothesis)'"
      ]
     },
     "execution_count": 545,
     "metadata": {},
     "output_type": "execute_result"
    }
   ],
   "source": [
    "# ANOVA summary\n",
    "pvalue_eval(employ_energy_ret[1])"
   ]
  },
  {
   "cell_type": "code",
   "execution_count": 546,
   "id": "49601712",
   "metadata": {},
   "outputs": [],
   "source": [
    "## APPETITE LEVEL"
   ]
  },
  {
   "cell_type": "code",
   "execution_count": 547,
   "id": "65892f46",
   "metadata": {},
   "outputs": [
    {
     "data": {
      "text/plain": [
       "employment\n",
       "Full time     2.620000\n",
       "Part time     2.509804\n",
       "Unemployed    2.547170\n",
       "Name: appetite_level, dtype: float64"
      ]
     },
     "execution_count": 547,
     "metadata": {},
     "output_type": "execute_result"
    }
   ],
   "source": [
    "# look at mean appetite level per employment status\n",
    "employ_appetite_avg = employment_df.groupby([\"employment\"]).mean()[\"appetite_level\"]\n",
    "employ_appetite_avg"
   ]
  },
  {
   "cell_type": "code",
   "execution_count": 548,
   "id": "ee523f10",
   "metadata": {},
   "outputs": [
    {
     "data": {
      "text/plain": [
       "F_onewayResult(statistic=0.17953302270819735, pvalue=0.835794211500579)"
      ]
     },
     "execution_count": 548,
     "metadata": {},
     "output_type": "execute_result"
    }
   ],
   "source": [
    "# run an ANOVA to test for signigicance (since 3 ore more populations)\n",
    "employ_appetite_population1 = employment_df[employment_df[\"employment\"] == \"Full time\"]\n",
    "employ_appetite_population1.appetite_level.mean()\n",
    "\n",
    "employ_appetite_population2 = employment_df[employment_df[\"employment\"] == \"Part time\"]\n",
    "employ_appetite_population2.appetite_level.mean()\n",
    "\n",
    "employ_appetite_population3 = employment_df[employment_df[\"employment\"] == \"Unemployed\"]\n",
    "employ_appetite_population3.appetite_level.mean()\n",
    "\n",
    "\n",
    "employ_appetite_ret = stats.f_oneway(employ_appetite_population1.appetite_level, employ_appetite_population2.appetite_level, employ_appetite_population3.appetite_level)\n",
    "employ_appetite_ret"
   ]
  },
  {
   "cell_type": "code",
   "execution_count": 549,
   "id": "fda7195f",
   "metadata": {},
   "outputs": [
    {
     "data": {
      "text/plain": [
       "'0.835794211500579 (0.835794) is Statistically Non-Significant (failed to reject the null hypothesis)'"
      ]
     },
     "execution_count": 549,
     "metadata": {},
     "output_type": "execute_result"
    }
   ],
   "source": [
    "# ANOVA summary\n",
    "pvalue_eval(employ_appetite_ret[1])"
   ]
  },
  {
   "cell_type": "code",
   "execution_count": 550,
   "id": "808e79c3",
   "metadata": {},
   "outputs": [],
   "source": [
    "## SELF-WORTH LEVEL"
   ]
  },
  {
   "cell_type": "code",
   "execution_count": 551,
   "id": "8eeee10a",
   "metadata": {},
   "outputs": [
    {
     "data": {
      "text/plain": [
       "employment\n",
       "Full time     2.300000\n",
       "Part time     2.529412\n",
       "Unemployed    2.716981\n",
       "Name: self_worth_level, dtype: float64"
      ]
     },
     "execution_count": 551,
     "metadata": {},
     "output_type": "execute_result"
    }
   ],
   "source": [
    "# look at mean self-worth level per employment status\n",
    "employ_self_worth_avg = employment_df.groupby([\"employment\"]).mean()[\"self_worth_level\"]\n",
    "employ_self_worth_avg"
   ]
  },
  {
   "cell_type": "code",
   "execution_count": 552,
   "id": "2a044fdb",
   "metadata": {},
   "outputs": [
    {
     "data": {
      "text/plain": [
       "F_onewayResult(statistic=2.61102242088832, pvalue=0.07594992292695464)"
      ]
     },
     "execution_count": 552,
     "metadata": {},
     "output_type": "execute_result"
    }
   ],
   "source": [
    "# run an ANOVA to test for signigicance (since 3 ore more populations)\n",
    "employ_self_worth_population1 = employment_df[employment_df[\"employment\"] == \"Full time\"]\n",
    "employ_self_worth_population1.self_worth_level.mean()\n",
    "\n",
    "employ_self_worth_population2 = employment_df[employment_df[\"employment\"] == \"Part time\"]\n",
    "employ_self_worth_population2.self_worth_level.mean()\n",
    "\n",
    "employ_self_worth_population3 = employment_df[employment_df[\"employment\"] == \"Unemployed\"]\n",
    "employ_self_worth_population3.self_worth_level.mean()\n",
    "\n",
    "\n",
    "employ_self_worth_ret = stats.f_oneway(employ_self_worth_population1.self_worth_level, employ_self_worth_population2.self_worth_level, employ_self_worth_population3.self_worth_level)\n",
    "employ_self_worth_ret"
   ]
  },
  {
   "cell_type": "code",
   "execution_count": 553,
   "id": "ccb2f368",
   "metadata": {},
   "outputs": [
    {
     "data": {
      "text/plain": [
       "'0.07594992292695464 (0.075950) is Statistically Non-Significant (failed to reject the null hypothesis)'"
      ]
     },
     "execution_count": 553,
     "metadata": {},
     "output_type": "execute_result"
    }
   ],
   "source": [
    "# ANOVA summary\n",
    "pvalue_eval(employ_self_worth_ret[1])"
   ]
  },
  {
   "cell_type": "code",
   "execution_count": 554,
   "id": "bb099efd",
   "metadata": {},
   "outputs": [],
   "source": [
    "## CONCENTRATING LEVEL"
   ]
  },
  {
   "cell_type": "code",
   "execution_count": 555,
   "id": "ad635010",
   "metadata": {},
   "outputs": [
    {
     "data": {
      "text/plain": [
       "employment\n",
       "Full time     2.110000\n",
       "Part time     2.235294\n",
       "Unemployed    2.264151\n",
       "Name: concentrating_level, dtype: float64"
      ]
     },
     "execution_count": 555,
     "metadata": {},
     "output_type": "execute_result"
    }
   ],
   "source": [
    "# look at mean concentrating level per employment status\n",
    "employ_concentrating_avg = employment_df.groupby([\"employment\"]).mean()[\"concentrating_level\"]\n",
    "employ_concentrating_avg"
   ]
  },
  {
   "cell_type": "code",
   "execution_count": 556,
   "id": "b042d74e",
   "metadata": {},
   "outputs": [
    {
     "data": {
      "text/plain": [
       "F_onewayResult(statistic=0.45143222265463445, pvalue=0.6373595354405415)"
      ]
     },
     "execution_count": 556,
     "metadata": {},
     "output_type": "execute_result"
    }
   ],
   "source": [
    "# run an ANOVA to test for signigicance (since 3 ore more populations)\n",
    "employ_concentrating_population1 = employment_df[employment_df[\"employment\"] == \"Full time\"]\n",
    "employ_concentrating_population1.concentrating_level.mean()\n",
    "\n",
    "employ_concentrating_population2 = employment_df[employment_df[\"employment\"] == \"Part time\"]\n",
    "employ_concentrating_population2.concentrating_level.mean()\n",
    "\n",
    "employ_concentrating_population3 = employment_df[employment_df[\"employment\"] == \"Unemployed\"]\n",
    "employ_concentrating_population3.concentrating_level.mean()\n",
    "\n",
    "\n",
    "employ_concentrating_ret = stats.f_oneway(employ_concentrating_population1.concentrating_level, employ_concentrating_population2.concentrating_level, employ_concentrating_population3.concentrating_level)\n",
    "employ_concentrating_ret"
   ]
  },
  {
   "cell_type": "code",
   "execution_count": 557,
   "id": "20d99e92",
   "metadata": {},
   "outputs": [
    {
     "data": {
      "text/plain": [
       "'0.6373595354405415 (0.637360) is Statistically Non-Significant (failed to reject the null hypothesis)'"
      ]
     },
     "execution_count": 557,
     "metadata": {},
     "output_type": "execute_result"
    }
   ],
   "source": [
    "# ANOVA summary\n",
    "pvalue_eval(employ_concentrating_ret[1])"
   ]
  },
  {
   "cell_type": "code",
   "execution_count": 558,
   "id": "c86ac93e",
   "metadata": {},
   "outputs": [],
   "source": [
    "## RESTLESS LEVEL"
   ]
  },
  {
   "cell_type": "code",
   "execution_count": 559,
   "id": "4ab6f51a",
   "metadata": {},
   "outputs": [
    {
     "data": {
      "text/plain": [
       "employment\n",
       "Full time     1.670000\n",
       "Part time     1.901961\n",
       "Unemployed    1.811321\n",
       "Name: restless_level, dtype: float64"
      ]
     },
     "execution_count": 559,
     "metadata": {},
     "output_type": "execute_result"
    }
   ],
   "source": [
    "# look at mean restless level per employment status\n",
    "employ_restless_avg = employment_df.groupby([\"employment\"]).mean()[\"restless_level\"]\n",
    "employ_restless_avg"
   ]
  },
  {
   "cell_type": "code",
   "execution_count": 560,
   "id": "703d32c8",
   "metadata": {},
   "outputs": [
    {
     "data": {
      "text/plain": [
       "F_onewayResult(statistic=1.0078304722839133, pvalue=0.36684690906162176)"
      ]
     },
     "execution_count": 560,
     "metadata": {},
     "output_type": "execute_result"
    }
   ],
   "source": [
    "# run an ANOVA to test for signigicance (since 3 ore more populations)\n",
    "employ_restless_population1 = employment_df[employment_df[\"employment\"] == \"Full time\"]\n",
    "employ_restless_population1.restless_level.mean()\n",
    "\n",
    "employ_restless_population2 = employment_df[employment_df[\"employment\"] == \"Part time\"]\n",
    "employ_restless_population2.restless_level.mean()\n",
    "\n",
    "employ_restless_population3 = employment_df[employment_df[\"employment\"] == \"Unemployed\"]\n",
    "employ_restless_population3.restless_level.mean()\n",
    "\n",
    "\n",
    "employ_restless_ret = stats.f_oneway(employ_restless_population1.restless_level, employ_restless_population2.restless_level, employ_restless_population3.restless_level)\n",
    "employ_restless_ret"
   ]
  },
  {
   "cell_type": "code",
   "execution_count": 561,
   "id": "903af628",
   "metadata": {},
   "outputs": [
    {
     "data": {
      "text/plain": [
       "'0.36684690906162176 (0.366847) is Statistically Non-Significant (failed to reject the null hypothesis)'"
      ]
     },
     "execution_count": 561,
     "metadata": {},
     "output_type": "execute_result"
    }
   ],
   "source": [
    "# ANOVA summary\n",
    "pvalue_eval(employ_restless_ret[1])"
   ]
  },
  {
   "cell_type": "code",
   "execution_count": 562,
   "id": "777b8ebd",
   "metadata": {},
   "outputs": [],
   "source": [
    "## SUICIDAL LEVEL"
   ]
  },
  {
   "cell_type": "code",
   "execution_count": 563,
   "id": "635051bc",
   "metadata": {},
   "outputs": [
    {
     "data": {
      "text/plain": [
       "employment\n",
       "Full time     1.490000\n",
       "Part time     1.764706\n",
       "Unemployed    1.547170\n",
       "Name: suicidal_level, dtype: float64"
      ]
     },
     "execution_count": 563,
     "metadata": {},
     "output_type": "execute_result"
    }
   ],
   "source": [
    "# look at mean self-worth level per employment status\n",
    "employ_suicidal_avg = employment_df.groupby([\"employment\"]).mean()[\"suicidal_level\"]\n",
    "employ_suicidal_avg"
   ]
  },
  {
   "cell_type": "code",
   "execution_count": 564,
   "id": "408b15d3",
   "metadata": {},
   "outputs": [
    {
     "data": {
      "text/plain": [
       "F_onewayResult(statistic=1.5992214201683805, pvalue=0.20461381939180376)"
      ]
     },
     "execution_count": 564,
     "metadata": {},
     "output_type": "execute_result"
    }
   ],
   "source": [
    "# run an ANOVA to test for signigicance (since 3 ore more populations)\n",
    "employ_suicidal_population1 = employment_df[employment_df[\"employment\"] == \"Full time\"]\n",
    "employ_suicidal_population1.suicidal_level.mean()\n",
    "\n",
    "employ_suicidal_population2 = employment_df[employment_df[\"employment\"] == \"Part time\"]\n",
    "employ_suicidal_population2.suicidal_level.mean()\n",
    "\n",
    "employ_suicidal_population3 = employment_df[employment_df[\"employment\"] == \"Unemployed\"]\n",
    "employ_suicidal_population3.suicidal_level.mean()\n",
    "\n",
    "\n",
    "employ_suicidal_ret = stats.f_oneway(employ_suicidal_population1.suicidal_level, employ_suicidal_population2.suicidal_level, employ_suicidal_population3.suicidal_level)\n",
    "employ_suicidal_ret"
   ]
  },
  {
   "cell_type": "code",
   "execution_count": 565,
   "id": "3eb227f1",
   "metadata": {},
   "outputs": [
    {
     "data": {
      "text/plain": [
       "'0.20461381939180376 (0.204614) is Statistically Non-Significant (failed to reject the null hypothesis)'"
      ]
     },
     "execution_count": 565,
     "metadata": {},
     "output_type": "execute_result"
    }
   ],
   "source": [
    "# ANOVA summary\n",
    "pvalue_eval(employ_suicidal_ret[1])"
   ]
  },
  {
   "cell_type": "code",
   "execution_count": 566,
   "id": "9207b33c",
   "metadata": {},
   "outputs": [
    {
     "data": {
      "text/html": [
       "<div>\n",
       "<style scoped>\n",
       "    .dataframe tbody tr th:only-of-type {\n",
       "        vertical-align: middle;\n",
       "    }\n",
       "\n",
       "    .dataframe tbody tr th {\n",
       "        vertical-align: top;\n",
       "    }\n",
       "\n",
       "    .dataframe thead th {\n",
       "        text-align: right;\n",
       "    }\n",
       "</style>\n",
       "<table border=\"1\" class=\"dataframe\">\n",
       "  <thead>\n",
       "    <tr style=\"text-align: right;\">\n",
       "      <th></th>\n",
       "      <th>Average Interest</th>\n",
       "      <th>Average Depression</th>\n",
       "      <th>Average Sleepy</th>\n",
       "      <th>Average Energy</th>\n",
       "      <th>Average Apetite</th>\n",
       "      <th>Avergae Self-Worth</th>\n",
       "      <th>Average Concentrating</th>\n",
       "      <th>Average Restless</th>\n",
       "      <th>Average Suicidal</th>\n",
       "    </tr>\n",
       "    <tr>\n",
       "      <th>employment</th>\n",
       "      <th></th>\n",
       "      <th></th>\n",
       "      <th></th>\n",
       "      <th></th>\n",
       "      <th></th>\n",
       "      <th></th>\n",
       "      <th></th>\n",
       "      <th></th>\n",
       "      <th></th>\n",
       "    </tr>\n",
       "  </thead>\n",
       "  <tbody>\n",
       "    <tr>\n",
       "      <th>Full time</th>\n",
       "      <td>2.380000</td>\n",
       "      <td>2.200000</td>\n",
       "      <td>2.720000</td>\n",
       "      <td>2.940000</td>\n",
       "      <td>2.620000</td>\n",
       "      <td>2.300000</td>\n",
       "      <td>2.110000</td>\n",
       "      <td>1.670000</td>\n",
       "      <td>1.490000</td>\n",
       "    </tr>\n",
       "    <tr>\n",
       "      <th>Part time</th>\n",
       "      <td>2.352941</td>\n",
       "      <td>2.333333</td>\n",
       "      <td>2.568627</td>\n",
       "      <td>2.686275</td>\n",
       "      <td>2.509804</td>\n",
       "      <td>2.529412</td>\n",
       "      <td>2.235294</td>\n",
       "      <td>1.901961</td>\n",
       "      <td>1.764706</td>\n",
       "    </tr>\n",
       "    <tr>\n",
       "      <th>Unemployed</th>\n",
       "      <td>2.509434</td>\n",
       "      <td>2.283019</td>\n",
       "      <td>3.094340</td>\n",
       "      <td>2.773585</td>\n",
       "      <td>2.547170</td>\n",
       "      <td>2.716981</td>\n",
       "      <td>2.264151</td>\n",
       "      <td>1.811321</td>\n",
       "      <td>1.547170</td>\n",
       "    </tr>\n",
       "  </tbody>\n",
       "</table>\n",
       "</div>"
      ],
      "text/plain": [
       "            Average Interest  Average Depression  Average Sleepy  \\\n",
       "employment                                                         \n",
       "Full time           2.380000            2.200000        2.720000   \n",
       "Part time           2.352941            2.333333        2.568627   \n",
       "Unemployed          2.509434            2.283019        3.094340   \n",
       "\n",
       "            Average Energy  Average Apetite  Avergae Self-Worth  \\\n",
       "employment                                                        \n",
       "Full time         2.940000         2.620000            2.300000   \n",
       "Part time         2.686275         2.509804            2.529412   \n",
       "Unemployed        2.773585         2.547170            2.716981   \n",
       "\n",
       "            Average Concentrating  Average Restless  Average Suicidal  \n",
       "employment                                                             \n",
       "Full time                2.110000          1.670000          1.490000  \n",
       "Part time                2.235294          1.901961          1.764706  \n",
       "Unemployed               2.264151          1.811321          1.547170  "
      ]
     },
     "execution_count": 566,
     "metadata": {},
     "output_type": "execute_result"
    }
   ],
   "source": [
    "# create a new data frame with averages to turn into bar chart\n",
    "employ_averages_df = pd.DataFrame({\"Average Interest\": employ_interest_avg, \"Average Depression\": employ_depressed_avg,\n",
    "                     \"Average Sleepy\": employ_sleepy_avg, \"Average Energy\": employ_energy_avg, \"Average Apetite\": employ_appetite_avg, \n",
    "                    \"Avergae Self-Worth\": employ_self_worth_avg, \"Average Concentrating\": employ_concentrating_avg, \n",
    "                     \"Average Restless\": employ_restless_avg, \"Average Suicidal\": employ_suicidal_avg})\n",
    "employ_averages_df"
   ]
  },
  {
   "cell_type": "code",
   "execution_count": 567,
   "id": "02bc39d2",
   "metadata": {},
   "outputs": [
    {
     "data": {
      "image/png": "[encoded data removed]",
      "text/plain": [
       "<Figure size 800x600 with 1 Axes>"
      ]
     },
     "metadata": {},
     "output_type": "display_data"
    }
   ],
   "source": [
    "# create bar chart \n",
    "employ_averages_bar = employ_averages_df.plot(kind=\"bar\", width=0.8, color=[\"orangered\", \"lightblue\", \"pink\", \"orange\", \"green\", \"lightcoral\", \"grey\", \"slateblue\", \"plum\"], figsize=(8,6),\n",
    "                                   title=\"Average Mental Health per Employment Status\",\n",
    "                                   xlabel=\"Employment Status\",\n",
    "                                   ylabel=\"Average\")\n",
    "\n",
    "# Configure x-tick rotation\n",
    "xticklabels = employ_averages_df.index\n",
    "employ_averages_bar.set_xticklabels(xticklabels, rotation=\"horizontal\", ha=\"center\")\n",
    "\n",
    "# formatting\n",
    "plt.ylim(1.4, 3.25)\n",
    "plt.xlim(-0.45, 2.45)\n",
    "plt.legend(bbox_to_anchor=(1.04, 1), loc=\"upper left\")\n",
    "\n",
    "# Show plot\n",
    "plt.show()"
   ]
  },
  {
   "cell_type": "code",
   "execution_count": 568,
   "id": "968bd677",
   "metadata": {},
   "outputs": [
    {
     "data": {
      "text/plain": [
       "<Figure size 640x480 with 0 Axes>"
      ]
     },
     "metadata": {},
     "output_type": "display_data"
    }
   ],
   "source": [
    "employment_bar_output_file = \"/Users/AttiasC16/Desktop/employment_bar.png\"\n",
    "plt.savefig(employment_bar_output_file)\n",
    "plt.show()"
   ]
  }
 ],
 "metadata": {
  "kernelspec": {
   "display_name": "PythonData",
   "language": "python",
   "name": "pythondata"
  },
  "language_info": {
   "codemirror_mode": {
    "name": "ipython",
    "version": 3
   },
   "file_extension": ".py",
   "mimetype": "text/x-python",
   "name": "python",
   "nbconvert_exporter": "python",
   "pygments_lexer": "ipython3",
   "version": "3.9.13"
  }
 },
 "nbformat": 4,
 "nbformat_minor": 5
}
