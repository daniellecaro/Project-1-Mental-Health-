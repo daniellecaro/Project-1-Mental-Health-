{
 "cells": [
  {
   "cell_type": "code",
   "execution_count": 138,
   "id": "a61547f4",
   "metadata": {},
   "outputs": [],
   "source": [
    "# import libraries\n",
    "import os\n",
    "import csv\n",
    "import pandas as pd"
   ]
  },
  {
   "cell_type": "code",
   "execution_count": 139,
   "id": "e3622626",
   "metadata": {},
   "outputs": [],
   "source": [
    "# read in files\n",
    "student_df = pd.read_csv(\"Resources/Student Mental health.csv\")"
   ]
  },
  {
   "cell_type": "code",
   "execution_count": 140,
   "id": "8cef57a5",
   "metadata": {},
   "outputs": [
    {
     "data": {
      "text/plain": [
       "Index(['Timestamp', 'Choose your gender', 'Age', 'What is your course?',\n",
       "       'Your current year of Study', 'What is your CGPA?', 'Marital status',\n",
       "       'Do you have Depression?', 'Do you have Anxiety?',\n",
       "       'Do you have Panic attack?',\n",
       "       'Did you seek any specialist for a treatment?'],\n",
       "      dtype='object')"
      ]
     },
     "execution_count": 140,
     "metadata": {},
     "output_type": "execute_result"
    }
   ],
   "source": [
    "# show column names\n",
    "student_columns = student_df.columns\n",
    "student_columns"
   ]
  },
  {
   "cell_type": "code",
   "execution_count": 141,
   "id": "99e27593",
   "metadata": {},
   "outputs": [
    {
     "data": {
      "text/html": [
       "<div>\n",
       "<style scoped>\n",
       "    .dataframe tbody tr th:only-of-type {\n",
       "        vertical-align: middle;\n",
       "    }\n",
       "\n",
       "    .dataframe tbody tr th {\n",
       "        vertical-align: top;\n",
       "    }\n",
       "\n",
       "    .dataframe thead th {\n",
       "        text-align: right;\n",
       "    }\n",
       "</style>\n",
       "<table border=\"1\" class=\"dataframe\">\n",
       "  <thead>\n",
       "    <tr style=\"text-align: right;\">\n",
       "      <th></th>\n",
       "      <th>Timestamp</th>\n",
       "      <th>Choose your gender</th>\n",
       "      <th>Age</th>\n",
       "      <th>What is your course?</th>\n",
       "      <th>Your current year of Study</th>\n",
       "      <th>What is your CGPA?</th>\n",
       "      <th>Marital status</th>\n",
       "      <th>Do you have Depression?</th>\n",
       "      <th>Do you have Anxiety?</th>\n",
       "      <th>Do you have Panic attack?</th>\n",
       "      <th>Did you seek any specialist for a treatment?</th>\n",
       "    </tr>\n",
       "  </thead>\n",
       "  <tbody>\n",
       "    <tr>\n",
       "      <th>0</th>\n",
       "      <td>8/7/20 12:02</td>\n",
       "      <td>Female</td>\n",
       "      <td>18.0</td>\n",
       "      <td>Engineering</td>\n",
       "      <td>year 1</td>\n",
       "      <td>3.00 - 3.49</td>\n",
       "      <td>No</td>\n",
       "      <td>Yes</td>\n",
       "      <td>No</td>\n",
       "      <td>Yes</td>\n",
       "      <td>No</td>\n",
       "    </tr>\n",
       "    <tr>\n",
       "      <th>1</th>\n",
       "      <td>8/7/20 12:04</td>\n",
       "      <td>Male</td>\n",
       "      <td>21.0</td>\n",
       "      <td>Islamic education</td>\n",
       "      <td>year 2</td>\n",
       "      <td>3.00 - 3.49</td>\n",
       "      <td>No</td>\n",
       "      <td>No</td>\n",
       "      <td>Yes</td>\n",
       "      <td>No</td>\n",
       "      <td>No</td>\n",
       "    </tr>\n",
       "    <tr>\n",
       "      <th>2</th>\n",
       "      <td>8/7/20 12:05</td>\n",
       "      <td>Male</td>\n",
       "      <td>19.0</td>\n",
       "      <td>BIT</td>\n",
       "      <td>Year 1</td>\n",
       "      <td>3.00 - 3.49</td>\n",
       "      <td>No</td>\n",
       "      <td>Yes</td>\n",
       "      <td>Yes</td>\n",
       "      <td>Yes</td>\n",
       "      <td>No</td>\n",
       "    </tr>\n",
       "    <tr>\n",
       "      <th>3</th>\n",
       "      <td>8/7/20 12:06</td>\n",
       "      <td>Female</td>\n",
       "      <td>22.0</td>\n",
       "      <td>Laws</td>\n",
       "      <td>year 3</td>\n",
       "      <td>3.00 - 3.49</td>\n",
       "      <td>Yes</td>\n",
       "      <td>Yes</td>\n",
       "      <td>No</td>\n",
       "      <td>No</td>\n",
       "      <td>No</td>\n",
       "    </tr>\n",
       "    <tr>\n",
       "      <th>4</th>\n",
       "      <td>8/7/20 12:13</td>\n",
       "      <td>Male</td>\n",
       "      <td>23.0</td>\n",
       "      <td>Mathemathics</td>\n",
       "      <td>year 4</td>\n",
       "      <td>3.00 - 3.49</td>\n",
       "      <td>No</td>\n",
       "      <td>No</td>\n",
       "      <td>No</td>\n",
       "      <td>No</td>\n",
       "      <td>No</td>\n",
       "    </tr>\n",
       "  </tbody>\n",
       "</table>\n",
       "</div>"
      ],
      "text/plain": [
       "      Timestamp Choose your gender   Age What is your course?  \\\n",
       "0  8/7/20 12:02             Female  18.0          Engineering   \n",
       "1  8/7/20 12:04               Male  21.0    Islamic education   \n",
       "2  8/7/20 12:05               Male  19.0                  BIT   \n",
       "3  8/7/20 12:06             Female  22.0                 Laws   \n",
       "4  8/7/20 12:13               Male  23.0         Mathemathics   \n",
       "\n",
       "  Your current year of Study What is your CGPA? Marital status  \\\n",
       "0                     year 1        3.00 - 3.49             No   \n",
       "1                     year 2        3.00 - 3.49             No   \n",
       "2                     Year 1        3.00 - 3.49             No   \n",
       "3                     year 3        3.00 - 3.49            Yes   \n",
       "4                     year 4        3.00 - 3.49             No   \n",
       "\n",
       "  Do you have Depression? Do you have Anxiety? Do you have Panic attack?  \\\n",
       "0                     Yes                   No                       Yes   \n",
       "1                      No                  Yes                        No   \n",
       "2                     Yes                  Yes                       Yes   \n",
       "3                     Yes                   No                        No   \n",
       "4                      No                   No                        No   \n",
       "\n",
       "  Did you seek any specialist for a treatment?  \n",
       "0                                           No  \n",
       "1                                           No  \n",
       "2                                           No  \n",
       "3                                           No  \n",
       "4                                           No  "
      ]
     },
     "execution_count": 141,
     "metadata": {},
     "output_type": "execute_result"
    }
   ],
   "source": [
    "student_df.head()"
   ]
  },
  {
   "cell_type": "code",
   "execution_count": 142,
   "id": "00365cdb",
   "metadata": {},
   "outputs": [],
   "source": [
    "# rename columns\n",
    "student_df.columns = ['Timestamp', 'Gender', 'Age', 'Course',\n",
    "       'Year', 'GPA', 'Marital status',\n",
    "       'Depression', 'Anxiety',\n",
    "       'Panic attack',\n",
    "       'Specialist visit']"
   ]
  },
  {
   "cell_type": "code",
   "execution_count": 143,
   "id": "ee4b1e28",
   "metadata": {},
   "outputs": [],
   "source": [
    "# delete timestamp column\n",
    "del student_df['Timestamp']"
   ]
  },
  {
   "cell_type": "code",
   "execution_count": 144,
   "id": "6aa8e3ab",
   "metadata": {},
   "outputs": [
    {
     "data": {
      "text/html": [
       "<div>\n",
       "<style scoped>\n",
       "    .dataframe tbody tr th:only-of-type {\n",
       "        vertical-align: middle;\n",
       "    }\n",
       "\n",
       "    .dataframe tbody tr th {\n",
       "        vertical-align: top;\n",
       "    }\n",
       "\n",
       "    .dataframe thead th {\n",
       "        text-align: right;\n",
       "    }\n",
       "</style>\n",
       "<table border=\"1\" class=\"dataframe\">\n",
       "  <thead>\n",
       "    <tr style=\"text-align: right;\">\n",
       "      <th></th>\n",
       "      <th>Gender</th>\n",
       "      <th>Age</th>\n",
       "      <th>Course</th>\n",
       "      <th>Year</th>\n",
       "      <th>GPA</th>\n",
       "      <th>Marital status</th>\n",
       "      <th>Depression</th>\n",
       "      <th>Anxiety</th>\n",
       "      <th>Panic attack</th>\n",
       "      <th>Specialist visit</th>\n",
       "    </tr>\n",
       "  </thead>\n",
       "  <tbody>\n",
       "    <tr>\n",
       "      <th>0</th>\n",
       "      <td>Female</td>\n",
       "      <td>18.0</td>\n",
       "      <td>Engineering</td>\n",
       "      <td>year 1</td>\n",
       "      <td>3.00 - 3.49</td>\n",
       "      <td>No</td>\n",
       "      <td>Yes</td>\n",
       "      <td>No</td>\n",
       "      <td>Yes</td>\n",
       "      <td>No</td>\n",
       "    </tr>\n",
       "    <tr>\n",
       "      <th>1</th>\n",
       "      <td>Male</td>\n",
       "      <td>21.0</td>\n",
       "      <td>Islamic education</td>\n",
       "      <td>year 2</td>\n",
       "      <td>3.00 - 3.49</td>\n",
       "      <td>No</td>\n",
       "      <td>No</td>\n",
       "      <td>Yes</td>\n",
       "      <td>No</td>\n",
       "      <td>No</td>\n",
       "    </tr>\n",
       "    <tr>\n",
       "      <th>2</th>\n",
       "      <td>Male</td>\n",
       "      <td>19.0</td>\n",
       "      <td>BIT</td>\n",
       "      <td>Year 1</td>\n",
       "      <td>3.00 - 3.49</td>\n",
       "      <td>No</td>\n",
       "      <td>Yes</td>\n",
       "      <td>Yes</td>\n",
       "      <td>Yes</td>\n",
       "      <td>No</td>\n",
       "    </tr>\n",
       "    <tr>\n",
       "      <th>3</th>\n",
       "      <td>Female</td>\n",
       "      <td>22.0</td>\n",
       "      <td>Laws</td>\n",
       "      <td>year 3</td>\n",
       "      <td>3.00 - 3.49</td>\n",
       "      <td>Yes</td>\n",
       "      <td>Yes</td>\n",
       "      <td>No</td>\n",
       "      <td>No</td>\n",
       "      <td>No</td>\n",
       "    </tr>\n",
       "    <tr>\n",
       "      <th>4</th>\n",
       "      <td>Male</td>\n",
       "      <td>23.0</td>\n",
       "      <td>Mathemathics</td>\n",
       "      <td>year 4</td>\n",
       "      <td>3.00 - 3.49</td>\n",
       "      <td>No</td>\n",
       "      <td>No</td>\n",
       "      <td>No</td>\n",
       "      <td>No</td>\n",
       "      <td>No</td>\n",
       "    </tr>\n",
       "  </tbody>\n",
       "</table>\n",
       "</div>"
      ],
      "text/plain": [
       "   Gender   Age             Course    Year          GPA Marital status  \\\n",
       "0  Female  18.0        Engineering  year 1  3.00 - 3.49             No   \n",
       "1    Male  21.0  Islamic education  year 2  3.00 - 3.49             No   \n",
       "2    Male  19.0                BIT  Year 1  3.00 - 3.49             No   \n",
       "3  Female  22.0               Laws  year 3  3.00 - 3.49            Yes   \n",
       "4    Male  23.0       Mathemathics  year 4  3.00 - 3.49             No   \n",
       "\n",
       "  Depression Anxiety Panic attack Specialist visit  \n",
       "0        Yes      No          Yes               No  \n",
       "1         No     Yes           No               No  \n",
       "2        Yes     Yes          Yes               No  \n",
       "3        Yes      No           No               No  \n",
       "4         No      No           No               No  "
      ]
     },
     "execution_count": 144,
     "metadata": {},
     "output_type": "execute_result"
    }
   ],
   "source": [
    "student_df.head()"
   ]
  },
  {
   "cell_type": "code",
   "execution_count": 145,
   "id": "a65b5db8",
   "metadata": {},
   "outputs": [
    {
     "data": {
      "text/plain": [
       "101"
      ]
     },
     "execution_count": 145,
     "metadata": {},
     "output_type": "execute_result"
    }
   ],
   "source": [
    "# count how many total students\n",
    "total_students = len(student_df[\"Gender\"])\n",
    "total_students"
   ]
  },
  {
   "cell_type": "code",
   "execution_count": 146,
   "id": "5fde8cd7",
   "metadata": {
    "scrolled": true
   },
   "outputs": [
    {
     "data": {
      "text/plain": [
       "Gender              101\n",
       "Age                 100\n",
       "Course              101\n",
       "Year                101\n",
       "GPA                 101\n",
       "Marital status      101\n",
       "Depression          101\n",
       "Anxiety             101\n",
       "Panic attack        101\n",
       "Specialist visit    101\n",
       "dtype: int64"
      ]
     },
     "execution_count": 146,
     "metadata": {},
     "output_type": "execute_result"
    }
   ],
   "source": [
    "# make sure every column has same count\n",
    "student_df.count()"
   ]
  },
  {
   "cell_type": "code",
   "execution_count": 147,
   "id": "02d7cc9c",
   "metadata": {},
   "outputs": [
    {
     "data": {
      "text/plain": [
       "Gender               object\n",
       "Age                 float64\n",
       "Course               object\n",
       "Year                 object\n",
       "GPA                  object\n",
       "Marital status       object\n",
       "Depression           object\n",
       "Anxiety              object\n",
       "Panic attack         object\n",
       "Specialist visit     object\n",
       "dtype: object"
      ]
     },
     "execution_count": 147,
     "metadata": {},
     "output_type": "execute_result"
    }
   ],
   "source": [
    "# see data types\n",
    "student_df.dtypes"
   ]
  },
  {
   "cell_type": "code",
   "execution_count": 148,
   "id": "dd1371c5",
   "metadata": {},
   "outputs": [
    {
     "data": {
      "text/plain": [
       "Female    75\n",
       "Male      26\n",
       "Name: Gender, dtype: int64"
      ]
     },
     "execution_count": 148,
     "metadata": {},
     "output_type": "execute_result"
    }
   ],
   "source": [
    "# count male vs female\n",
    "student_df[\"Gender\"].value_counts()"
   ]
  },
  {
   "cell_type": "code",
   "execution_count": 149,
   "id": "8ab9ea5f",
   "metadata": {},
   "outputs": [
    {
     "data": {
      "text/plain": [
       "BCS                        18\n",
       "Engineering                17\n",
       "BIT                        10\n",
       "Biomedical science          4\n",
       "KOE                         4\n",
       "BENL                        2\n",
       "Laws                        2\n",
       "psychology                  2\n",
       "Engine                      2\n",
       "Islamic Education           1\n",
       "Biotechnology               1\n",
       "engin                       1\n",
       "Econs                       1\n",
       "MHSC                        1\n",
       "Malcom                      1\n",
       "Kop                         1\n",
       "Human Sciences              1\n",
       "Communication               1\n",
       "Nursing                     1\n",
       "Diploma Nursing             1\n",
       "IT                          1\n",
       "Pendidikan Islam            1\n",
       "Radiography                 1\n",
       "Fiqh fatwa                  1\n",
       "DIPLOMA TESL                1\n",
       "Koe                         1\n",
       "Fiqh                        1\n",
       "CTS                         1\n",
       "koe                         1\n",
       "Benl                        1\n",
       "Kirkhs                      1\n",
       "Mathemathics                1\n",
       "Pendidikan islam            1\n",
       "Human Resources             1\n",
       "Irkhs                       1\n",
       "Psychology                  1\n",
       "KENMS                       1\n",
       "Accounting                  1\n",
       "ENM                         1\n",
       "Marine science              1\n",
       "Banking Studies             1\n",
       "Business Administration     1\n",
       "Law                         1\n",
       "KIRKHS                      1\n",
       "Usuluddin                   1\n",
       "TAASL                       1\n",
       "ALA                         1\n",
       "Islamic education           1\n",
       "Pendidikan Islam            1\n",
       "Name: Course, dtype: int64"
      ]
     },
     "execution_count": 149,
     "metadata": {},
     "output_type": "execute_result"
    }
   ],
   "source": [
    "# show different courses\n",
    "student_df[\"Course\"].value_counts()"
   ]
  },
  {
   "cell_type": "code",
   "execution_count": 150,
   "id": "a43c1345",
   "metadata": {},
   "outputs": [],
   "source": [
    "# Clean up Course column\n",
    "student_df['Course'] = student_df['Course'].replace({'Koe': 'KOE','koe': 'KOE'})\n",
    "student_df['Course'] = student_df['Course'].replace({'benl': 'BENL', 'Benl': 'BENL'})\n",
    "student_df['Course'] = student_df['Course'].replace({'engin': 'Engineering','Engine': 'Engineering'})\n",
    "student_df['Course'] = student_df['Course'].replace({'KIRKHS': 'Kirkhs'})\n",
    "student_df['Course'] = student_df['Course'].replace({'Islamic education': 'Islamic Education'})\n",
    "student_df['Course'] = student_df['Course'].replace({'Laws': 'Law'})\n",
    "student_df['Course'] = student_df['Course'].replace({'Pendidikan islam': 'Pendidikan Islam', 'Pendidikan Islam ': 'Pendidikan Islam'})\n",
    "student_df['Course'] = student_df['Course'].replace({'Diploma Nursing': 'Nursing', 'Nursing ': 'Nursing'})\n",
    "student_df['Course'] = student_df['Course'].replace({'Fiqh' : 'Fiqh Fatwa ', 'Fiqh Fatwa': 'Fiqh Fatwa'})\n",
    "student_df['Course'] = student_df['Course'].replace({'Econs' : 'Econ'})\n",
    "student_df['Course'] = student_df['Course'].replace({'Irkhs' : 'Kirkhs'})\n",
    "student_df['Course'] = student_df['Course'].replace({'ENM' : 'KENMS'})\n",
    "student_df['Course'] = student_df['Course'].replace({'psychology' : 'Psychology'})"
   ]
  },
  {
   "cell_type": "code",
   "execution_count": 151,
   "id": "a2c0792e",
   "metadata": {},
   "outputs": [
    {
     "data": {
      "text/plain": [
       "Engineering                20\n",
       "BCS                        18\n",
       "BIT                        10\n",
       "KOE                         6\n",
       "Biomedical science          4\n",
       "Law                         3\n",
       "Pendidikan Islam            3\n",
       "BENL                        3\n",
       "Kirkhs                      3\n",
       "Psychology                  3\n",
       "KENMS                       2\n",
       "Nursing                     2\n",
       "Islamic Education           2\n",
       "Human Sciences              1\n",
       "Malcom                      1\n",
       "Kop                         1\n",
       "Radiography                 1\n",
       "Biotechnology               1\n",
       "Communication               1\n",
       "Econ                        1\n",
       "Fiqh fatwa                  1\n",
       "DIPLOMA TESL                1\n",
       "MHSC                        1\n",
       "TAASL                       1\n",
       "CTS                         1\n",
       "IT                          1\n",
       "ALA                         1\n",
       "Usuluddin                   1\n",
       "Business Administration     1\n",
       "Banking Studies             1\n",
       "Marine science              1\n",
       "Accounting                  1\n",
       "Human Resources             1\n",
       "Mathemathics                1\n",
       "Fiqh Fatwa                  1\n",
       "Name: Course, dtype: int64"
      ]
     },
     "execution_count": 151,
     "metadata": {},
     "output_type": "execute_result"
    }
   ],
   "source": [
    "student_df[\"Course\"].value_counts()"
   ]
  },
  {
   "cell_type": "code",
   "execution_count": 152,
   "id": "71c591d7",
   "metadata": {},
   "outputs": [
    {
     "data": {
      "text/plain": [
       "year 1    41\n",
       "Year 3    19\n",
       "Year 2    16\n",
       "year 2    10\n",
       "year 4     8\n",
       "year 3     5\n",
       "Year 1     2\n",
       "Name: Year, dtype: int64"
      ]
     },
     "execution_count": 152,
     "metadata": {},
     "output_type": "execute_result"
    }
   ],
   "source": [
    "# clean up Year column\n",
    "student_df[\"Year\"].value_counts()"
   ]
  },
  {
   "cell_type": "code",
   "execution_count": 153,
   "id": "cffa94e0",
   "metadata": {},
   "outputs": [],
   "source": [
    "student_df['Year'] = student_df['Year'].replace({'year 1': 'Year 1'})\n",
    "student_df['Year'] = student_df['Year'].replace({'year 2': 'Year 2'})\n",
    "student_df['Year'] = student_df['Year'].replace({'year 3': 'Year 3'})"
   ]
  },
  {
   "cell_type": "code",
   "execution_count": 154,
   "id": "d9939f31",
   "metadata": {
    "scrolled": true
   },
   "outputs": [
    {
     "data": {
      "text/plain": [
       "Year 1    43\n",
       "Year 2    26\n",
       "Year 3    24\n",
       "year 4     8\n",
       "Name: Year, dtype: int64"
      ]
     },
     "execution_count": 154,
     "metadata": {},
     "output_type": "execute_result"
    }
   ],
   "source": [
    "student_df[\"Year\"].value_counts()"
   ]
  },
  {
   "cell_type": "code",
   "execution_count": 155,
   "id": "2963f6ee",
   "metadata": {},
   "outputs": [
    {
     "data": {
      "text/plain": [
       "3.50 - 4.00     47\n",
       "3.00 - 3.49     43\n",
       "2.50 - 2.99      4\n",
       "0 - 1.99         4\n",
       "2.00 - 2.49      2\n",
       "3.50 - 4.00      1\n",
       "Name: GPA, dtype: int64"
      ]
     },
     "execution_count": 155,
     "metadata": {},
     "output_type": "execute_result"
    }
   ],
   "source": [
    "# clean up GPA column\n",
    "student_df[\"GPA\"].value_counts()"
   ]
  },
  {
   "cell_type": "code",
   "execution_count": 156,
   "id": "2f798472",
   "metadata": {},
   "outputs": [],
   "source": [
    "student_df['GPA'] = student_df['GPA'].replace({'3.50 - 4.00 ': '3.50 - 4.00'})"
   ]
  },
  {
   "cell_type": "code",
   "execution_count": 157,
   "id": "a76b74b1",
   "metadata": {},
   "outputs": [
    {
     "data": {
      "text/plain": [
       "3.50 - 4.00    48\n",
       "3.00 - 3.49    43\n",
       "2.50 - 2.99     4\n",
       "0 - 1.99        4\n",
       "2.00 - 2.49     2\n",
       "Name: GPA, dtype: int64"
      ]
     },
     "execution_count": 157,
     "metadata": {},
     "output_type": "execute_result"
    }
   ],
   "source": [
    "student_df[\"GPA\"].value_counts()"
   ]
  }
 ],
 "metadata": {
  "kernelspec": {
   "display_name": "PythonData",
   "language": "python",
   "name": "pythondata"
  },
  "language_info": {
   "codemirror_mode": {
    "name": "ipython",
    "version": 3
   },
   "file_extension": ".py",
   "mimetype": "text/x-python",
   "name": "python",
   "nbconvert_exporter": "python",
   "pygments_lexer": "ipython3",
   "version": "3.7.13"
  }
 },
 "nbformat": 4,
 "nbformat_minor": 5
}
