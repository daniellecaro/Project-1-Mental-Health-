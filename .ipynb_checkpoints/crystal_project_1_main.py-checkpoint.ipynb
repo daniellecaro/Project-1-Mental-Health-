{
 "cells": [
  {
   "cell_type": "code",
   "execution_count": 1,
   "id": "a61547f4",
   "metadata": {},
   "outputs": [],
   "source": [
    "# import libraries\n",
    "import os\n",
    "import csv\n",
    "import pandas as pd\n",
    "import matplotlib.pyplot as plt\n",
    "import numpy as np\n",
    "#%matplotlib notebook"
   ]
  },
  {
   "cell_type": "code",
   "execution_count": 2,
   "id": "e3622626",
   "metadata": {},
   "outputs": [],
   "source": [
    "# read in files\n",
    "student_df = pd.read_csv(\"Resources/student data.csv\")\n",
    "academic_performance_df = pd.read_csv(\"Resources/Effects on Academic Performance.csv\")"
   ]
  },
  {
   "cell_type": "code",
   "execution_count": 3,
   "id": "eb9e2412",
   "metadata": {},
   "outputs": [],
   "source": [
    "# CLEANING DATA"
   ]
  },
  {
   "cell_type": "code",
   "execution_count": 4,
   "id": "8cef57a5",
   "metadata": {},
   "outputs": [
    {
     "data": {
      "text/plain": [
       "Index(['Timestamp', 'Choose your gender', 'Age', 'What is your course?',\n",
       "       'Your current year of Study', 'What is your CGPA?', 'Marital status',\n",
       "       'Do you have Depression?', 'Do you have Anxiety?',\n",
       "       'Do you have Panic attack?',\n",
       "       'Did you seek any specialist for a treatment?'],\n",
       "      dtype='object')"
      ]
     },
     "execution_count": 4,
     "metadata": {},
     "output_type": "execute_result"
    }
   ],
   "source": [
    "# show column names\n",
    "student_columns = student_df.columns\n",
    "student_columns"
   ]
  },
  {
   "cell_type": "code",
   "execution_count": 5,
   "id": "99e27593",
   "metadata": {},
   "outputs": [
    {
     "data": {
      "text/html": [
       "<div>\n",
       "<style scoped>\n",
       "    .dataframe tbody tr th:only-of-type {\n",
       "        vertical-align: middle;\n",
       "    }\n",
       "\n",
       "    .dataframe tbody tr th {\n",
       "        vertical-align: top;\n",
       "    }\n",
       "\n",
       "    .dataframe thead th {\n",
       "        text-align: right;\n",
       "    }\n",
       "</style>\n",
       "<table border=\"1\" class=\"dataframe\">\n",
       "  <thead>\n",
       "    <tr style=\"text-align: right;\">\n",
       "      <th></th>\n",
       "      <th>Timestamp</th>\n",
       "      <th>Choose your gender</th>\n",
       "      <th>Age</th>\n",
       "      <th>What is your course?</th>\n",
       "      <th>Your current year of Study</th>\n",
       "      <th>What is your CGPA?</th>\n",
       "      <th>Marital status</th>\n",
       "      <th>Do you have Depression?</th>\n",
       "      <th>Do you have Anxiety?</th>\n",
       "      <th>Do you have Panic attack?</th>\n",
       "      <th>Did you seek any specialist for a treatment?</th>\n",
       "    </tr>\n",
       "  </thead>\n",
       "  <tbody>\n",
       "    <tr>\n",
       "      <th>0</th>\n",
       "      <td>8/7/2020 12:02</td>\n",
       "      <td>Female</td>\n",
       "      <td>18.0</td>\n",
       "      <td>Engineering</td>\n",
       "      <td>year 1</td>\n",
       "      <td>3.00 - 3.49</td>\n",
       "      <td>No</td>\n",
       "      <td>Yes</td>\n",
       "      <td>No</td>\n",
       "      <td>Yes</td>\n",
       "      <td>No</td>\n",
       "    </tr>\n",
       "    <tr>\n",
       "      <th>1</th>\n",
       "      <td>8/7/2020 12:04</td>\n",
       "      <td>Male</td>\n",
       "      <td>21.0</td>\n",
       "      <td>Islamic education</td>\n",
       "      <td>year 2</td>\n",
       "      <td>3.00 - 3.49</td>\n",
       "      <td>No</td>\n",
       "      <td>No</td>\n",
       "      <td>Yes</td>\n",
       "      <td>No</td>\n",
       "      <td>No</td>\n",
       "    </tr>\n",
       "    <tr>\n",
       "      <th>2</th>\n",
       "      <td>8/7/2020 12:05</td>\n",
       "      <td>Male</td>\n",
       "      <td>19.0</td>\n",
       "      <td>BIT</td>\n",
       "      <td>Year 1</td>\n",
       "      <td>3.00 - 3.49</td>\n",
       "      <td>No</td>\n",
       "      <td>Yes</td>\n",
       "      <td>Yes</td>\n",
       "      <td>Yes</td>\n",
       "      <td>No</td>\n",
       "    </tr>\n",
       "    <tr>\n",
       "      <th>3</th>\n",
       "      <td>8/7/2020 12:06</td>\n",
       "      <td>Female</td>\n",
       "      <td>22.0</td>\n",
       "      <td>Laws</td>\n",
       "      <td>year 3</td>\n",
       "      <td>3.00 - 3.49</td>\n",
       "      <td>Yes</td>\n",
       "      <td>Yes</td>\n",
       "      <td>No</td>\n",
       "      <td>No</td>\n",
       "      <td>No</td>\n",
       "    </tr>\n",
       "    <tr>\n",
       "      <th>4</th>\n",
       "      <td>8/7/2020 12:13</td>\n",
       "      <td>Male</td>\n",
       "      <td>23.0</td>\n",
       "      <td>Mathemathics</td>\n",
       "      <td>year 4</td>\n",
       "      <td>3.00 - 3.49</td>\n",
       "      <td>No</td>\n",
       "      <td>No</td>\n",
       "      <td>No</td>\n",
       "      <td>No</td>\n",
       "      <td>No</td>\n",
       "    </tr>\n",
       "  </tbody>\n",
       "</table>\n",
       "</div>"
      ],
      "text/plain": [
       "        Timestamp Choose your gender   Age What is your course?  \\\n",
       "0  8/7/2020 12:02             Female  18.0          Engineering   \n",
       "1  8/7/2020 12:04               Male  21.0    Islamic education   \n",
       "2  8/7/2020 12:05               Male  19.0                  BIT   \n",
       "3  8/7/2020 12:06             Female  22.0                 Laws   \n",
       "4  8/7/2020 12:13               Male  23.0         Mathemathics   \n",
       "\n",
       "  Your current year of Study What is your CGPA? Marital status  \\\n",
       "0                     year 1        3.00 - 3.49             No   \n",
       "1                     year 2        3.00 - 3.49             No   \n",
       "2                     Year 1        3.00 - 3.49             No   \n",
       "3                     year 3        3.00 - 3.49            Yes   \n",
       "4                     year 4        3.00 - 3.49             No   \n",
       "\n",
       "  Do you have Depression? Do you have Anxiety? Do you have Panic attack?  \\\n",
       "0                     Yes                   No                       Yes   \n",
       "1                      No                  Yes                        No   \n",
       "2                     Yes                  Yes                       Yes   \n",
       "3                     Yes                   No                        No   \n",
       "4                      No                   No                        No   \n",
       "\n",
       "  Did you seek any specialist for a treatment?  \n",
       "0                                           No  \n",
       "1                                           No  \n",
       "2                                           No  \n",
       "3                                           No  \n",
       "4                                           No  "
      ]
     },
     "execution_count": 5,
     "metadata": {},
     "output_type": "execute_result"
    }
   ],
   "source": [
    "student_df.head()"
   ]
  },
  {
   "cell_type": "code",
   "execution_count": 6,
   "id": "00365cdb",
   "metadata": {},
   "outputs": [],
   "source": [
    "# rename columns\n",
    "student_df.columns = ['Timestamp', 'Gender', 'Age', 'Course',\n",
    "       'Year', 'GPA', 'Marital_status',\n",
    "       'Depression', 'Anxiety',\n",
    "       'Panic_attack',\n",
    "       'Specialist_visit']"
   ]
  },
  {
   "cell_type": "code",
   "execution_count": 7,
   "id": "ee4b1e28",
   "metadata": {},
   "outputs": [],
   "source": [
    "# delete timestamp column\n",
    "del student_df['Timestamp']"
   ]
  },
  {
   "cell_type": "code",
   "execution_count": 8,
   "id": "6aa8e3ab",
   "metadata": {},
   "outputs": [
    {
     "data": {
      "text/html": [
       "<div>\n",
       "<style scoped>\n",
       "    .dataframe tbody tr th:only-of-type {\n",
       "        vertical-align: middle;\n",
       "    }\n",
       "\n",
       "    .dataframe tbody tr th {\n",
       "        vertical-align: top;\n",
       "    }\n",
       "\n",
       "    .dataframe thead th {\n",
       "        text-align: right;\n",
       "    }\n",
       "</style>\n",
       "<table border=\"1\" class=\"dataframe\">\n",
       "  <thead>\n",
       "    <tr style=\"text-align: right;\">\n",
       "      <th></th>\n",
       "      <th>Gender</th>\n",
       "      <th>Age</th>\n",
       "      <th>Course</th>\n",
       "      <th>Year</th>\n",
       "      <th>GPA</th>\n",
       "      <th>Marital_status</th>\n",
       "      <th>Depression</th>\n",
       "      <th>Anxiety</th>\n",
       "      <th>Panic_attack</th>\n",
       "      <th>Specialist_visit</th>\n",
       "    </tr>\n",
       "  </thead>\n",
       "  <tbody>\n",
       "    <tr>\n",
       "      <th>0</th>\n",
       "      <td>Female</td>\n",
       "      <td>18.0</td>\n",
       "      <td>Engineering</td>\n",
       "      <td>year 1</td>\n",
       "      <td>3.00 - 3.49</td>\n",
       "      <td>No</td>\n",
       "      <td>Yes</td>\n",
       "      <td>No</td>\n",
       "      <td>Yes</td>\n",
       "      <td>No</td>\n",
       "    </tr>\n",
       "    <tr>\n",
       "      <th>1</th>\n",
       "      <td>Male</td>\n",
       "      <td>21.0</td>\n",
       "      <td>Islamic education</td>\n",
       "      <td>year 2</td>\n",
       "      <td>3.00 - 3.49</td>\n",
       "      <td>No</td>\n",
       "      <td>No</td>\n",
       "      <td>Yes</td>\n",
       "      <td>No</td>\n",
       "      <td>No</td>\n",
       "    </tr>\n",
       "    <tr>\n",
       "      <th>2</th>\n",
       "      <td>Male</td>\n",
       "      <td>19.0</td>\n",
       "      <td>BIT</td>\n",
       "      <td>Year 1</td>\n",
       "      <td>3.00 - 3.49</td>\n",
       "      <td>No</td>\n",
       "      <td>Yes</td>\n",
       "      <td>Yes</td>\n",
       "      <td>Yes</td>\n",
       "      <td>No</td>\n",
       "    </tr>\n",
       "    <tr>\n",
       "      <th>3</th>\n",
       "      <td>Female</td>\n",
       "      <td>22.0</td>\n",
       "      <td>Laws</td>\n",
       "      <td>year 3</td>\n",
       "      <td>3.00 - 3.49</td>\n",
       "      <td>Yes</td>\n",
       "      <td>Yes</td>\n",
       "      <td>No</td>\n",
       "      <td>No</td>\n",
       "      <td>No</td>\n",
       "    </tr>\n",
       "    <tr>\n",
       "      <th>4</th>\n",
       "      <td>Male</td>\n",
       "      <td>23.0</td>\n",
       "      <td>Mathemathics</td>\n",
       "      <td>year 4</td>\n",
       "      <td>3.00 - 3.49</td>\n",
       "      <td>No</td>\n",
       "      <td>No</td>\n",
       "      <td>No</td>\n",
       "      <td>No</td>\n",
       "      <td>No</td>\n",
       "    </tr>\n",
       "  </tbody>\n",
       "</table>\n",
       "</div>"
      ],
      "text/plain": [
       "   Gender   Age             Course    Year          GPA Marital_status  \\\n",
       "0  Female  18.0        Engineering  year 1  3.00 - 3.49             No   \n",
       "1    Male  21.0  Islamic education  year 2  3.00 - 3.49             No   \n",
       "2    Male  19.0                BIT  Year 1  3.00 - 3.49             No   \n",
       "3  Female  22.0               Laws  year 3  3.00 - 3.49            Yes   \n",
       "4    Male  23.0       Mathemathics  year 4  3.00 - 3.49             No   \n",
       "\n",
       "  Depression Anxiety Panic_attack Specialist_visit  \n",
       "0        Yes      No          Yes               No  \n",
       "1         No     Yes           No               No  \n",
       "2        Yes     Yes          Yes               No  \n",
       "3        Yes      No           No               No  \n",
       "4         No      No           No               No  "
      ]
     },
     "execution_count": 8,
     "metadata": {},
     "output_type": "execute_result"
    }
   ],
   "source": [
    "student_df.head()"
   ]
  },
  {
   "cell_type": "code",
   "execution_count": 9,
   "id": "a65b5db8",
   "metadata": {},
   "outputs": [
    {
     "data": {
      "text/plain": [
       "101"
      ]
     },
     "execution_count": 9,
     "metadata": {},
     "output_type": "execute_result"
    }
   ],
   "source": [
    "# count how many total students\n",
    "total_students = len(student_df[\"Gender\"])\n",
    "total_students"
   ]
  },
  {
   "cell_type": "code",
   "execution_count": 10,
   "id": "5fde8cd7",
   "metadata": {
    "scrolled": true
   },
   "outputs": [
    {
     "data": {
      "text/plain": [
       "Gender              101\n",
       "Age                 100\n",
       "Course              101\n",
       "Year                101\n",
       "GPA                 101\n",
       "Marital_status      101\n",
       "Depression          101\n",
       "Anxiety             101\n",
       "Panic_attack        101\n",
       "Specialist_visit    101\n",
       "dtype: int64"
      ]
     },
     "execution_count": 10,
     "metadata": {},
     "output_type": "execute_result"
    }
   ],
   "source": [
    "# make sure every column has same count\n",
    "student_df.count()"
   ]
  },
  {
   "cell_type": "code",
   "execution_count": 11,
   "id": "02d7cc9c",
   "metadata": {},
   "outputs": [
    {
     "data": {
      "text/plain": [
       "Gender               object\n",
       "Age                 float64\n",
       "Course               object\n",
       "Year                 object\n",
       "GPA                  object\n",
       "Marital_status       object\n",
       "Depression           object\n",
       "Anxiety              object\n",
       "Panic_attack         object\n",
       "Specialist_visit     object\n",
       "dtype: object"
      ]
     },
     "execution_count": 11,
     "metadata": {},
     "output_type": "execute_result"
    }
   ],
   "source": [
    "# see data types\n",
    "student_df.dtypes"
   ]
  },
  {
   "cell_type": "code",
   "execution_count": 12,
   "id": "e0602ec7",
   "metadata": {},
   "outputs": [],
   "source": [
    "# question is What gender suffers more from Mental Health? Why?"
   ]
  },
  {
   "cell_type": "code",
   "execution_count": 13,
   "id": "dd1371c5",
   "metadata": {},
   "outputs": [],
   "source": [
    "# count male vs female\n",
    "data = student_df[\"Gender\"].value_counts()"
   ]
  },
  {
   "cell_type": "code",
   "execution_count": 14,
   "id": "ff3a0c9d",
   "metadata": {},
   "outputs": [],
   "source": [
    "#creat piechart for gender, female/male\n",
    "labels = [\"Female\", \"Male\"]"
   ]
  },
  {
   "cell_type": "code",
   "execution_count": 15,
   "id": "8c8d11fe",
   "metadata": {},
   "outputs": [],
   "source": [
    "# the value of each section the pie charts\n",
    "#data = [75, 26]"
   ]
  },
  {
   "cell_type": "code",
   "execution_count": 16,
   "id": "1fad2704",
   "metadata": {},
   "outputs": [],
   "source": [
    "# create the colors of each gender\n",
    "colors = [\"teal\", \"darkslategrey\"]"
   ]
  },
  {
   "cell_type": "code",
   "execution_count": 17,
   "id": "6b12ea6f",
   "metadata": {},
   "outputs": [],
   "source": [
    "#tell matplotlib to separate the \"Females\" section from males\n",
    "explode = (0, 0.1)"
   ]
  },
  {
   "cell_type": "code",
   "execution_count": 18,
   "id": "c0620797",
   "metadata": {},
   "outputs": [
    {
     "data": {
      "image/png": "[encoded data removed]",
      "text/plain": [
       "<Figure size 640x480 with 1 Axes>"
      ]
     },
     "metadata": {},
     "output_type": "display_data"
    }
   ],
   "source": [
    "# create pie chart\n",
    "plt.title(\"Mental Health\")\n",
    "plt.pie(data, explode=explode, labels=labels, colors=colors,\n",
    "         autopct=\"%1.1f%%\", shadow=True, startangle=140)\n",
    "\n",
    "\n",
    "plt.show()"
   ]
  },
  {
   "cell_type": "code",
   "execution_count": 19,
   "id": "53a7f5a4",
   "metadata": {},
   "outputs": [],
   "source": [
    "#create bar graph? for rows of females vs males"
   ]
  },
  {
   "cell_type": "code",
   "execution_count": 20,
   "id": "af621d87",
   "metadata": {},
   "outputs": [
    {
     "data": {
      "text/html": [
       "<div>\n",
       "<style scoped>\n",
       "    .dataframe tbody tr th:only-of-type {\n",
       "        vertical-align: middle;\n",
       "    }\n",
       "\n",
       "    .dataframe tbody tr th {\n",
       "        vertical-align: top;\n",
       "    }\n",
       "\n",
       "    .dataframe thead th {\n",
       "        text-align: right;\n",
       "    }\n",
       "</style>\n",
       "<table border=\"1\" class=\"dataframe\">\n",
       "  <thead>\n",
       "    <tr style=\"text-align: right;\">\n",
       "      <th></th>\n",
       "      <th>Gender</th>\n",
       "      <th>Marital_status</th>\n",
       "      <th>Depression</th>\n",
       "      <th>Anxiety</th>\n",
       "      <th>Panic_attack</th>\n",
       "      <th>Specialist_visit</th>\n",
       "    </tr>\n",
       "  </thead>\n",
       "  <tbody>\n",
       "    <tr>\n",
       "      <th>0</th>\n",
       "      <td>Female</td>\n",
       "      <td>No</td>\n",
       "      <td>Yes</td>\n",
       "      <td>No</td>\n",
       "      <td>Yes</td>\n",
       "      <td>No</td>\n",
       "    </tr>\n",
       "    <tr>\n",
       "      <th>1</th>\n",
       "      <td>Male</td>\n",
       "      <td>No</td>\n",
       "      <td>No</td>\n",
       "      <td>Yes</td>\n",
       "      <td>No</td>\n",
       "      <td>No</td>\n",
       "    </tr>\n",
       "    <tr>\n",
       "      <th>2</th>\n",
       "      <td>Male</td>\n",
       "      <td>No</td>\n",
       "      <td>Yes</td>\n",
       "      <td>Yes</td>\n",
       "      <td>Yes</td>\n",
       "      <td>No</td>\n",
       "    </tr>\n",
       "    <tr>\n",
       "      <th>3</th>\n",
       "      <td>Female</td>\n",
       "      <td>Yes</td>\n",
       "      <td>Yes</td>\n",
       "      <td>No</td>\n",
       "      <td>No</td>\n",
       "      <td>No</td>\n",
       "    </tr>\n",
       "    <tr>\n",
       "      <th>4</th>\n",
       "      <td>Male</td>\n",
       "      <td>No</td>\n",
       "      <td>No</td>\n",
       "      <td>No</td>\n",
       "      <td>No</td>\n",
       "      <td>No</td>\n",
       "    </tr>\n",
       "  </tbody>\n",
       "</table>\n",
       "</div>"
      ],
      "text/plain": [
       "   Gender Marital_status Depression Anxiety Panic_attack Specialist_visit\n",
       "0  Female             No        Yes      No          Yes               No\n",
       "1    Male             No         No     Yes           No               No\n",
       "2    Male             No        Yes     Yes          Yes               No\n",
       "3  Female            Yes        Yes      No           No               No\n",
       "4    Male             No         No      No           No               No"
      ]
     },
     "execution_count": 20,
     "metadata": {},
     "output_type": "execute_result"
    }
   ],
   "source": [
    "# filter data for females saying yes and no \n",
    "gender_data = student_df[['Gender','Marital_status',\n",
    "       'Depression', 'Anxiety',\n",
    "       'Panic_attack',\n",
    "       'Specialist_visit']]\n",
    "\n",
    "gender_data.head()\n"
   ]
  },
  {
   "cell_type": "code",
   "execution_count": 21,
   "id": "15316adc",
   "metadata": {},
   "outputs": [
    {
     "data": {
      "text/html": [
       "<div>\n",
       "<style scoped>\n",
       "    .dataframe tbody tr th:only-of-type {\n",
       "        vertical-align: middle;\n",
       "    }\n",
       "\n",
       "    .dataframe tbody tr th {\n",
       "        vertical-align: top;\n",
       "    }\n",
       "\n",
       "    .dataframe thead th {\n",
       "        text-align: right;\n",
       "    }\n",
       "</style>\n",
       "<table border=\"1\" class=\"dataframe\">\n",
       "  <thead>\n",
       "    <tr style=\"text-align: right;\">\n",
       "      <th></th>\n",
       "      <th>Gender</th>\n",
       "      <th>Marital_status</th>\n",
       "      <th>Depression</th>\n",
       "      <th>Anxiety</th>\n",
       "      <th>Panic_attack</th>\n",
       "      <th>Specialist_visit</th>\n",
       "    </tr>\n",
       "  </thead>\n",
       "  <tbody>\n",
       "    <tr>\n",
       "      <th>1</th>\n",
       "      <td>Male</td>\n",
       "      <td>No</td>\n",
       "      <td>No</td>\n",
       "      <td>Yes</td>\n",
       "      <td>No</td>\n",
       "      <td>No</td>\n",
       "    </tr>\n",
       "    <tr>\n",
       "      <th>2</th>\n",
       "      <td>Male</td>\n",
       "      <td>No</td>\n",
       "      <td>Yes</td>\n",
       "      <td>Yes</td>\n",
       "      <td>Yes</td>\n",
       "      <td>No</td>\n",
       "    </tr>\n",
       "    <tr>\n",
       "      <th>4</th>\n",
       "      <td>Male</td>\n",
       "      <td>No</td>\n",
       "      <td>No</td>\n",
       "      <td>No</td>\n",
       "      <td>No</td>\n",
       "      <td>No</td>\n",
       "    </tr>\n",
       "    <tr>\n",
       "      <th>5</th>\n",
       "      <td>Male</td>\n",
       "      <td>No</td>\n",
       "      <td>No</td>\n",
       "      <td>No</td>\n",
       "      <td>Yes</td>\n",
       "      <td>No</td>\n",
       "    </tr>\n",
       "    <tr>\n",
       "      <th>9</th>\n",
       "      <td>Male</td>\n",
       "      <td>No</td>\n",
       "      <td>No</td>\n",
       "      <td>Yes</td>\n",
       "      <td>Yes</td>\n",
       "      <td>No</td>\n",
       "    </tr>\n",
       "    <tr>\n",
       "      <th>13</th>\n",
       "      <td>Male</td>\n",
       "      <td>No</td>\n",
       "      <td>No</td>\n",
       "      <td>No</td>\n",
       "      <td>No</td>\n",
       "      <td>No</td>\n",
       "    </tr>\n",
       "    <tr>\n",
       "      <th>15</th>\n",
       "      <td>Male</td>\n",
       "      <td>No</td>\n",
       "      <td>No</td>\n",
       "      <td>No</td>\n",
       "      <td>No</td>\n",
       "      <td>No</td>\n",
       "    </tr>\n",
       "    <tr>\n",
       "      <th>27</th>\n",
       "      <td>Male</td>\n",
       "      <td>Yes</td>\n",
       "      <td>Yes</td>\n",
       "      <td>Yes</td>\n",
       "      <td>No</td>\n",
       "      <td>No</td>\n",
       "    </tr>\n",
       "    <tr>\n",
       "      <th>31</th>\n",
       "      <td>Male</td>\n",
       "      <td>No</td>\n",
       "      <td>No</td>\n",
       "      <td>No</td>\n",
       "      <td>No</td>\n",
       "      <td>No</td>\n",
       "    </tr>\n",
       "    <tr>\n",
       "      <th>32</th>\n",
       "      <td>Male</td>\n",
       "      <td>No</td>\n",
       "      <td>No</td>\n",
       "      <td>No</td>\n",
       "      <td>Yes</td>\n",
       "      <td>No</td>\n",
       "    </tr>\n",
       "    <tr>\n",
       "      <th>33</th>\n",
       "      <td>Male</td>\n",
       "      <td>Yes</td>\n",
       "      <td>Yes</td>\n",
       "      <td>Yes</td>\n",
       "      <td>No</td>\n",
       "      <td>Yes</td>\n",
       "    </tr>\n",
       "    <tr>\n",
       "      <th>43</th>\n",
       "      <td>Male</td>\n",
       "      <td>No</td>\n",
       "      <td>No</td>\n",
       "      <td>No</td>\n",
       "      <td>No</td>\n",
       "      <td>No</td>\n",
       "    </tr>\n",
       "    <tr>\n",
       "      <th>44</th>\n",
       "      <td>Male</td>\n",
       "      <td>No</td>\n",
       "      <td>No</td>\n",
       "      <td>No</td>\n",
       "      <td>Yes</td>\n",
       "      <td>No</td>\n",
       "    </tr>\n",
       "    <tr>\n",
       "      <th>45</th>\n",
       "      <td>Male</td>\n",
       "      <td>No</td>\n",
       "      <td>No</td>\n",
       "      <td>Yes</td>\n",
       "      <td>Yes</td>\n",
       "      <td>No</td>\n",
       "    </tr>\n",
       "    <tr>\n",
       "      <th>48</th>\n",
       "      <td>Male</td>\n",
       "      <td>No</td>\n",
       "      <td>Yes</td>\n",
       "      <td>No</td>\n",
       "      <td>No</td>\n",
       "      <td>No</td>\n",
       "    </tr>\n",
       "    <tr>\n",
       "      <th>55</th>\n",
       "      <td>Male</td>\n",
       "      <td>No</td>\n",
       "      <td>No</td>\n",
       "      <td>No</td>\n",
       "      <td>No</td>\n",
       "      <td>No</td>\n",
       "    </tr>\n",
       "    <tr>\n",
       "      <th>56</th>\n",
       "      <td>Male</td>\n",
       "      <td>No</td>\n",
       "      <td>No</td>\n",
       "      <td>No</td>\n",
       "      <td>No</td>\n",
       "      <td>No</td>\n",
       "    </tr>\n",
       "    <tr>\n",
       "      <th>67</th>\n",
       "      <td>Male</td>\n",
       "      <td>Yes</td>\n",
       "      <td>Yes</td>\n",
       "      <td>No</td>\n",
       "      <td>Yes</td>\n",
       "      <td>No</td>\n",
       "    </tr>\n",
       "    <tr>\n",
       "      <th>73</th>\n",
       "      <td>Male</td>\n",
       "      <td>No</td>\n",
       "      <td>No</td>\n",
       "      <td>No</td>\n",
       "      <td>No</td>\n",
       "      <td>No</td>\n",
       "    </tr>\n",
       "    <tr>\n",
       "      <th>74</th>\n",
       "      <td>Male</td>\n",
       "      <td>No</td>\n",
       "      <td>No</td>\n",
       "      <td>Yes</td>\n",
       "      <td>No</td>\n",
       "      <td>No</td>\n",
       "    </tr>\n",
       "    <tr>\n",
       "      <th>84</th>\n",
       "      <td>Male</td>\n",
       "      <td>No</td>\n",
       "      <td>No</td>\n",
       "      <td>No</td>\n",
       "      <td>No</td>\n",
       "      <td>No</td>\n",
       "    </tr>\n",
       "    <tr>\n",
       "      <th>88</th>\n",
       "      <td>Male</td>\n",
       "      <td>No</td>\n",
       "      <td>No</td>\n",
       "      <td>Yes</td>\n",
       "      <td>No</td>\n",
       "      <td>No</td>\n",
       "    </tr>\n",
       "    <tr>\n",
       "      <th>89</th>\n",
       "      <td>Male</td>\n",
       "      <td>No</td>\n",
       "      <td>No</td>\n",
       "      <td>No</td>\n",
       "      <td>Yes</td>\n",
       "      <td>No</td>\n",
       "    </tr>\n",
       "    <tr>\n",
       "      <th>91</th>\n",
       "      <td>Male</td>\n",
       "      <td>No</td>\n",
       "      <td>No</td>\n",
       "      <td>Yes</td>\n",
       "      <td>No</td>\n",
       "      <td>No</td>\n",
       "    </tr>\n",
       "    <tr>\n",
       "      <th>97</th>\n",
       "      <td>Male</td>\n",
       "      <td>No</td>\n",
       "      <td>Yes</td>\n",
       "      <td>Yes</td>\n",
       "      <td>No</td>\n",
       "      <td>No</td>\n",
       "    </tr>\n",
       "    <tr>\n",
       "      <th>100</th>\n",
       "      <td>Male</td>\n",
       "      <td>No</td>\n",
       "      <td>No</td>\n",
       "      <td>No</td>\n",
       "      <td>No</td>\n",
       "      <td>No</td>\n",
       "    </tr>\n",
       "  </tbody>\n",
       "</table>\n",
       "</div>"
      ],
      "text/plain": [
       "    Gender Marital_status Depression Anxiety Panic_attack Specialist_visit\n",
       "1     Male             No         No     Yes           No               No\n",
       "2     Male             No        Yes     Yes          Yes               No\n",
       "4     Male             No         No      No           No               No\n",
       "5     Male             No         No      No          Yes               No\n",
       "9     Male             No         No     Yes          Yes               No\n",
       "13    Male             No         No      No           No               No\n",
       "15    Male             No         No      No           No               No\n",
       "27    Male            Yes        Yes     Yes           No               No\n",
       "31    Male             No         No      No           No               No\n",
       "32    Male             No         No      No          Yes               No\n",
       "33    Male            Yes        Yes     Yes           No              Yes\n",
       "43    Male             No         No      No           No               No\n",
       "44    Male             No         No      No          Yes               No\n",
       "45    Male             No         No     Yes          Yes               No\n",
       "48    Male             No        Yes      No           No               No\n",
       "55    Male             No         No      No           No               No\n",
       "56    Male             No         No      No           No               No\n",
       "67    Male            Yes        Yes      No          Yes               No\n",
       "73    Male             No         No      No           No               No\n",
       "74    Male             No         No     Yes           No               No\n",
       "84    Male             No         No      No           No               No\n",
       "88    Male             No         No     Yes           No               No\n",
       "89    Male             No         No      No          Yes               No\n",
       "91    Male             No         No     Yes           No               No\n",
       "97    Male             No        Yes     Yes           No               No\n",
       "100   Male             No         No      No           No               No"
      ]
     },
     "execution_count": 21,
     "metadata": {},
     "output_type": "execute_result"
    }
   ],
   "source": [
    "# create male gender data\n",
    "male_data = gender_data.loc[gender_data[\"Gender\"]==\"Male\"]\n",
    "male_data"
   ]
  },
  {
   "cell_type": "code",
   "execution_count": 22,
   "id": "db55ea6c",
   "metadata": {
    "scrolled": true
   },
   "outputs": [
    {
     "data": {
      "text/plain": [
       "No     23\n",
       "Yes     3\n",
       "Name: Marital_status, dtype: int64"
      ]
     },
     "execution_count": 22,
     "metadata": {},
     "output_type": "execute_result"
    }
   ],
   "source": [
    "# create male gender data\n",
    "male_data = gender_data.loc[gender_data[\"Gender\"]==\"Male\"]\n",
    "male_data\n",
    "\n",
    "marital_count2 = male_data[\"Marital_status\"].value_counts()\n",
    "marital_count2"
   ]
  },
  {
   "cell_type": "code",
   "execution_count": 23,
   "id": "d5a44827",
   "metadata": {},
   "outputs": [
    {
     "data": {
      "text/plain": [
       "No     20\n",
       "Yes     6\n",
       "Name: Depression, dtype: int64"
      ]
     },
     "execution_count": 23,
     "metadata": {},
     "output_type": "execute_result"
    }
   ],
   "source": [
    "# create depression for male data\n",
    "male_depression = male_data.loc[male_data[\"Gender\"]==\"Male\"]\n",
    "male_depression \n",
    "\n",
    "\n",
    "depression_count2 = male_depression[\"Depression\"].value_counts()\n",
    "depression_count2 "
   ]
  },
  {
   "cell_type": "code",
   "execution_count": 24,
   "id": "08eae2c3",
   "metadata": {},
   "outputs": [
    {
     "data": {
      "text/plain": [
       "No     16\n",
       "Yes    10\n",
       "Name: Anxiety, dtype: int64"
      ]
     },
     "execution_count": 24,
     "metadata": {},
     "output_type": "execute_result"
    }
   ],
   "source": [
    "# anxiety\n",
    "male_anxiety = male_data.loc[male_data[\"Gender\"]==\"Male\"]\n",
    "male_anxiety\n",
    "\n",
    "male_anxiety2 = male_anxiety[\"Anxiety\"].value_counts()\n",
    "male_anxiety2"
   ]
  },
  {
   "cell_type": "code",
   "execution_count": 25,
   "id": "442fc2ec",
   "metadata": {},
   "outputs": [
    {
     "data": {
      "text/plain": [
       "No     18\n",
       "Yes     8\n",
       "Name: Panic_attack, dtype: int64"
      ]
     },
     "execution_count": 25,
     "metadata": {},
     "output_type": "execute_result"
    }
   ],
   "source": [
    "#panic attack\n",
    "male_panic_attack = male_data.loc[male_data[\"Gender\"]==\"Male\"]\n",
    "male_panic_attack\n",
    "\n",
    "panic_attack_count2 = male_panic_attack[\"Panic_attack\"].value_counts()\n",
    "panic_attack_count2"
   ]
  },
  {
   "cell_type": "code",
   "execution_count": 26,
   "id": "b0774850",
   "metadata": {},
   "outputs": [
    {
     "data": {
      "text/plain": [
       "No     25\n",
       "Yes     1\n",
       "Name: Specialist_visit, dtype: int64"
      ]
     },
     "execution_count": 26,
     "metadata": {},
     "output_type": "execute_result"
    }
   ],
   "source": [
    "# specialist visit\n",
    "male_specialist_v = male_data.loc[male_data[\"Gender\"]==\"Male\"]\n",
    "male_specialist_v\n",
    "\n",
    "specialist_v_count2 = male_specialist_v[\"Specialist_visit\"].value_counts()\n",
    "specialist_v_count2 "
   ]
  },
  {
   "cell_type": "code",
   "execution_count": 27,
   "id": "09bca143",
   "metadata": {},
   "outputs": [
    {
     "data": {
      "text/plain": [
       "No     62\n",
       "Yes    13\n",
       "Name: Marital_status, dtype: int64"
      ]
     },
     "execution_count": 27,
     "metadata": {},
     "output_type": "execute_result"
    }
   ],
   "source": [
    "# create female gender data\n",
    "female_data = gender_data.loc[gender_data[\"Gender\"]==\"Female\"]\n",
    "female_data\n",
    "\n",
    "#finding the count of yes and no\n",
    "marital_count = female_data[\"Marital_status\"].value_counts()\n",
    "marital_count"
   ]
  },
  {
   "cell_type": "code",
   "execution_count": 28,
   "id": "62e19c60",
   "metadata": {},
   "outputs": [
    {
     "data": {
      "text/plain": [
       "No     46\n",
       "Yes    29\n",
       "Name: Depression, dtype: int64"
      ]
     },
     "execution_count": 28,
     "metadata": {},
     "output_type": "execute_result"
    }
   ],
   "source": [
    "# finding loc of depression\n",
    "female_depression = female_data.loc[female_data[\"Gender\"]==\"Female\"]\n",
    "female_depression\n",
    "\n",
    "# try .loc , .groupby , unique\n",
    "#depression\n",
    "depression_count = female_depression[\"Depression\"].value_counts()\n",
    "depression_count"
   ]
  },
  {
   "cell_type": "code",
   "execution_count": 29,
   "id": "f052b061",
   "metadata": {},
   "outputs": [
    {
     "data": {
      "text/plain": [
       "No     51\n",
       "Yes    24\n",
       "Name: Anxiety, dtype: int64"
      ]
     },
     "execution_count": 29,
     "metadata": {},
     "output_type": "execute_result"
    }
   ],
   "source": [
    "# finding loc of anxiety\n",
    "female_anxiety = female_data.loc[female_data[\"Gender\"]==\"Female\"]\n",
    "female_anxiety\n",
    "\n",
    "# anxiety\n",
    "anxiety_count = female_anxiety[\"Anxiety\"].value_counts()\n",
    "anxiety_count"
   ]
  },
  {
   "cell_type": "code",
   "execution_count": 30,
   "id": "7fea1506",
   "metadata": {},
   "outputs": [
    {
     "data": {
      "text/plain": [
       "No     50\n",
       "Yes    25\n",
       "Name: Panic_attack, dtype: int64"
      ]
     },
     "execution_count": 30,
     "metadata": {},
     "output_type": "execute_result"
    }
   ],
   "source": [
    "# finding loc of panic attack\n",
    "female_panic_attack = female_data.loc[female_data[\"Gender\"]==\"Female\"]\n",
    "female_panic_attack\n",
    "\n",
    "#panic attacks\n",
    "panick_attack_count = female_panic_attack[\"Panic_attack\"].value_counts()\n",
    "panick_attack_count"
   ]
  },
  {
   "cell_type": "code",
   "execution_count": 31,
   "id": "9e4a3067",
   "metadata": {},
   "outputs": [
    {
     "data": {
      "text/plain": [
       "No     70\n",
       "Yes     5\n",
       "Name: Specialist_visit, dtype: int64"
      ]
     },
     "execution_count": 31,
     "metadata": {},
     "output_type": "execute_result"
    }
   ],
   "source": [
    "# finding loc of specialist visits\n",
    "female_specialist_visit = female_data.loc[female_data[\"Gender\"]==\"Female\"]\n",
    "female_specialist_visit\n",
    "\n",
    "specialist_visit_count = female_specialist_visit[\"Specialist_visit\"].value_counts()\n",
    "specialist_visit_count"
   ]
  },
  {
   "cell_type": "code",
   "execution_count": 32,
   "id": "102fefcd",
   "metadata": {
    "scrolled": false
   },
   "outputs": [
    {
     "data": {
      "image/png": "[encoded data removed]",
      "text/plain": [
       "<Figure size 640x480 with 1 Axes>"
      ]
     },
     "metadata": {},
     "output_type": "display_data"
    }
   ],
   "source": [
    "# Data set 1 Females (trying it out and see if I can do either separate or together)\n",
    "w=0.4\n",
    "x = [\"Marital_status\",\"Depression\", \"Anxiety\",\"Panic_attack\",\"Specialist_visit\"]\n",
    "No = [62, 46, 51, 50, 70]\n",
    "Yes = [13, 29, 21, 25, 5]\n",
    "\n",
    "bar1 = np.arange(len(x))\n",
    "bar2 = [i+w for i in bar1]\n",
    "\n",
    "plt.bar(bar1,No,w,label='No')\n",
    "plt.bar(bar2,Yes,w,label='Yes')\n",
    "\n",
    "plt.xlabel(\"Questions\")\n",
    "plt.ylabel(\"Number of Count\")\n",
    "plt.title(\"Mental Health in Female\")\n",
    "plt.xticks (bar1,x)\n",
    "plt.legend()\n",
    "\n",
    "plt.show()"
   ]
  },
  {
   "cell_type": "code",
   "execution_count": 33,
   "id": "c05116cb",
   "metadata": {},
   "outputs": [
    {
     "data": {
      "image/png": "[encoded data removed]",
      "text/plain": [
       "<Figure size 640x480 with 1 Axes>"
      ]
     },
     "metadata": {},
     "output_type": "display_data"
    }
   ],
   "source": [
    "# create dataset in males\n",
    "w=0.4\n",
    "x = [\"Marital_status\",\"Depression\", \"Anxiety\",\"Panic_attack\",\"Specialist_visit\"]\n",
    "No = [23, 20, 16, 18, 25]\n",
    "Yes = [3, 6, 10, 8, 1]\n",
    "\n",
    "bar1 = np.arange(len(x))\n",
    "bar2 = [i+w for i in bar1]\n",
    "\n",
    "plt.bar(bar1,No,w,label='No')\n",
    "plt.bar(bar2,Yes,w,label='Yes')\n",
    "\n",
    "plt.xlabel(\"Questions\")\n",
    "plt.ylabel(\"Number of Count\")\n",
    "plt.title(\"Mental Health in Male\")\n",
    "plt.xticks (bar1,x)\n",
    "plt.legend()\n",
    "\n",
    "plt.show()"
   ]
  },
  {
   "cell_type": "code",
   "execution_count": 34,
   "id": "28eec99c",
   "metadata": {},
   "outputs": [
    {
     "data": {
      "image/png": "[encoded data removed]",
      "text/plain": [
       "<Figure size 640x480 with 1 Axes>"
      ]
     },
     "metadata": {},
     "output_type": "display_data"
    }
   ],
   "source": [
    "# trying the plt bar for Both Genders (hope its good)\n",
    "\n",
    "w=0.4\n",
    "w=0.4\n",
    "x = [\"Marital_status\",\"Depression\", \"Anxiety\",\"Panic_attack\",\"Specialist_visit\"]\n",
    "No_Female = [62, 46, 51, 50, 70]\n",
    "No_Male = [23, 20, 16, 18, 25]\n",
    "Yes_Female = [13, 29, 21, 25, 5]\n",
    "Yes_Male = [3, 6, 10, 8, 1]\n",
    "\n",
    "bar1 = np.arange(len(x))\n",
    "bar2 = [i+w for i in bar1]\n",
    "bar3 = np.arange(len(x))\n",
    "bar4 = [i+w for i in bar3]\n",
    "\n",
    "plt.bar(bar1,No_Female,w,label='No_Female', color='darkorange')\n",
    "plt.bar(bar2,Yes_Female,w,label='Yes_Female', color='burlywood')\n",
    "plt.bar(bar3,Yes_Male,w,label='Yes_Male', color='forestgreen')\n",
    "plt.bar(bar4,No_Male,w,label='No_Male', color='goldenrod')\n",
    "\n",
    "plt.xlabel(\"Category\")\n",
    "plt.ylabel(\"Number Count\")\n",
    "plt.title(\"Mental Health in Both Genders\")\n",
    "plt.xticks (bar1,x)\n",
    "plt.legend(loc='center left', bbox_to_anchor=(1, 0.5))\n",
    "\n",
    "plt.show()"
   ]
  },
  {
   "cell_type": "code",
   "execution_count": 35,
   "id": "8ab9ea5f",
   "metadata": {},
   "outputs": [
    {
     "data": {
      "text/plain": [
       "BCS                        18\n",
       "Engineering                17\n",
       "BIT                        10\n",
       "Biomedical science          4\n",
       "KOE                         4\n",
       "BENL                        2\n",
       "Laws                        2\n",
       "psychology                  2\n",
       "Engine                      2\n",
       "Islamic Education           1\n",
       "Biotechnology               1\n",
       "engin                       1\n",
       "Econs                       1\n",
       "MHSC                        1\n",
       "Malcom                      1\n",
       "Kop                         1\n",
       "Human Sciences              1\n",
       "Communication               1\n",
       "Nursing                     1\n",
       "Diploma Nursing             1\n",
       "IT                          1\n",
       "Pendidikan Islam            1\n",
       "Radiography                 1\n",
       "Fiqh fatwa                  1\n",
       "DIPLOMA TESL                1\n",
       "Koe                         1\n",
       "Fiqh                        1\n",
       "CTS                         1\n",
       "koe                         1\n",
       "Benl                        1\n",
       "Kirkhs                      1\n",
       "Mathemathics                1\n",
       "Pendidikan islam            1\n",
       "Human Resources             1\n",
       "Irkhs                       1\n",
       "Psychology                  1\n",
       "KENMS                       1\n",
       "Accounting                  1\n",
       "ENM                         1\n",
       "Marine science              1\n",
       "Banking Studies             1\n",
       "Business Administration     1\n",
       "Law                         1\n",
       "KIRKHS                      1\n",
       "Usuluddin                   1\n",
       "TAASL                       1\n",
       "ALA                         1\n",
       "Islamic education           1\n",
       "Pendidikan Islam            1\n",
       "Name: Course, dtype: int64"
      ]
     },
     "execution_count": 35,
     "metadata": {},
     "output_type": "execute_result"
    }
   ],
   "source": [
    "# show different courses\n",
    "student_df[\"Course\"].value_counts()"
   ]
  },
  {
   "cell_type": "code",
   "execution_count": 36,
   "id": "a43c1345",
   "metadata": {},
   "outputs": [],
   "source": [
    "# Clean up Course column\n",
    "student_df['Course'] = student_df['Course'].replace({'Koe': 'KOE','koe': 'KOE'})\n",
    "student_df['Course'] = student_df['Course'].replace({'benl': 'BENL', 'Benl': 'BENL'})\n",
    "student_df['Course'] = student_df['Course'].replace({'engin': 'Engineering','Engine': 'Engineering'})\n",
    "student_df['Course'] = student_df['Course'].replace({'KIRKHS': 'Kirkhs'})\n",
    "student_df['Course'] = student_df['Course'].replace({'Islamic education': 'Islamic Education'})\n",
    "student_df['Course'] = student_df['Course'].replace({'Laws': 'Law'})\n",
    "student_df['Course'] = student_df['Course'].replace({'Pendidikan islam': 'Pendidikan Islam', 'Pendidikan Islam ': 'Pendidikan Islam'})\n",
    "student_df['Course'] = student_df['Course'].replace({'Diploma Nursing': 'Nursing', 'Nursing ': 'Nursing'})\n",
    "student_df['Course'] = student_df['Course'].replace({'Fiqh' : 'Fiqh Fatwa ', 'Fiqh Fatwa': 'Fiqh Fatwa'})\n",
    "student_df['Course'] = student_df['Course'].replace({'Econs' : 'Econ'})\n",
    "student_df['Course'] = student_df['Course'].replace({'Irkhs' : 'Kirkhs'})\n",
    "student_df['Course'] = student_df['Course'].replace({'ENM' : 'KENMS'})\n",
    "student_df['Course'] = student_df['Course'].replace({'psychology' : 'Psychology'})"
   ]
  },
  {
   "cell_type": "code",
   "execution_count": 37,
   "id": "a2c0792e",
   "metadata": {},
   "outputs": [
    {
     "data": {
      "text/plain": [
       "Engineering                20\n",
       "BCS                        18\n",
       "BIT                        10\n",
       "KOE                         6\n",
       "Biomedical science          4\n",
       "Law                         3\n",
       "Pendidikan Islam            3\n",
       "BENL                        3\n",
       "Kirkhs                      3\n",
       "Psychology                  3\n",
       "KENMS                       2\n",
       "Nursing                     2\n",
       "Islamic Education           2\n",
       "Human Sciences              1\n",
       "Malcom                      1\n",
       "Kop                         1\n",
       "Radiography                 1\n",
       "Biotechnology               1\n",
       "Communication               1\n",
       "Econ                        1\n",
       "Fiqh fatwa                  1\n",
       "DIPLOMA TESL                1\n",
       "MHSC                        1\n",
       "TAASL                       1\n",
       "CTS                         1\n",
       "IT                          1\n",
       "ALA                         1\n",
       "Usuluddin                   1\n",
       "Business Administration     1\n",
       "Banking Studies             1\n",
       "Marine science              1\n",
       "Accounting                  1\n",
       "Human Resources             1\n",
       "Mathemathics                1\n",
       "Fiqh Fatwa                  1\n",
       "Name: Course, dtype: int64"
      ]
     },
     "execution_count": 37,
     "metadata": {},
     "output_type": "execute_result"
    }
   ],
   "source": [
    "student_df[\"Course\"].value_counts()"
   ]
  },
  {
   "cell_type": "code",
   "execution_count": 38,
   "id": "71c591d7",
   "metadata": {},
   "outputs": [
    {
     "data": {
      "text/plain": [
       "year 1    41\n",
       "Year 3    19\n",
       "Year 2    16\n",
       "year 2    10\n",
       "year 4     8\n",
       "year 3     5\n",
       "Year 1     2\n",
       "Name: Year, dtype: int64"
      ]
     },
     "execution_count": 38,
     "metadata": {},
     "output_type": "execute_result"
    }
   ],
   "source": [
    "# clean up Year column\n",
    "student_df[\"Year\"].value_counts()"
   ]
  },
  {
   "cell_type": "code",
   "execution_count": 39,
   "id": "cffa94e0",
   "metadata": {},
   "outputs": [],
   "source": [
    "student_df['Year'] = student_df['Year'].replace({'year 1': 'Year 1'})\n",
    "student_df['Year'] = student_df['Year'].replace({'year 2': 'Year 2'})\n",
    "student_df['Year'] = student_df['Year'].replace({'year 3': 'Year 3'})"
   ]
  },
  {
   "cell_type": "code",
   "execution_count": 40,
   "id": "d9939f31",
   "metadata": {
    "scrolled": true
   },
   "outputs": [
    {
     "data": {
      "text/plain": [
       "Year 1    43\n",
       "Year 2    26\n",
       "Year 3    24\n",
       "year 4     8\n",
       "Name: Year, dtype: int64"
      ]
     },
     "execution_count": 40,
     "metadata": {},
     "output_type": "execute_result"
    }
   ],
   "source": [
    "student_df[\"Year\"].value_counts()"
   ]
  },
  {
   "cell_type": "code",
   "execution_count": 41,
   "id": "2963f6ee",
   "metadata": {},
   "outputs": [
    {
     "data": {
      "text/plain": [
       "3.50 - 4.00     47\n",
       "3.00 - 3.49     43\n",
       "2.50 - 2.99      4\n",
       "0 - 1.99         4\n",
       "2.00 - 2.49      2\n",
       "3.50 - 4.00      1\n",
       "Name: GPA, dtype: int64"
      ]
     },
     "execution_count": 41,
     "metadata": {},
     "output_type": "execute_result"
    }
   ],
   "source": [
    "# clean up GPA column\n",
    "student_df[\"GPA\"].value_counts()"
   ]
  },
  {
   "cell_type": "code",
   "execution_count": 42,
   "id": "2f798472",
   "metadata": {},
   "outputs": [],
   "source": [
    "student_df['GPA'] = student_df['GPA'].replace({'3.50 - 4.00 ': '3.50 - 4.00'})"
   ]
  },
  {
   "cell_type": "code",
   "execution_count": 43,
   "id": "a76b74b1",
   "metadata": {
    "scrolled": true
   },
   "outputs": [
    {
     "data": {
      "text/plain": [
       "3.50 - 4.00    48\n",
       "3.00 - 3.49    43\n",
       "2.50 - 2.99     4\n",
       "0 - 1.99        4\n",
       "2.00 - 2.49     2\n",
       "Name: GPA, dtype: int64"
      ]
     },
     "execution_count": 43,
     "metadata": {},
     "output_type": "execute_result"
    }
   ],
   "source": [
    "student_df[\"GPA\"].value_counts()"
   ]
  },
  {
   "cell_type": "code",
   "execution_count": 44,
   "id": "94b631fd",
   "metadata": {},
   "outputs": [],
   "source": [
    "##### OTHER SPREADSHEET "
   ]
  },
  {
   "cell_type": "code",
   "execution_count": 45,
   "id": "fa5d78cb",
   "metadata": {},
   "outputs": [
    {
     "data": {
      "text/html": [
       "<div>\n",
       "<style scoped>\n",
       "    .dataframe tbody tr th:only-of-type {\n",
       "        vertical-align: middle;\n",
       "    }\n",
       "\n",
       "    .dataframe tbody tr th {\n",
       "        vertical-align: top;\n",
       "    }\n",
       "\n",
       "    .dataframe thead th {\n",
       "        text-align: right;\n",
       "    }\n",
       "</style>\n",
       "<table border=\"1\" class=\"dataframe\">\n",
       "  <thead>\n",
       "    <tr style=\"text-align: right;\">\n",
       "      <th></th>\n",
       "      <th>Gender:</th>\n",
       "      <th>Age:</th>\n",
       "      <th>Educational Level</th>\n",
       "      <th>Little interest or pleasure in doing things</th>\n",
       "      <th>Feeling down, depressed, or hopeless</th>\n",
       "      <th>Trouble falling or staying asleep, or sleeping too much</th>\n",
       "      <th>Feeling tired or having little energy</th>\n",
       "      <th>Poor appetite or overeating</th>\n",
       "      <th>Feeling bad about yourself or that you are a failure or not have let yourself or your family down</th>\n",
       "      <th>Trouble concentrating on things, such as reading the newspaper or watching television</th>\n",
       "      <th>Moving or speaking so slowly that other people could have noticed Or being so restless that you have been moving around a lot more than usual</th>\n",
       "      <th>Thoughts that you would be better off dead or of hurting yourself in some way</th>\n",
       "      <th>Do you have part-time or full-time job?</th>\n",
       "      <th>Which of the following best describes your term-time accommodation?</th>\n",
       "      <th>How many hours do you spend studying each day?</th>\n",
       "      <th>How many of the electronic gadgets (e.g. mobile phone, computer, laptop, PSP, PS4, Wii, etc.) do you have in your home or your student accommodation/mess/hall?</th>\n",
       "      <th>How many hours do you spend on social media per day?</th>\n",
       "      <th>Your Last Semester GPA:</th>\n",
       "    </tr>\n",
       "  </thead>\n",
       "  <tbody>\n",
       "    <tr>\n",
       "      <th>0</th>\n",
       "      <td>Male</td>\n",
       "      <td>19 to 24 years</td>\n",
       "      <td>College - Bachelor's</td>\n",
       "      <td>3</td>\n",
       "      <td>2</td>\n",
       "      <td>4</td>\n",
       "      <td>4</td>\n",
       "      <td>3</td>\n",
       "      <td>3</td>\n",
       "      <td>4</td>\n",
       "      <td>3</td>\n",
       "      <td>2</td>\n",
       "      <td>Part time</td>\n",
       "      <td>Home (with parents)</td>\n",
       "      <td>2 - 4 hours</td>\n",
       "      <td>4 - 6</td>\n",
       "      <td>More than 4 Hours</td>\n",
       "      <td>2.30</td>\n",
       "    </tr>\n",
       "    <tr>\n",
       "      <th>1</th>\n",
       "      <td>Male</td>\n",
       "      <td>19 to 24 years</td>\n",
       "      <td>College - Bachelor's</td>\n",
       "      <td>2</td>\n",
       "      <td>1</td>\n",
       "      <td>2</td>\n",
       "      <td>1</td>\n",
       "      <td>1</td>\n",
       "      <td>1</td>\n",
       "      <td>1</td>\n",
       "      <td>1</td>\n",
       "      <td>1</td>\n",
       "      <td>Part time</td>\n",
       "      <td>University hall of residence</td>\n",
       "      <td>1 - 2 hours</td>\n",
       "      <td>1 - 3</td>\n",
       "      <td>1 - 2 Hours</td>\n",
       "      <td>2.70</td>\n",
       "    </tr>\n",
       "    <tr>\n",
       "      <th>2</th>\n",
       "      <td>Female</td>\n",
       "      <td>18 years or less</td>\n",
       "      <td>High School</td>\n",
       "      <td>2</td>\n",
       "      <td>2</td>\n",
       "      <td>2</td>\n",
       "      <td>2</td>\n",
       "      <td>1</td>\n",
       "      <td>1</td>\n",
       "      <td>2</td>\n",
       "      <td>2</td>\n",
       "      <td>1</td>\n",
       "      <td>No</td>\n",
       "      <td>Home (with parents)</td>\n",
       "      <td>1 - 2 hours</td>\n",
       "      <td>1 - 3</td>\n",
       "      <td>More than 4 Hours</td>\n",
       "      <td>2.97</td>\n",
       "    </tr>\n",
       "    <tr>\n",
       "      <th>3</th>\n",
       "      <td>Female</td>\n",
       "      <td>18 years or less</td>\n",
       "      <td>High School</td>\n",
       "      <td>3</td>\n",
       "      <td>1</td>\n",
       "      <td>2</td>\n",
       "      <td>3</td>\n",
       "      <td>3</td>\n",
       "      <td>1</td>\n",
       "      <td>1</td>\n",
       "      <td>1</td>\n",
       "      <td>2</td>\n",
       "      <td>No</td>\n",
       "      <td>Home (with parents)</td>\n",
       "      <td>1 - 2 hours</td>\n",
       "      <td>More than 6</td>\n",
       "      <td>2 - 4 Hours</td>\n",
       "      <td>2.74</td>\n",
       "    </tr>\n",
       "    <tr>\n",
       "      <th>4</th>\n",
       "      <td>Male</td>\n",
       "      <td>18 years or less</td>\n",
       "      <td>High School</td>\n",
       "      <td>1</td>\n",
       "      <td>2</td>\n",
       "      <td>2</td>\n",
       "      <td>3</td>\n",
       "      <td>1</td>\n",
       "      <td>1</td>\n",
       "      <td>3</td>\n",
       "      <td>1</td>\n",
       "      <td>1</td>\n",
       "      <td>Part time</td>\n",
       "      <td>Home (with parents)</td>\n",
       "      <td>1 - 2 hours</td>\n",
       "      <td>4 - 6</td>\n",
       "      <td>More than 4 Hours</td>\n",
       "      <td>3.37</td>\n",
       "    </tr>\n",
       "  </tbody>\n",
       "</table>\n",
       "</div>"
      ],
      "text/plain": [
       "  Gender:              Age:     Educational Level  \\\n",
       "0    Male    19 to 24 years  College - Bachelor's   \n",
       "1    Male    19 to 24 years  College - Bachelor's   \n",
       "2  Female  18 years or less           High School   \n",
       "3  Female  18 years or less           High School   \n",
       "4    Male  18 years or less           High School   \n",
       "\n",
       "   Little interest or pleasure in doing things   \\\n",
       "0                                             3   \n",
       "1                                             2   \n",
       "2                                             2   \n",
       "3                                             3   \n",
       "4                                             1   \n",
       "\n",
       "   Feeling down, depressed, or hopeless  \\\n",
       "0                                     2   \n",
       "1                                     1   \n",
       "2                                     2   \n",
       "3                                     1   \n",
       "4                                     2   \n",
       "\n",
       "   Trouble falling or staying asleep, or sleeping too much  \\\n",
       "0                                                  4         \n",
       "1                                                  2         \n",
       "2                                                  2         \n",
       "3                                                  2         \n",
       "4                                                  2         \n",
       "\n",
       "   Feeling tired or having little energy  Poor appetite or overeating  \\\n",
       "0                                      4                            3   \n",
       "1                                      1                            1   \n",
       "2                                      2                            1   \n",
       "3                                      3                            3   \n",
       "4                                      3                            1   \n",
       "\n",
       "   Feeling bad about yourself or that you are a failure or not have let yourself or your family down  \\\n",
       "0                                                  3                                                   \n",
       "1                                                  1                                                   \n",
       "2                                                  1                                                   \n",
       "3                                                  1                                                   \n",
       "4                                                  1                                                   \n",
       "\n",
       "   Trouble concentrating on things, such as reading the newspaper or watching television  \\\n",
       "0                                                  4                                       \n",
       "1                                                  1                                       \n",
       "2                                                  2                                       \n",
       "3                                                  1                                       \n",
       "4                                                  3                                       \n",
       "\n",
       "   Moving or speaking so slowly that other people could have noticed Or being so restless that you have been moving around a lot more than usual  \\\n",
       "0                                                  3                                                                                               \n",
       "1                                                  1                                                                                               \n",
       "2                                                  2                                                                                               \n",
       "3                                                  1                                                                                               \n",
       "4                                                  1                                                                                               \n",
       "\n",
       "   Thoughts that you would be better off dead or of hurting yourself in some way  \\\n",
       "0                                                  2                               \n",
       "1                                                  1                               \n",
       "2                                                  1                               \n",
       "3                                                  2                               \n",
       "4                                                  1                               \n",
       "\n",
       "  Do you have part-time or full-time job?   \\\n",
       "0                                Part time   \n",
       "1                                Part time   \n",
       "2                                       No   \n",
       "3                                       No   \n",
       "4                                Part time   \n",
       "\n",
       "  Which of the following best describes your term-time accommodation?  \\\n",
       "0                                Home (with parents)                    \n",
       "1                       University hall of residence                    \n",
       "2                                Home (with parents)                    \n",
       "3                                Home (with parents)                    \n",
       "4                                Home (with parents)                    \n",
       "\n",
       "  How many hours do you spend studying each day?  \\\n",
       "0                                    2 - 4 hours   \n",
       "1                                    1 - 2 hours   \n",
       "2                                    1 - 2 hours   \n",
       "3                                    1 - 2 hours   \n",
       "4                                    1 - 2 hours   \n",
       "\n",
       "  How many of the electronic gadgets (e.g. mobile phone, computer, laptop, PSP, PS4, Wii, etc.) do you have in your home or your student accommodation/mess/hall?  \\\n",
       "0                                              4 - 6                                                                                                                \n",
       "1                                              1 - 3                                                                                                                \n",
       "2                                              1 - 3                                                                                                                \n",
       "3                                        More than 6                                                                                                                \n",
       "4                                              4 - 6                                                                                                                \n",
       "\n",
       "  How many hours do you spend on social media per day?  \\\n",
       "0                                  More than 4 Hours     \n",
       "1                                        1 - 2 Hours     \n",
       "2                                  More than 4 Hours     \n",
       "3                                        2 - 4 Hours     \n",
       "4                                  More than 4 Hours     \n",
       "\n",
       "   Your Last Semester GPA:   \n",
       "0                      2.30  \n",
       "1                      2.70  \n",
       "2                      2.97  \n",
       "3                      2.74  \n",
       "4                      3.37  "
      ]
     },
     "execution_count": 45,
     "metadata": {},
     "output_type": "execute_result"
    }
   ],
   "source": [
    "academic_performance_df.head()"
   ]
  },
  {
   "cell_type": "code",
   "execution_count": 46,
   "id": "52463bd4",
   "metadata": {},
   "outputs": [],
   "source": [
    "# CLEANING DATA "
   ]
  },
  {
   "cell_type": "code",
   "execution_count": 47,
   "id": "34f3d807",
   "metadata": {},
   "outputs": [],
   "source": [
    "# rename columns\n",
    "rename_academic_df = academic_performance_df.rename(columns = {'Gender:':'gender', 'Age:':'age',\n",
    "                                     'Educational Level':'educational_level',\n",
    "                                     'Little interest or pleasure in doing things ':'interest_level',\n",
    "                                     'Feeling down, depressed, or hopeless':'depressed_level',\n",
    "                                     'Trouble falling or staying asleep, or sleeping too much':'sleepy_level',\n",
    "                                     'Feeling tired or having little energy': 'energy_level',\n",
    "                                     'Poor appetite or overeating':'appetite_level',\n",
    "                                     'Feeling bad about yourself or that you are a failure or not have let yourself or your family down':'self_worth_level',\n",
    "                                     'Trouble concentrating on things, such as reading the newspaper or watching television':'concentrating_level',\n",
    "                                     'Moving or speaking so slowly that other people could have noticed Or being so restless that you have been moving around a lot more than usual':'restless_level',\n",
    "                                     'Thoughts that you would be better off dead or of hurting yourself in some way':'suicidal_level',\n",
    "                                     'Do you have part-time or full-time job? ':'employment',\n",
    "                                     'Which of the following best describes your term-time accommodation?':'housing_situation',\n",
    "                                     'How many hours do you spend studying each day?':'studing_spending',\n",
    "                                     'How many of the electronic gadgets (e.g. mobile phone, computer, laptop, PSP, PS4, Wii, etc.) do you have in your home or your student accommodation/mess/hall?':'electronic_devices',\n",
    "                                     'How many hours do you spend on social media per day?':'social_media_time',\n",
    "                                     'Your Last Semester GPA: ':'GPA'})"
   ]
  },
  {
   "cell_type": "code",
   "execution_count": 48,
   "id": "54852bef",
   "metadata": {},
   "outputs": [
    {
     "data": {
      "text/plain": [
       "gender                 352\n",
       "age                    352\n",
       "educational_level      352\n",
       "interest_level         352\n",
       "depressed_level        352\n",
       "sleepy_level           352\n",
       "energy_level           352\n",
       "appetite_level         352\n",
       "self_worth_level       352\n",
       "concentrating_level    352\n",
       "restless_level         352\n",
       "suicidal_level         352\n",
       "employment             352\n",
       "housing_situation      352\n",
       "studing_spending       352\n",
       "electronic_devices     352\n",
       "social_media_time      352\n",
       "GPA                    352\n",
       "dtype: int64"
      ]
     },
     "execution_count": 48,
     "metadata": {},
     "output_type": "execute_result"
    }
   ],
   "source": [
    "# look at count to ensure each column has same number of rows \n",
    "rename_academic_df.count()"
   ]
  },
  {
   "cell_type": "code",
   "execution_count": 49,
   "id": "72b1e937",
   "metadata": {},
   "outputs": [
    {
     "data": {
      "text/plain": [
       "College - Bachelor's    204\n",
       "High School             124\n",
       "Master                   24\n",
       "Name: educational_level, dtype: int64"
      ]
     },
     "execution_count": 49,
     "metadata": {},
     "output_type": "execute_result"
    }
   ],
   "source": [
    "# filter to show only \"College - Bachelor's\"\n",
    "rename_academic_df['educational_level'].value_counts()"
   ]
  },
  {
   "cell_type": "code",
   "execution_count": 50,
   "id": "858f752c",
   "metadata": {},
   "outputs": [
    {
     "data": {
      "text/html": [
       "<div>\n",
       "<style scoped>\n",
       "    .dataframe tbody tr th:only-of-type {\n",
       "        vertical-align: middle;\n",
       "    }\n",
       "\n",
       "    .dataframe tbody tr th {\n",
       "        vertical-align: top;\n",
       "    }\n",
       "\n",
       "    .dataframe thead th {\n",
       "        text-align: right;\n",
       "    }\n",
       "</style>\n",
       "<table border=\"1\" class=\"dataframe\">\n",
       "  <thead>\n",
       "    <tr style=\"text-align: right;\">\n",
       "      <th></th>\n",
       "      <th>gender</th>\n",
       "      <th>age</th>\n",
       "      <th>educational_level</th>\n",
       "      <th>interest_level</th>\n",
       "      <th>depressed_level</th>\n",
       "      <th>sleepy_level</th>\n",
       "      <th>energy_level</th>\n",
       "      <th>appetite_level</th>\n",
       "      <th>self_worth_level</th>\n",
       "      <th>concentrating_level</th>\n",
       "      <th>restless_level</th>\n",
       "      <th>suicidal_level</th>\n",
       "      <th>employment</th>\n",
       "      <th>housing_situation</th>\n",
       "      <th>studing_spending</th>\n",
       "      <th>electronic_devices</th>\n",
       "      <th>social_media_time</th>\n",
       "      <th>GPA</th>\n",
       "    </tr>\n",
       "  </thead>\n",
       "  <tbody>\n",
       "    <tr>\n",
       "      <th>0</th>\n",
       "      <td>Male</td>\n",
       "      <td>19 to 24 years</td>\n",
       "      <td>College - Bachelor's</td>\n",
       "      <td>3</td>\n",
       "      <td>2</td>\n",
       "      <td>4</td>\n",
       "      <td>4</td>\n",
       "      <td>3</td>\n",
       "      <td>3</td>\n",
       "      <td>4</td>\n",
       "      <td>3</td>\n",
       "      <td>2</td>\n",
       "      <td>Part time</td>\n",
       "      <td>Home (with parents)</td>\n",
       "      <td>2 - 4 hours</td>\n",
       "      <td>4 - 6</td>\n",
       "      <td>More than 4 Hours</td>\n",
       "      <td>2.30</td>\n",
       "    </tr>\n",
       "    <tr>\n",
       "      <th>1</th>\n",
       "      <td>Male</td>\n",
       "      <td>19 to 24 years</td>\n",
       "      <td>College - Bachelor's</td>\n",
       "      <td>2</td>\n",
       "      <td>1</td>\n",
       "      <td>2</td>\n",
       "      <td>1</td>\n",
       "      <td>1</td>\n",
       "      <td>1</td>\n",
       "      <td>1</td>\n",
       "      <td>1</td>\n",
       "      <td>1</td>\n",
       "      <td>Part time</td>\n",
       "      <td>University hall of residence</td>\n",
       "      <td>1 - 2 hours</td>\n",
       "      <td>1 - 3</td>\n",
       "      <td>1 - 2 Hours</td>\n",
       "      <td>2.70</td>\n",
       "    </tr>\n",
       "    <tr>\n",
       "      <th>6</th>\n",
       "      <td>Female</td>\n",
       "      <td>19 to 24 years</td>\n",
       "      <td>College - Bachelor's</td>\n",
       "      <td>2</td>\n",
       "      <td>2</td>\n",
       "      <td>3</td>\n",
       "      <td>3</td>\n",
       "      <td>1</td>\n",
       "      <td>1</td>\n",
       "      <td>2</td>\n",
       "      <td>2</td>\n",
       "      <td>1</td>\n",
       "      <td>Part time</td>\n",
       "      <td>Home (with parents)</td>\n",
       "      <td>1 - 2 hours</td>\n",
       "      <td>4 - 6</td>\n",
       "      <td>2 - 4 Hours</td>\n",
       "      <td>2.75</td>\n",
       "    </tr>\n",
       "    <tr>\n",
       "      <th>8</th>\n",
       "      <td>Female</td>\n",
       "      <td>19 to 24 years</td>\n",
       "      <td>College - Bachelor's</td>\n",
       "      <td>3</td>\n",
       "      <td>1</td>\n",
       "      <td>4</td>\n",
       "      <td>3</td>\n",
       "      <td>1</td>\n",
       "      <td>2</td>\n",
       "      <td>1</td>\n",
       "      <td>1</td>\n",
       "      <td>1</td>\n",
       "      <td>Full time</td>\n",
       "      <td>Home (with parents)</td>\n",
       "      <td>1 - 2 hours</td>\n",
       "      <td>4 - 6</td>\n",
       "      <td>More than 4 Hours</td>\n",
       "      <td>3.97</td>\n",
       "    </tr>\n",
       "    <tr>\n",
       "      <th>10</th>\n",
       "      <td>Female</td>\n",
       "      <td>19 to 24 years</td>\n",
       "      <td>College - Bachelor's</td>\n",
       "      <td>2</td>\n",
       "      <td>4</td>\n",
       "      <td>4</td>\n",
       "      <td>3</td>\n",
       "      <td>2</td>\n",
       "      <td>3</td>\n",
       "      <td>4</td>\n",
       "      <td>1</td>\n",
       "      <td>3</td>\n",
       "      <td>No</td>\n",
       "      <td>Home (with parents)</td>\n",
       "      <td>1 - 2 hours</td>\n",
       "      <td>1 - 3</td>\n",
       "      <td>More than 4 Hours</td>\n",
       "      <td>2.97</td>\n",
       "    </tr>\n",
       "  </tbody>\n",
       "</table>\n",
       "</div>"
      ],
      "text/plain": [
       "    gender             age     educational_level  interest_level  \\\n",
       "0     Male  19 to 24 years  College - Bachelor's               3   \n",
       "1     Male  19 to 24 years  College - Bachelor's               2   \n",
       "6   Female  19 to 24 years  College - Bachelor's               2   \n",
       "8   Female  19 to 24 years  College - Bachelor's               3   \n",
       "10  Female  19 to 24 years  College - Bachelor's               2   \n",
       "\n",
       "    depressed_level  sleepy_level  energy_level  appetite_level  \\\n",
       "0                 2             4             4               3   \n",
       "1                 1             2             1               1   \n",
       "6                 2             3             3               1   \n",
       "8                 1             4             3               1   \n",
       "10                4             4             3               2   \n",
       "\n",
       "    self_worth_level  concentrating_level  restless_level  suicidal_level  \\\n",
       "0                  3                    4               3               2   \n",
       "1                  1                    1               1               1   \n",
       "6                  1                    2               2               1   \n",
       "8                  2                    1               1               1   \n",
       "10                 3                    4               1               3   \n",
       "\n",
       "   employment             housing_situation studing_spending  \\\n",
       "0   Part time           Home (with parents)      2 - 4 hours   \n",
       "1   Part time  University hall of residence      1 - 2 hours   \n",
       "6   Part time           Home (with parents)      1 - 2 hours   \n",
       "8   Full time           Home (with parents)      1 - 2 hours   \n",
       "10         No           Home (with parents)      1 - 2 hours   \n",
       "\n",
       "   electronic_devices  social_media_time   GPA  \n",
       "0               4 - 6  More than 4 Hours  2.30  \n",
       "1               1 - 3        1 - 2 Hours  2.70  \n",
       "6               4 - 6        2 - 4 Hours  2.75  \n",
       "8               4 - 6  More than 4 Hours  3.97  \n",
       "10              1 - 3  More than 4 Hours  2.97  "
      ]
     },
     "execution_count": 50,
     "metadata": {},
     "output_type": "execute_result"
    }
   ],
   "source": [
    "bachelors_df = rename_academic_df.loc[rename_academic_df['educational_level'] == \"College - Bachelor's\"]\n",
    "bachelors_df.head()"
   ]
  },
  {
   "cell_type": "code",
   "execution_count": 51,
   "id": "6fc4ae4c",
   "metadata": {},
   "outputs": [],
   "source": [
    "# reset index \n",
    "bachelors_df = bachelors_df.reset_index(drop = True)"
   ]
  },
  {
   "cell_type": "code",
   "execution_count": 52,
   "id": "4ee08359",
   "metadata": {},
   "outputs": [
    {
     "data": {
      "text/html": [
       "<div>\n",
       "<style scoped>\n",
       "    .dataframe tbody tr th:only-of-type {\n",
       "        vertical-align: middle;\n",
       "    }\n",
       "\n",
       "    .dataframe tbody tr th {\n",
       "        vertical-align: top;\n",
       "    }\n",
       "\n",
       "    .dataframe thead th {\n",
       "        text-align: right;\n",
       "    }\n",
       "</style>\n",
       "<table border=\"1\" class=\"dataframe\">\n",
       "  <thead>\n",
       "    <tr style=\"text-align: right;\">\n",
       "      <th></th>\n",
       "      <th>gender</th>\n",
       "      <th>age</th>\n",
       "      <th>educational_level</th>\n",
       "      <th>interest_level</th>\n",
       "      <th>depressed_level</th>\n",
       "      <th>sleepy_level</th>\n",
       "      <th>energy_level</th>\n",
       "      <th>appetite_level</th>\n",
       "      <th>self_worth_level</th>\n",
       "      <th>concentrating_level</th>\n",
       "      <th>restless_level</th>\n",
       "      <th>suicidal_level</th>\n",
       "      <th>employment</th>\n",
       "      <th>housing_situation</th>\n",
       "      <th>studing_spending</th>\n",
       "      <th>electronic_devices</th>\n",
       "      <th>social_media_time</th>\n",
       "      <th>GPA</th>\n",
       "    </tr>\n",
       "  </thead>\n",
       "  <tbody>\n",
       "    <tr>\n",
       "      <th>0</th>\n",
       "      <td>Male</td>\n",
       "      <td>19 to 24 years</td>\n",
       "      <td>College - Bachelor's</td>\n",
       "      <td>3</td>\n",
       "      <td>2</td>\n",
       "      <td>4</td>\n",
       "      <td>4</td>\n",
       "      <td>3</td>\n",
       "      <td>3</td>\n",
       "      <td>4</td>\n",
       "      <td>3</td>\n",
       "      <td>2</td>\n",
       "      <td>Part time</td>\n",
       "      <td>Home (with parents)</td>\n",
       "      <td>2 - 4 hours</td>\n",
       "      <td>4 - 6</td>\n",
       "      <td>More than 4 Hours</td>\n",
       "      <td>2.30</td>\n",
       "    </tr>\n",
       "    <tr>\n",
       "      <th>1</th>\n",
       "      <td>Male</td>\n",
       "      <td>19 to 24 years</td>\n",
       "      <td>College - Bachelor's</td>\n",
       "      <td>2</td>\n",
       "      <td>1</td>\n",
       "      <td>2</td>\n",
       "      <td>1</td>\n",
       "      <td>1</td>\n",
       "      <td>1</td>\n",
       "      <td>1</td>\n",
       "      <td>1</td>\n",
       "      <td>1</td>\n",
       "      <td>Part time</td>\n",
       "      <td>University hall of residence</td>\n",
       "      <td>1 - 2 hours</td>\n",
       "      <td>1 - 3</td>\n",
       "      <td>1 - 2 Hours</td>\n",
       "      <td>2.70</td>\n",
       "    </tr>\n",
       "    <tr>\n",
       "      <th>2</th>\n",
       "      <td>Female</td>\n",
       "      <td>19 to 24 years</td>\n",
       "      <td>College - Bachelor's</td>\n",
       "      <td>2</td>\n",
       "      <td>2</td>\n",
       "      <td>3</td>\n",
       "      <td>3</td>\n",
       "      <td>1</td>\n",
       "      <td>1</td>\n",
       "      <td>2</td>\n",
       "      <td>2</td>\n",
       "      <td>1</td>\n",
       "      <td>Part time</td>\n",
       "      <td>Home (with parents)</td>\n",
       "      <td>1 - 2 hours</td>\n",
       "      <td>4 - 6</td>\n",
       "      <td>2 - 4 Hours</td>\n",
       "      <td>2.75</td>\n",
       "    </tr>\n",
       "    <tr>\n",
       "      <th>3</th>\n",
       "      <td>Female</td>\n",
       "      <td>19 to 24 years</td>\n",
       "      <td>College - Bachelor's</td>\n",
       "      <td>3</td>\n",
       "      <td>1</td>\n",
       "      <td>4</td>\n",
       "      <td>3</td>\n",
       "      <td>1</td>\n",
       "      <td>2</td>\n",
       "      <td>1</td>\n",
       "      <td>1</td>\n",
       "      <td>1</td>\n",
       "      <td>Full time</td>\n",
       "      <td>Home (with parents)</td>\n",
       "      <td>1 - 2 hours</td>\n",
       "      <td>4 - 6</td>\n",
       "      <td>More than 4 Hours</td>\n",
       "      <td>3.97</td>\n",
       "    </tr>\n",
       "    <tr>\n",
       "      <th>4</th>\n",
       "      <td>Female</td>\n",
       "      <td>19 to 24 years</td>\n",
       "      <td>College - Bachelor's</td>\n",
       "      <td>2</td>\n",
       "      <td>4</td>\n",
       "      <td>4</td>\n",
       "      <td>3</td>\n",
       "      <td>2</td>\n",
       "      <td>3</td>\n",
       "      <td>4</td>\n",
       "      <td>1</td>\n",
       "      <td>3</td>\n",
       "      <td>No</td>\n",
       "      <td>Home (with parents)</td>\n",
       "      <td>1 - 2 hours</td>\n",
       "      <td>1 - 3</td>\n",
       "      <td>More than 4 Hours</td>\n",
       "      <td>2.97</td>\n",
       "    </tr>\n",
       "    <tr>\n",
       "      <th>...</th>\n",
       "      <td>...</td>\n",
       "      <td>...</td>\n",
       "      <td>...</td>\n",
       "      <td>...</td>\n",
       "      <td>...</td>\n",
       "      <td>...</td>\n",
       "      <td>...</td>\n",
       "      <td>...</td>\n",
       "      <td>...</td>\n",
       "      <td>...</td>\n",
       "      <td>...</td>\n",
       "      <td>...</td>\n",
       "      <td>...</td>\n",
       "      <td>...</td>\n",
       "      <td>...</td>\n",
       "      <td>...</td>\n",
       "      <td>...</td>\n",
       "      <td>...</td>\n",
       "    </tr>\n",
       "    <tr>\n",
       "      <th>199</th>\n",
       "      <td>Female</td>\n",
       "      <td>25 years and above</td>\n",
       "      <td>College - Bachelor's</td>\n",
       "      <td>4</td>\n",
       "      <td>3</td>\n",
       "      <td>4</td>\n",
       "      <td>4</td>\n",
       "      <td>4</td>\n",
       "      <td>4</td>\n",
       "      <td>4</td>\n",
       "      <td>3</td>\n",
       "      <td>2</td>\n",
       "      <td>Full Time</td>\n",
       "      <td>Private rented accommodation</td>\n",
       "      <td>2 - 4 hours</td>\n",
       "      <td>4 - 6</td>\n",
       "      <td>2 - 4 Hours</td>\n",
       "      <td>1.30</td>\n",
       "    </tr>\n",
       "    <tr>\n",
       "      <th>200</th>\n",
       "      <td>Female</td>\n",
       "      <td>19 to 24 years</td>\n",
       "      <td>College - Bachelor's</td>\n",
       "      <td>4</td>\n",
       "      <td>4</td>\n",
       "      <td>2</td>\n",
       "      <td>4</td>\n",
       "      <td>3</td>\n",
       "      <td>4</td>\n",
       "      <td>4</td>\n",
       "      <td>3</td>\n",
       "      <td>2</td>\n",
       "      <td>No</td>\n",
       "      <td>Home (with parents)</td>\n",
       "      <td>2 - 4 hours</td>\n",
       "      <td>1 - 3</td>\n",
       "      <td>2 - 4 Hours</td>\n",
       "      <td>4.00</td>\n",
       "    </tr>\n",
       "    <tr>\n",
       "      <th>201</th>\n",
       "      <td>Female</td>\n",
       "      <td>25 years and above</td>\n",
       "      <td>College - Bachelor's</td>\n",
       "      <td>4</td>\n",
       "      <td>4</td>\n",
       "      <td>2</td>\n",
       "      <td>2</td>\n",
       "      <td>2</td>\n",
       "      <td>2</td>\n",
       "      <td>2</td>\n",
       "      <td>2</td>\n",
       "      <td>3</td>\n",
       "      <td>Full Time</td>\n",
       "      <td>Home (with parents)</td>\n",
       "      <td>More than 4 hours</td>\n",
       "      <td>1 - 3</td>\n",
       "      <td>More than 4 Hours</td>\n",
       "      <td>4.00</td>\n",
       "    </tr>\n",
       "    <tr>\n",
       "      <th>202</th>\n",
       "      <td>Female</td>\n",
       "      <td>19 to 24 years</td>\n",
       "      <td>College - Bachelor's</td>\n",
       "      <td>3</td>\n",
       "      <td>3</td>\n",
       "      <td>3</td>\n",
       "      <td>3</td>\n",
       "      <td>3</td>\n",
       "      <td>3</td>\n",
       "      <td>3</td>\n",
       "      <td>3</td>\n",
       "      <td>2</td>\n",
       "      <td>Full Time</td>\n",
       "      <td>Private rented accommodation</td>\n",
       "      <td>2 - 4 hours</td>\n",
       "      <td>4 - 6</td>\n",
       "      <td>2 - 4 Hours</td>\n",
       "      <td>3.35</td>\n",
       "    </tr>\n",
       "    <tr>\n",
       "      <th>203</th>\n",
       "      <td>Female</td>\n",
       "      <td>25 years and above</td>\n",
       "      <td>College - Bachelor's</td>\n",
       "      <td>3</td>\n",
       "      <td>4</td>\n",
       "      <td>4</td>\n",
       "      <td>3</td>\n",
       "      <td>4</td>\n",
       "      <td>4</td>\n",
       "      <td>2</td>\n",
       "      <td>2</td>\n",
       "      <td>3</td>\n",
       "      <td>Full Time</td>\n",
       "      <td>Home (with parents)</td>\n",
       "      <td>2 - 4 hours</td>\n",
       "      <td>1 - 3</td>\n",
       "      <td>2 - 4 Hours</td>\n",
       "      <td>3.35</td>\n",
       "    </tr>\n",
       "  </tbody>\n",
       "</table>\n",
       "<p>204 rows × 18 columns</p>\n",
       "</div>"
      ],
      "text/plain": [
       "     gender                 age     educational_level  interest_level  \\\n",
       "0      Male      19 to 24 years  College - Bachelor's               3   \n",
       "1      Male      19 to 24 years  College - Bachelor's               2   \n",
       "2    Female      19 to 24 years  College - Bachelor's               2   \n",
       "3    Female      19 to 24 years  College - Bachelor's               3   \n",
       "4    Female      19 to 24 years  College - Bachelor's               2   \n",
       "..      ...                 ...                   ...             ...   \n",
       "199  Female  25 years and above  College - Bachelor's               4   \n",
       "200  Female      19 to 24 years  College - Bachelor's               4   \n",
       "201  Female  25 years and above  College - Bachelor's               4   \n",
       "202  Female      19 to 24 years  College - Bachelor's               3   \n",
       "203  Female  25 years and above  College - Bachelor's               3   \n",
       "\n",
       "     depressed_level  sleepy_level  energy_level  appetite_level  \\\n",
       "0                  2             4             4               3   \n",
       "1                  1             2             1               1   \n",
       "2                  2             3             3               1   \n",
       "3                  1             4             3               1   \n",
       "4                  4             4             3               2   \n",
       "..               ...           ...           ...             ...   \n",
       "199                3             4             4               4   \n",
       "200                4             2             4               3   \n",
       "201                4             2             2               2   \n",
       "202                3             3             3               3   \n",
       "203                4             4             3               4   \n",
       "\n",
       "     self_worth_level  concentrating_level  restless_level  suicidal_level  \\\n",
       "0                   3                    4               3               2   \n",
       "1                   1                    1               1               1   \n",
       "2                   1                    2               2               1   \n",
       "3                   2                    1               1               1   \n",
       "4                   3                    4               1               3   \n",
       "..                ...                  ...             ...             ...   \n",
       "199                 4                    4               3               2   \n",
       "200                 4                    4               3               2   \n",
       "201                 2                    2               2               3   \n",
       "202                 3                    3               3               2   \n",
       "203                 4                    2               2               3   \n",
       "\n",
       "    employment             housing_situation   studing_spending  \\\n",
       "0    Part time           Home (with parents)        2 - 4 hours   \n",
       "1    Part time  University hall of residence        1 - 2 hours   \n",
       "2    Part time           Home (with parents)        1 - 2 hours   \n",
       "3    Full time           Home (with parents)        1 - 2 hours   \n",
       "4           No           Home (with parents)        1 - 2 hours   \n",
       "..         ...                           ...                ...   \n",
       "199  Full Time  Private rented accommodation        2 - 4 hours   \n",
       "200         No           Home (with parents)        2 - 4 hours   \n",
       "201  Full Time           Home (with parents)  More than 4 hours   \n",
       "202  Full Time  Private rented accommodation        2 - 4 hours   \n",
       "203  Full Time           Home (with parents)        2 - 4 hours   \n",
       "\n",
       "    electronic_devices  social_media_time   GPA  \n",
       "0                4 - 6  More than 4 Hours  2.30  \n",
       "1                1 - 3        1 - 2 Hours  2.70  \n",
       "2                4 - 6        2 - 4 Hours  2.75  \n",
       "3                4 - 6  More than 4 Hours  3.97  \n",
       "4                1 - 3  More than 4 Hours  2.97  \n",
       "..                 ...                ...   ...  \n",
       "199              4 - 6        2 - 4 Hours  1.30  \n",
       "200              1 - 3        2 - 4 Hours  4.00  \n",
       "201              1 - 3  More than 4 Hours  4.00  \n",
       "202              4 - 6        2 - 4 Hours  3.35  \n",
       "203              1 - 3        2 - 4 Hours  3.35  \n",
       "\n",
       "[204 rows x 18 columns]"
      ]
     },
     "execution_count": 52,
     "metadata": {},
     "output_type": "execute_result"
    }
   ],
   "source": [
    "bachelors_df"
   ]
  },
  {
   "cell_type": "code",
   "execution_count": 53,
   "id": "8366efb8",
   "metadata": {},
   "outputs": [],
   "source": [
    "# count males vs females"
   ]
  },
  {
   "cell_type": "code",
   "execution_count": 54,
   "id": "61c0d4b8",
   "metadata": {},
   "outputs": [],
   "source": [
    "bachelors = bachelors_df[\"gender\"].value_counts()"
   ]
  },
  {
   "cell_type": "code",
   "execution_count": 55,
   "id": "7661dc16",
   "metadata": {},
   "outputs": [],
   "source": [
    "# question is What gender suffers more from Mental Health? Why?"
   ]
  },
  {
   "cell_type": "code",
   "execution_count": 56,
   "id": "30d7276c",
   "metadata": {},
   "outputs": [],
   "source": [
    "# label the gender sections\n",
    "label = ['Female', 'Male']"
   ]
  },
  {
   "cell_type": "code",
   "execution_count": 57,
   "id": "24131683",
   "metadata": {},
   "outputs": [],
   "source": [
    "# the value of each section the pie charts\n",
    "#bachelors = [184, 20]"
   ]
  },
  {
   "cell_type": "code",
   "execution_count": 58,
   "id": "19c123ea",
   "metadata": {},
   "outputs": [],
   "source": [
    "#the colors of each section\n",
    "color = [\"palevioletred\", \"lavender\"]"
   ]
  },
  {
   "cell_type": "code",
   "execution_count": 59,
   "id": "b1e27756",
   "metadata": {},
   "outputs": [],
   "source": [
    "# matplotlib to separate the \"Females\" section from the males\n",
    "explode_ = (0, 0.1)"
   ]
  },
  {
   "cell_type": "code",
   "execution_count": 60,
   "id": "d7472d9a",
   "metadata": {
    "scrolled": false
   },
   "outputs": [
    {
     "data": {
      "image/png": "[encoded data removed]",
      "text/plain": [
       "<Figure size 640x480 with 1 Axes>"
      ]
     },
     "metadata": {},
     "output_type": "display_data"
    }
   ],
   "source": [
    "# create pie chart\n",
    "plt.title(\"Mental Health\")\n",
    "plt.pie(bachelors, explode=explode_, labels=label,colors=color,\n",
    "        autopct=\"%1.1f%%\", shadow=True, startangle=140)\n",
    "\n",
    "plt.show()"
   ]
  },
  {
   "cell_type": "code",
   "execution_count": 61,
   "id": "8194409e",
   "metadata": {},
   "outputs": [
    {
     "data": {
      "text/html": [
       "<div>\n",
       "<style scoped>\n",
       "    .dataframe tbody tr th:only-of-type {\n",
       "        vertical-align: middle;\n",
       "    }\n",
       "\n",
       "    .dataframe tbody tr th {\n",
       "        vertical-align: top;\n",
       "    }\n",
       "\n",
       "    .dataframe thead th {\n",
       "        text-align: right;\n",
       "    }\n",
       "</style>\n",
       "<table border=\"1\" class=\"dataframe\">\n",
       "  <thead>\n",
       "    <tr style=\"text-align: right;\">\n",
       "      <th></th>\n",
       "      <th>gender</th>\n",
       "      <th>interest_level</th>\n",
       "      <th>depressed_level</th>\n",
       "      <th>sleepy_level</th>\n",
       "      <th>energy_level</th>\n",
       "      <th>appetite_level</th>\n",
       "      <th>self_worth_level</th>\n",
       "      <th>concentrating_level</th>\n",
       "      <th>restless_level</th>\n",
       "      <th>suicidal_level</th>\n",
       "    </tr>\n",
       "  </thead>\n",
       "  <tbody>\n",
       "    <tr>\n",
       "      <th>0</th>\n",
       "      <td>Male</td>\n",
       "      <td>3</td>\n",
       "      <td>2</td>\n",
       "      <td>4</td>\n",
       "      <td>4</td>\n",
       "      <td>3</td>\n",
       "      <td>3</td>\n",
       "      <td>4</td>\n",
       "      <td>3</td>\n",
       "      <td>2</td>\n",
       "    </tr>\n",
       "    <tr>\n",
       "      <th>1</th>\n",
       "      <td>Male</td>\n",
       "      <td>2</td>\n",
       "      <td>1</td>\n",
       "      <td>2</td>\n",
       "      <td>1</td>\n",
       "      <td>1</td>\n",
       "      <td>1</td>\n",
       "      <td>1</td>\n",
       "      <td>1</td>\n",
       "      <td>1</td>\n",
       "    </tr>\n",
       "    <tr>\n",
       "      <th>2</th>\n",
       "      <td>Female</td>\n",
       "      <td>2</td>\n",
       "      <td>2</td>\n",
       "      <td>3</td>\n",
       "      <td>3</td>\n",
       "      <td>1</td>\n",
       "      <td>1</td>\n",
       "      <td>2</td>\n",
       "      <td>2</td>\n",
       "      <td>1</td>\n",
       "    </tr>\n",
       "    <tr>\n",
       "      <th>3</th>\n",
       "      <td>Female</td>\n",
       "      <td>3</td>\n",
       "      <td>1</td>\n",
       "      <td>4</td>\n",
       "      <td>3</td>\n",
       "      <td>1</td>\n",
       "      <td>2</td>\n",
       "      <td>1</td>\n",
       "      <td>1</td>\n",
       "      <td>1</td>\n",
       "    </tr>\n",
       "    <tr>\n",
       "      <th>4</th>\n",
       "      <td>Female</td>\n",
       "      <td>2</td>\n",
       "      <td>4</td>\n",
       "      <td>4</td>\n",
       "      <td>3</td>\n",
       "      <td>2</td>\n",
       "      <td>3</td>\n",
       "      <td>4</td>\n",
       "      <td>1</td>\n",
       "      <td>3</td>\n",
       "    </tr>\n",
       "  </tbody>\n",
       "</table>\n",
       "</div>"
      ],
      "text/plain": [
       "   gender  interest_level  depressed_level  sleepy_level  energy_level  \\\n",
       "0    Male               3                2             4             4   \n",
       "1    Male               2                1             2             1   \n",
       "2  Female               2                2             3             3   \n",
       "3  Female               3                1             4             3   \n",
       "4  Female               2                4             4             3   \n",
       "\n",
       "   appetite_level  self_worth_level  concentrating_level  restless_level  \\\n",
       "0               3                 3                    4               3   \n",
       "1               1                 1                    1               1   \n",
       "2               1                 1                    2               2   \n",
       "3               1                 2                    1               1   \n",
       "4               2                 3                    4               1   \n",
       "\n",
       "   suicidal_level  \n",
       "0               2  \n",
       "1               1  \n",
       "2               1  \n",
       "3               1  \n",
       "4               3  "
      ]
     },
     "execution_count": 61,
     "metadata": {},
     "output_type": "execute_result"
    }
   ],
   "source": [
    "#finish the both genders bar graph for second dataset\n",
    "\n",
    "gender_data2 = bachelors_df[['gender','interest_level', 'depressed_level', 'sleepy_level', 'energy_level', 'appetite_level', 'self_worth_level', 'concentrating_level', 'restless_level', 'suicidal_level']]\n",
    "\n",
    "gender_data2.head()\n"
   ]
  },
  {
   "cell_type": "code",
   "execution_count": 62,
   "id": "3edc1128",
   "metadata": {},
   "outputs": [
    {
     "data": {
      "text/plain": [
       "0    False\n",
       "1    False\n",
       "2     True\n",
       "3     True\n",
       "4     True\n",
       "Name: gender, dtype: bool"
      ]
     },
     "execution_count": 62,
     "metadata": {},
     "output_type": "execute_result"
    }
   ],
   "source": [
    "#try stacked bar graph\n",
    "both_gender = gender_data2['gender'] == 'Male'\n",
    "both_gender = gender_data2['gender'] == 'Female'\n",
    "both_gender.head()"
   ]
  },
  {
   "cell_type": "code",
   "execution_count": 63,
   "id": "1f15e1cc",
   "metadata": {
    "scrolled": false
   },
   "outputs": [
    {
     "data": {
      "text/plain": [
       "2    10\n",
       "3     4\n",
       "1     4\n",
       "4     2\n",
       "Name: interest_level, dtype: int64"
      ]
     },
     "execution_count": 63,
     "metadata": {},
     "output_type": "execute_result"
    }
   ],
   "source": [
    "#create value count in males for dataset2\n",
    "male_data2 = gender_data2.loc[gender_data2[\"gender\"]==\"Male\"]\n",
    "male_data2\n",
    "\n",
    "m_interest = male_data2[\"interest_level\"].value_counts()\n",
    "m_interest"
   ]
  },
  {
   "cell_type": "code",
   "execution_count": 64,
   "id": "ee0878a5",
   "metadata": {},
   "outputs": [
    {
     "data": {
      "text/plain": [
       "2    8\n",
       "1    8\n",
       "3    3\n",
       "4    1\n",
       "Name: depressed_level, dtype: int64"
      ]
     },
     "execution_count": 64,
     "metadata": {},
     "output_type": "execute_result"
    }
   ],
   "source": [
    "male_data2 = gender_data2.loc[gender_data2[\"gender\"]==\"Male\"]\n",
    "male_data2\n",
    "\n",
    "m_depression = male_data2[\"depressed_level\"].value_counts()\n",
    "m_depression"
   ]
  },
  {
   "cell_type": "code",
   "execution_count": 65,
   "id": "41d3bc43",
   "metadata": {},
   "outputs": [
    {
     "data": {
      "text/plain": [
       "1    7\n",
       "4    6\n",
       "2    5\n",
       "3    2\n",
       "Name: sleepy_level, dtype: int64"
      ]
     },
     "execution_count": 65,
     "metadata": {},
     "output_type": "execute_result"
    }
   ],
   "source": [
    "male_data2 = gender_data2.loc[gender_data2[\"gender\"]==\"Male\"]\n",
    "male_data2\n",
    "\n",
    "m_sleepy = male_data2[\"sleepy_level\"].value_counts()\n",
    "m_sleepy"
   ]
  },
  {
   "cell_type": "code",
   "execution_count": 66,
   "id": "c38b6975",
   "metadata": {},
   "outputs": [
    {
     "data": {
      "text/plain": [
       "2    7\n",
       "1    5\n",
       "4    4\n",
       "3    4\n",
       "Name: energy_level, dtype: int64"
      ]
     },
     "execution_count": 66,
     "metadata": {},
     "output_type": "execute_result"
    }
   ],
   "source": [
    "male_data2 = gender_data2.loc[gender_data2[\"gender\"]==\"Male\"]\n",
    "male_data2\n",
    "\n",
    "m_energy = male_data2[\"energy_level\"].value_counts()\n",
    "m_energy"
   ]
  },
  {
   "cell_type": "code",
   "execution_count": 67,
   "id": "ffcbdfc0",
   "metadata": {},
   "outputs": [
    {
     "data": {
      "text/plain": [
       "1    6\n",
       "3    5\n",
       "2    5\n",
       "4    4\n",
       "Name: appetite_level, dtype: int64"
      ]
     },
     "execution_count": 67,
     "metadata": {},
     "output_type": "execute_result"
    }
   ],
   "source": [
    "male_data2 = gender_data2.loc[gender_data2[\"gender\"]==\"Male\"]\n",
    "male_data2\n",
    "\n",
    "m_appetite = male_data2[\"appetite_level\"].value_counts()\n",
    "m_appetite"
   ]
  },
  {
   "cell_type": "code",
   "execution_count": 68,
   "id": "c4f15217",
   "metadata": {},
   "outputs": [
    {
     "data": {
      "text/plain": [
       "1    8\n",
       "2    6\n",
       "3    4\n",
       "4    2\n",
       "Name: self_worth_level, dtype: int64"
      ]
     },
     "execution_count": 68,
     "metadata": {},
     "output_type": "execute_result"
    }
   ],
   "source": [
    "male_data2 = gender_data2.loc[gender_data2[\"gender\"]==\"Male\"]\n",
    "male_data2\n",
    "\n",
    "m_selfw = male_data2[\"self_worth_level\"].value_counts()\n",
    "m_selfw"
   ]
  },
  {
   "cell_type": "code",
   "execution_count": 69,
   "id": "29048519",
   "metadata": {},
   "outputs": [
    {
     "data": {
      "text/plain": [
       "1    8\n",
       "2    6\n",
       "3    4\n",
       "4    2\n",
       "Name: concentrating_level, dtype: int64"
      ]
     },
     "execution_count": 69,
     "metadata": {},
     "output_type": "execute_result"
    }
   ],
   "source": [
    "male_data2 = gender_data2.loc[gender_data2[\"gender\"]==\"Male\"]\n",
    "male_data2\n",
    "\n",
    "m_concentrating = male_data2[\"concentrating_level\"].value_counts()\n",
    "m_concentrating"
   ]
  },
  {
   "cell_type": "code",
   "execution_count": 70,
   "id": "12d006fb",
   "metadata": {},
   "outputs": [
    {
     "data": {
      "text/plain": [
       "1    12\n",
       "2     5\n",
       "3     2\n",
       "4     1\n",
       "Name: restless_level, dtype: int64"
      ]
     },
     "execution_count": 70,
     "metadata": {},
     "output_type": "execute_result"
    }
   ],
   "source": [
    "male_data2 = gender_data2.loc[gender_data2[\"gender\"]==\"Male\"]\n",
    "male_data2\n",
    "\n",
    "m_restless = male_data2[\"restless_level\"].value_counts()\n",
    "m_restless"
   ]
  },
  {
   "cell_type": "code",
   "execution_count": 71,
   "id": "376ce208",
   "metadata": {},
   "outputs": [
    {
     "data": {
      "text/plain": [
       "1    13\n",
       "2     3\n",
       "4     2\n",
       "3     2\n",
       "Name: suicidal_level, dtype: int64"
      ]
     },
     "execution_count": 71,
     "metadata": {},
     "output_type": "execute_result"
    }
   ],
   "source": [
    "male_data2 = gender_data2.loc[gender_data2[\"gender\"]==\"Male\"]\n",
    "male_data2\n",
    "\n",
    "m_suicidal = male_data2[\"suicidal_level\"].value_counts()\n",
    "m_suicidal"
   ]
  },
  {
   "cell_type": "code",
   "execution_count": 72,
   "id": "e6e309fe",
   "metadata": {},
   "outputs": [
    {
     "data": {
      "text/plain": [
       "2    72\n",
       "3    64\n",
       "1    27\n",
       "4    21\n",
       "Name: interest_level, dtype: int64"
      ]
     },
     "execution_count": 72,
     "metadata": {},
     "output_type": "execute_result"
    }
   ],
   "source": [
    "#create value count in females for dataset2\n",
    "female_data2 = gender_data2.loc[gender_data2[\"gender\"]==\"Female\"]\n",
    "female_data2\n",
    "\n",
    "f_interest = female_data2[\"interest_level\"].value_counts()\n",
    "f_interest"
   ]
  },
  {
   "cell_type": "code",
   "execution_count": 73,
   "id": "884e4899",
   "metadata": {},
   "outputs": [
    {
     "data": {
      "text/plain": [
       "2    61\n",
       "1    48\n",
       "3    47\n",
       "4    28\n",
       "Name: depressed_level, dtype: int64"
      ]
     },
     "execution_count": 73,
     "metadata": {},
     "output_type": "execute_result"
    }
   ],
   "source": [
    "female_data2 = gender_data2.loc[gender_data2[\"gender\"]==\"Female\"]\n",
    "female_data2\n",
    "\n",
    "f_depression = female_data2[\"depressed_level\"].value_counts()\n",
    "f_depression"
   ]
  },
  {
   "cell_type": "code",
   "execution_count": 74,
   "id": "9b0852ae",
   "metadata": {},
   "outputs": [
    {
     "data": {
      "text/plain": [
       "4    67\n",
       "3    47\n",
       "2    41\n",
       "1    29\n",
       "Name: sleepy_level, dtype: int64"
      ]
     },
     "execution_count": 74,
     "metadata": {},
     "output_type": "execute_result"
    }
   ],
   "source": [
    "female_data2 = gender_data2.loc[gender_data2[\"gender\"]==\"Female\"]\n",
    "female_data2\n",
    "\n",
    "f_sleepy = female_data2[\"sleepy_level\"].value_counts()\n",
    "f_sleepy"
   ]
  },
  {
   "cell_type": "code",
   "execution_count": 75,
   "id": "327e88d9",
   "metadata": {},
   "outputs": [
    {
     "data": {
      "text/plain": [
       "4    64\n",
       "3    54\n",
       "2    47\n",
       "1    19\n",
       "Name: energy_level, dtype: int64"
      ]
     },
     "execution_count": 75,
     "metadata": {},
     "output_type": "execute_result"
    }
   ],
   "source": [
    "female_data2 = gender_data2.loc[gender_data2[\"gender\"]==\"Female\"]\n",
    "female_data2\n",
    "\n",
    "f_energy = female_data2[\"energy_level\"].value_counts()\n",
    "f_energy"
   ]
  },
  {
   "cell_type": "code",
   "execution_count": 76,
   "id": "69b9e219",
   "metadata": {},
   "outputs": [
    {
     "data": {
      "text/plain": [
       "4    56\n",
       "2    54\n",
       "1    38\n",
       "3    36\n",
       "Name: appetite_level, dtype: int64"
      ]
     },
     "execution_count": 76,
     "metadata": {},
     "output_type": "execute_result"
    }
   ],
   "source": [
    "female_data2 = gender_data2.loc[gender_data2[\"gender\"]==\"Female\"]\n",
    "female_data2\n",
    "\n",
    "f_appetite = female_data2[\"appetite_level\"].value_counts()\n",
    "f_appetite"
   ]
  },
  {
   "cell_type": "code",
   "execution_count": 77,
   "id": "25d05a82",
   "metadata": {},
   "outputs": [
    {
     "data": {
      "text/plain": [
       "2    52\n",
       "4    47\n",
       "3    43\n",
       "1    42\n",
       "Name: self_worth_level, dtype: int64"
      ]
     },
     "execution_count": 77,
     "metadata": {},
     "output_type": "execute_result"
    }
   ],
   "source": [
    "female_data2 = gender_data2.loc[gender_data2[\"gender\"]==\"Female\"]\n",
    "female_data2\n",
    "\n",
    "f_selfw = female_data2[\"self_worth_level\"].value_counts()\n",
    "f_selfw"
   ]
  },
  {
   "cell_type": "code",
   "execution_count": 78,
   "id": "ff6c01db",
   "metadata": {},
   "outputs": [
    {
     "data": {
      "text/plain": [
       "2    65\n",
       "1    57\n",
       "4    32\n",
       "3    30\n",
       "Name: concentrating_level, dtype: int64"
      ]
     },
     "execution_count": 78,
     "metadata": {},
     "output_type": "execute_result"
    }
   ],
   "source": [
    "female_data2 = gender_data2.loc[gender_data2[\"gender\"]==\"Female\"]\n",
    "female_data2\n",
    "\n",
    "f_concentrating = female_data2[\"concentrating_level\"].value_counts()\n",
    "f_concentrating"
   ]
  },
  {
   "cell_type": "code",
   "execution_count": 79,
   "id": "eb2ce0c0",
   "metadata": {},
   "outputs": [
    {
     "data": {
      "text/plain": [
       "1    100\n",
       "2     40\n",
       "3     28\n",
       "4     16\n",
       "Name: restless_level, dtype: int64"
      ]
     },
     "execution_count": 79,
     "metadata": {},
     "output_type": "execute_result"
    }
   ],
   "source": [
    "female_data2 = gender_data2.loc[gender_data2[\"gender\"]==\"Female\"]\n",
    "female_data2\n",
    "\n",
    "f_restless = female_data2[\"restless_level\"].value_counts()\n",
    "f_restless"
   ]
  },
  {
   "cell_type": "code",
   "execution_count": 80,
   "id": "e02a5080",
   "metadata": {},
   "outputs": [
    {
     "data": {
      "text/plain": [
       "1    118\n",
       "2     40\n",
       "3     14\n",
       "4     12\n",
       "Name: suicidal_level, dtype: int64"
      ]
     },
     "execution_count": 80,
     "metadata": {},
     "output_type": "execute_result"
    }
   ],
   "source": [
    "female_data2 = gender_data2.loc[gender_data2[\"gender\"]==\"Female\"]\n",
    "female_data2\n",
    "\n",
    "f_suicidal = female_data2[\"suicidal_level\"].value_counts()\n",
    "f_suicidal"
   ]
  }
 ],
 "metadata": {
  "kernelspec": {
   "display_name": "PythonData",
   "language": "python",
   "name": "pythondata"
  },
  "language_info": {
   "codemirror_mode": {
    "name": "ipython",
    "version": 3
   },
   "file_extension": ".py",
   "mimetype": "text/x-python",
   "name": "python",
   "nbconvert_exporter": "python",
   "pygments_lexer": "ipython3",
   "version": "3.9.13"
  }
 },
 "nbformat": 4,
 "nbformat_minor": 5
}
