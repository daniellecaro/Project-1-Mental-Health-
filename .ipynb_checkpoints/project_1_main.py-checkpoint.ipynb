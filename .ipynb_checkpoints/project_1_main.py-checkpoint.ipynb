{
 "cells": [
  {
   "cell_type": "code",
   "execution_count": 138,
   "id": "a61547f4",
   "metadata": {},
   "outputs": [],
   "source": [
    "# import libraries\n",
    "import os\n",
    "import csv\n",
    "import pandas as pd\n",
    "from matplotlib import pyplot as plt\n",
    "import numpy as np"
   ]
  },
  {
   "cell_type": "code",
   "execution_count": 139,
   "id": "e3622626",
   "metadata": {},
   "outputs": [],
   "source": [
    "# read in files\n",
    "student_df = pd.read_csv(\"Resources/student data.csv\")\n",
    "academic_performance_df = pd.read_csv(\"Resources/Effects on Academic Performance.csv\")"
   ]
  },
  {
   "cell_type": "code",
   "execution_count": 140,
   "id": "eb9e2412",
   "metadata": {},
   "outputs": [],
   "source": [
    "# CLEANING DATA"
   ]
  },
  {
   "cell_type": "code",
   "execution_count": 141,
   "id": "8cef57a5",
   "metadata": {
    "scrolled": true
   },
   "outputs": [
    {
     "data": {
      "text/plain": [
       "Index(['Timestamp', 'Choose your gender', 'Age', 'What is your course?',\n",
       "       'Your current year of Study', 'What is your CGPA?', 'Marital status',\n",
       "       'Do you have Depression?', 'Do you have Anxiety?',\n",
       "       'Do you have Panic attack?',\n",
       "       'Did you seek any specialist for a treatment?'],\n",
       "      dtype='object')"
      ]
     },
     "execution_count": 141,
     "metadata": {},
     "output_type": "execute_result"
    }
   ],
   "source": [
    "# show column names\n",
    "student_columns = student_df.columns\n",
    "student_columns"
   ]
  },
  {
   "cell_type": "code",
   "execution_count": 142,
   "id": "99e27593",
   "metadata": {},
   "outputs": [
    {
     "data": {
      "text/html": [
       "<div>\n",
       "<style scoped>\n",
       "    .dataframe tbody tr th:only-of-type {\n",
       "        vertical-align: middle;\n",
       "    }\n",
       "\n",
       "    .dataframe tbody tr th {\n",
       "        vertical-align: top;\n",
       "    }\n",
       "\n",
       "    .dataframe thead th {\n",
       "        text-align: right;\n",
       "    }\n",
       "</style>\n",
       "<table border=\"1\" class=\"dataframe\">\n",
       "  <thead>\n",
       "    <tr style=\"text-align: right;\">\n",
       "      <th></th>\n",
       "      <th>Timestamp</th>\n",
       "      <th>Choose your gender</th>\n",
       "      <th>Age</th>\n",
       "      <th>What is your course?</th>\n",
       "      <th>Your current year of Study</th>\n",
       "      <th>What is your CGPA?</th>\n",
       "      <th>Marital status</th>\n",
       "      <th>Do you have Depression?</th>\n",
       "      <th>Do you have Anxiety?</th>\n",
       "      <th>Do you have Panic attack?</th>\n",
       "      <th>Did you seek any specialist for a treatment?</th>\n",
       "    </tr>\n",
       "  </thead>\n",
       "  <tbody>\n",
       "    <tr>\n",
       "      <th>0</th>\n",
       "      <td>8/7/2020 12:02</td>\n",
       "      <td>Female</td>\n",
       "      <td>18.0</td>\n",
       "      <td>Engineering</td>\n",
       "      <td>year 1</td>\n",
       "      <td>3.00 - 3.49</td>\n",
       "      <td>No</td>\n",
       "      <td>Yes</td>\n",
       "      <td>No</td>\n",
       "      <td>Yes</td>\n",
       "      <td>No</td>\n",
       "    </tr>\n",
       "    <tr>\n",
       "      <th>1</th>\n",
       "      <td>8/7/2020 12:04</td>\n",
       "      <td>Male</td>\n",
       "      <td>21.0</td>\n",
       "      <td>Islamic education</td>\n",
       "      <td>year 2</td>\n",
       "      <td>3.00 - 3.49</td>\n",
       "      <td>No</td>\n",
       "      <td>No</td>\n",
       "      <td>Yes</td>\n",
       "      <td>No</td>\n",
       "      <td>No</td>\n",
       "    </tr>\n",
       "    <tr>\n",
       "      <th>2</th>\n",
       "      <td>8/7/2020 12:05</td>\n",
       "      <td>Male</td>\n",
       "      <td>19.0</td>\n",
       "      <td>BIT</td>\n",
       "      <td>Year 1</td>\n",
       "      <td>3.00 - 3.49</td>\n",
       "      <td>No</td>\n",
       "      <td>Yes</td>\n",
       "      <td>Yes</td>\n",
       "      <td>Yes</td>\n",
       "      <td>No</td>\n",
       "    </tr>\n",
       "    <tr>\n",
       "      <th>3</th>\n",
       "      <td>8/7/2020 12:06</td>\n",
       "      <td>Female</td>\n",
       "      <td>22.0</td>\n",
       "      <td>Laws</td>\n",
       "      <td>year 3</td>\n",
       "      <td>3.00 - 3.49</td>\n",
       "      <td>Yes</td>\n",
       "      <td>Yes</td>\n",
       "      <td>No</td>\n",
       "      <td>No</td>\n",
       "      <td>No</td>\n",
       "    </tr>\n",
       "    <tr>\n",
       "      <th>4</th>\n",
       "      <td>8/7/2020 12:13</td>\n",
       "      <td>Male</td>\n",
       "      <td>23.0</td>\n",
       "      <td>Mathemathics</td>\n",
       "      <td>year 4</td>\n",
       "      <td>3.00 - 3.49</td>\n",
       "      <td>No</td>\n",
       "      <td>No</td>\n",
       "      <td>No</td>\n",
       "      <td>No</td>\n",
       "      <td>No</td>\n",
       "    </tr>\n",
       "  </tbody>\n",
       "</table>\n",
       "</div>"
      ],
      "text/plain": [
       "        Timestamp Choose your gender   Age What is your course?  \\\n",
       "0  8/7/2020 12:02             Female  18.0          Engineering   \n",
       "1  8/7/2020 12:04               Male  21.0    Islamic education   \n",
       "2  8/7/2020 12:05               Male  19.0                  BIT   \n",
       "3  8/7/2020 12:06             Female  22.0                 Laws   \n",
       "4  8/7/2020 12:13               Male  23.0         Mathemathics   \n",
       "\n",
       "  Your current year of Study What is your CGPA? Marital status  \\\n",
       "0                     year 1        3.00 - 3.49             No   \n",
       "1                     year 2        3.00 - 3.49             No   \n",
       "2                     Year 1        3.00 - 3.49             No   \n",
       "3                     year 3        3.00 - 3.49            Yes   \n",
       "4                     year 4        3.00 - 3.49             No   \n",
       "\n",
       "  Do you have Depression? Do you have Anxiety? Do you have Panic attack?  \\\n",
       "0                     Yes                   No                       Yes   \n",
       "1                      No                  Yes                        No   \n",
       "2                     Yes                  Yes                       Yes   \n",
       "3                     Yes                   No                        No   \n",
       "4                      No                   No                        No   \n",
       "\n",
       "  Did you seek any specialist for a treatment?  \n",
       "0                                           No  \n",
       "1                                           No  \n",
       "2                                           No  \n",
       "3                                           No  \n",
       "4                                           No  "
      ]
     },
     "execution_count": 142,
     "metadata": {},
     "output_type": "execute_result"
    }
   ],
   "source": [
    "student_df.head()"
   ]
  },
  {
   "cell_type": "code",
   "execution_count": 143,
   "id": "00365cdb",
   "metadata": {},
   "outputs": [],
   "source": [
    "# rename columns\n",
    "student_df.columns = ['Timestamp', 'Gender', 'Age', 'Course',\n",
    "       'Year', 'GPA', 'Marital_status',\n",
    "       'Depression', 'Anxiety',\n",
    "       'Panic_attack',\n",
    "       'Specialist_visit']"
   ]
  },
  {
   "cell_type": "code",
   "execution_count": 144,
   "id": "ee4b1e28",
   "metadata": {},
   "outputs": [],
   "source": [
    "# delete timestamp column\n",
    "del student_df['Timestamp']"
   ]
  },
  {
   "cell_type": "code",
   "execution_count": 145,
   "id": "6aa8e3ab",
   "metadata": {},
   "outputs": [
    {
     "data": {
      "text/html": [
       "<div>\n",
       "<style scoped>\n",
       "    .dataframe tbody tr th:only-of-type {\n",
       "        vertical-align: middle;\n",
       "    }\n",
       "\n",
       "    .dataframe tbody tr th {\n",
       "        vertical-align: top;\n",
       "    }\n",
       "\n",
       "    .dataframe thead th {\n",
       "        text-align: right;\n",
       "    }\n",
       "</style>\n",
       "<table border=\"1\" class=\"dataframe\">\n",
       "  <thead>\n",
       "    <tr style=\"text-align: right;\">\n",
       "      <th></th>\n",
       "      <th>Gender</th>\n",
       "      <th>Age</th>\n",
       "      <th>Course</th>\n",
       "      <th>Year</th>\n",
       "      <th>GPA</th>\n",
       "      <th>Marital_status</th>\n",
       "      <th>Depression</th>\n",
       "      <th>Anxiety</th>\n",
       "      <th>Panic_attack</th>\n",
       "      <th>Specialist_visit</th>\n",
       "    </tr>\n",
       "  </thead>\n",
       "  <tbody>\n",
       "    <tr>\n",
       "      <th>0</th>\n",
       "      <td>Female</td>\n",
       "      <td>18.0</td>\n",
       "      <td>Engineering</td>\n",
       "      <td>year 1</td>\n",
       "      <td>3.00 - 3.49</td>\n",
       "      <td>No</td>\n",
       "      <td>Yes</td>\n",
       "      <td>No</td>\n",
       "      <td>Yes</td>\n",
       "      <td>No</td>\n",
       "    </tr>\n",
       "    <tr>\n",
       "      <th>1</th>\n",
       "      <td>Male</td>\n",
       "      <td>21.0</td>\n",
       "      <td>Islamic education</td>\n",
       "      <td>year 2</td>\n",
       "      <td>3.00 - 3.49</td>\n",
       "      <td>No</td>\n",
       "      <td>No</td>\n",
       "      <td>Yes</td>\n",
       "      <td>No</td>\n",
       "      <td>No</td>\n",
       "    </tr>\n",
       "    <tr>\n",
       "      <th>2</th>\n",
       "      <td>Male</td>\n",
       "      <td>19.0</td>\n",
       "      <td>BIT</td>\n",
       "      <td>Year 1</td>\n",
       "      <td>3.00 - 3.49</td>\n",
       "      <td>No</td>\n",
       "      <td>Yes</td>\n",
       "      <td>Yes</td>\n",
       "      <td>Yes</td>\n",
       "      <td>No</td>\n",
       "    </tr>\n",
       "    <tr>\n",
       "      <th>3</th>\n",
       "      <td>Female</td>\n",
       "      <td>22.0</td>\n",
       "      <td>Laws</td>\n",
       "      <td>year 3</td>\n",
       "      <td>3.00 - 3.49</td>\n",
       "      <td>Yes</td>\n",
       "      <td>Yes</td>\n",
       "      <td>No</td>\n",
       "      <td>No</td>\n",
       "      <td>No</td>\n",
       "    </tr>\n",
       "    <tr>\n",
       "      <th>4</th>\n",
       "      <td>Male</td>\n",
       "      <td>23.0</td>\n",
       "      <td>Mathemathics</td>\n",
       "      <td>year 4</td>\n",
       "      <td>3.00 - 3.49</td>\n",
       "      <td>No</td>\n",
       "      <td>No</td>\n",
       "      <td>No</td>\n",
       "      <td>No</td>\n",
       "      <td>No</td>\n",
       "    </tr>\n",
       "  </tbody>\n",
       "</table>\n",
       "</div>"
      ],
      "text/plain": [
       "   Gender   Age             Course    Year          GPA Marital_status  \\\n",
       "0  Female  18.0        Engineering  year 1  3.00 - 3.49             No   \n",
       "1    Male  21.0  Islamic education  year 2  3.00 - 3.49             No   \n",
       "2    Male  19.0                BIT  Year 1  3.00 - 3.49             No   \n",
       "3  Female  22.0               Laws  year 3  3.00 - 3.49            Yes   \n",
       "4    Male  23.0       Mathemathics  year 4  3.00 - 3.49             No   \n",
       "\n",
       "  Depression Anxiety Panic_attack Specialist_visit  \n",
       "0        Yes      No          Yes               No  \n",
       "1         No     Yes           No               No  \n",
       "2        Yes     Yes          Yes               No  \n",
       "3        Yes      No           No               No  \n",
       "4         No      No           No               No  "
      ]
     },
     "execution_count": 145,
     "metadata": {},
     "output_type": "execute_result"
    }
   ],
   "source": [
    "student_df.head()"
   ]
  },
  {
   "cell_type": "code",
   "execution_count": 146,
   "id": "a65b5db8",
   "metadata": {},
   "outputs": [
    {
     "data": {
      "text/plain": [
       "101"
      ]
     },
     "execution_count": 146,
     "metadata": {},
     "output_type": "execute_result"
    }
   ],
   "source": [
    "# count how many total students\n",
    "total_students = len(student_df[\"Gender\"])\n",
    "total_students"
   ]
  },
  {
   "cell_type": "code",
   "execution_count": 147,
   "id": "5fde8cd7",
   "metadata": {
    "scrolled": true
   },
   "outputs": [
    {
     "data": {
      "text/plain": [
       "Gender              101\n",
       "Age                 100\n",
       "Course              101\n",
       "Year                101\n",
       "GPA                 101\n",
       "Marital_status      101\n",
       "Depression          101\n",
       "Anxiety             101\n",
       "Panic_attack        101\n",
       "Specialist_visit    101\n",
       "dtype: int64"
      ]
     },
     "execution_count": 147,
     "metadata": {},
     "output_type": "execute_result"
    }
   ],
   "source": [
    "# make sure every column has same count\n",
    "student_df.count()"
   ]
  },
  {
   "cell_type": "code",
   "execution_count": 148,
   "id": "02d7cc9c",
   "metadata": {},
   "outputs": [
    {
     "data": {
      "text/plain": [
       "Gender               object\n",
       "Age                 float64\n",
       "Course               object\n",
       "Year                 object\n",
       "GPA                  object\n",
       "Marital_status       object\n",
       "Depression           object\n",
       "Anxiety              object\n",
       "Panic_attack         object\n",
       "Specialist_visit     object\n",
       "dtype: object"
      ]
     },
     "execution_count": 148,
     "metadata": {},
     "output_type": "execute_result"
    }
   ],
   "source": [
    "# see data types\n",
    "student_df.dtypes"
   ]
  },
  {
   "cell_type": "code",
   "execution_count": 149,
   "id": "dd1371c5",
   "metadata": {},
   "outputs": [
    {
     "data": {
      "text/plain": [
       "Female    75\n",
       "Male      26\n",
       "Name: Gender, dtype: int64"
      ]
     },
     "execution_count": 149,
     "metadata": {},
     "output_type": "execute_result"
    }
   ],
   "source": [
    "# count male vs female\n",
    "student_df[\"Gender\"].value_counts()"
   ]
  },
  {
   "cell_type": "code",
   "execution_count": 150,
   "id": "8ab9ea5f",
   "metadata": {},
   "outputs": [
    {
     "data": {
      "text/plain": [
       "BCS                        18\n",
       "Engineering                17\n",
       "BIT                        10\n",
       "Biomedical science          4\n",
       "KOE                         4\n",
       "BENL                        2\n",
       "Laws                        2\n",
       "psychology                  2\n",
       "Engine                      2\n",
       "Islamic Education           1\n",
       "Biotechnology               1\n",
       "engin                       1\n",
       "Econs                       1\n",
       "MHSC                        1\n",
       "Malcom                      1\n",
       "Kop                         1\n",
       "Human Sciences              1\n",
       "Communication               1\n",
       "Nursing                     1\n",
       "Diploma Nursing             1\n",
       "IT                          1\n",
       "Pendidikan Islam            1\n",
       "Radiography                 1\n",
       "Fiqh fatwa                  1\n",
       "DIPLOMA TESL                1\n",
       "Koe                         1\n",
       "Fiqh                        1\n",
       "CTS                         1\n",
       "koe                         1\n",
       "Benl                        1\n",
       "Kirkhs                      1\n",
       "Mathemathics                1\n",
       "Pendidikan islam            1\n",
       "Human Resources             1\n",
       "Irkhs                       1\n",
       "Psychology                  1\n",
       "KENMS                       1\n",
       "Accounting                  1\n",
       "ENM                         1\n",
       "Marine science              1\n",
       "Banking Studies             1\n",
       "Business Administration     1\n",
       "Law                         1\n",
       "KIRKHS                      1\n",
       "Usuluddin                   1\n",
       "TAASL                       1\n",
       "ALA                         1\n",
       "Islamic education           1\n",
       "Pendidikan Islam            1\n",
       "Name: Course, dtype: int64"
      ]
     },
     "execution_count": 150,
     "metadata": {},
     "output_type": "execute_result"
    }
   ],
   "source": [
    "# show different courses\n",
    "student_df[\"Course\"].value_counts()"
   ]
  },
  {
   "cell_type": "code",
   "execution_count": 151,
   "id": "a43c1345",
   "metadata": {},
   "outputs": [],
   "source": [
    "# Clean up Course column\n",
    "student_df['Course'] = student_df['Course'].replace({'Koe': 'KOE','koe': 'KOE'})\n",
    "student_df['Course'] = student_df['Course'].replace({'benl': 'BENL', 'Benl': 'BENL'})\n",
    "student_df['Course'] = student_df['Course'].replace({'engin': 'Engineering','Engine': 'Engineering'})\n",
    "student_df['Course'] = student_df['Course'].replace({'KIRKHS': 'Kirkhs'})\n",
    "student_df['Course'] = student_df['Course'].replace({'Islamic education': 'Islamic Education'})\n",
    "student_df['Course'] = student_df['Course'].replace({'Laws': 'Law'})\n",
    "student_df['Course'] = student_df['Course'].replace({'Pendidikan islam': 'Pendidikan Islam', 'Pendidikan Islam ': 'Pendidikan Islam'})\n",
    "student_df['Course'] = student_df['Course'].replace({'Diploma Nursing': 'Nursing', 'Nursing ': 'Nursing'})\n",
    "student_df['Course'] = student_df['Course'].replace({'Fiqh' : 'Fiqh Fatwa ', 'Fiqh Fatwa': 'Fiqh Fatwa'})\n",
    "student_df['Course'] = student_df['Course'].replace({'Econs' : 'Econ'})\n",
    "student_df['Course'] = student_df['Course'].replace({'Irkhs' : 'Kirkhs'})\n",
    "student_df['Course'] = student_df['Course'].replace({'ENM' : 'KENMS'})\n",
    "student_df['Course'] = student_df['Course'].replace({'psychology' : 'Psychology'})"
   ]
  },
  {
   "cell_type": "code",
   "execution_count": 152,
   "id": "a2c0792e",
   "metadata": {},
   "outputs": [
    {
     "data": {
      "text/plain": [
       "Engineering                20\n",
       "BCS                        18\n",
       "BIT                        10\n",
       "KOE                         6\n",
       "Biomedical science          4\n",
       "Law                         3\n",
       "Pendidikan Islam            3\n",
       "BENL                        3\n",
       "Kirkhs                      3\n",
       "Psychology                  3\n",
       "KENMS                       2\n",
       "Nursing                     2\n",
       "Islamic Education           2\n",
       "Human Sciences              1\n",
       "Malcom                      1\n",
       "Kop                         1\n",
       "Radiography                 1\n",
       "Biotechnology               1\n",
       "Communication               1\n",
       "Econ                        1\n",
       "Fiqh fatwa                  1\n",
       "DIPLOMA TESL                1\n",
       "MHSC                        1\n",
       "TAASL                       1\n",
       "CTS                         1\n",
       "IT                          1\n",
       "ALA                         1\n",
       "Usuluddin                   1\n",
       "Business Administration     1\n",
       "Banking Studies             1\n",
       "Marine science              1\n",
       "Accounting                  1\n",
       "Human Resources             1\n",
       "Mathemathics                1\n",
       "Fiqh Fatwa                  1\n",
       "Name: Course, dtype: int64"
      ]
     },
     "execution_count": 152,
     "metadata": {},
     "output_type": "execute_result"
    }
   ],
   "source": [
    "student_df[\"Course\"].value_counts()"
   ]
  },
  {
   "cell_type": "code",
   "execution_count": 153,
   "id": "cffa94e0",
   "metadata": {},
   "outputs": [],
   "source": [
    "# clean up Year column\n",
    "student_df['Year'] = student_df['Year'].replace({'year 1': 'Year 1'})\n",
    "student_df['Year'] = student_df['Year'].replace({'year 2': 'Year 2'})\n",
    "student_df['Year'] = student_df['Year'].replace({'year 3': 'Year 3'})\n",
    "student_df['Year'] = student_df['Year'].replace({'year 4': 'Year 4'})"
   ]
  },
  {
   "cell_type": "code",
   "execution_count": 154,
   "id": "d9939f31",
   "metadata": {
    "scrolled": true
   },
   "outputs": [
    {
     "data": {
      "text/plain": [
       "Year 1    43\n",
       "Year 2    26\n",
       "Year 3    24\n",
       "Year 4     8\n",
       "Name: Year, dtype: int64"
      ]
     },
     "execution_count": 154,
     "metadata": {},
     "output_type": "execute_result"
    }
   ],
   "source": [
    "student_df[\"Year\"].value_counts()"
   ]
  },
  {
   "cell_type": "code",
   "execution_count": 155,
   "id": "2f798472",
   "metadata": {},
   "outputs": [],
   "source": [
    "# clean up GPA column\n",
    "student_df['GPA'] = student_df['GPA'].replace({'3.50 - 4.00 ': '3.50 - 4.00'})"
   ]
  },
  {
   "cell_type": "code",
   "execution_count": 156,
   "id": "a76b74b1",
   "metadata": {
    "scrolled": true
   },
   "outputs": [
    {
     "data": {
      "text/plain": [
       "3.50 - 4.00    48\n",
       "3.00 - 3.49    43\n",
       "2.50 - 2.99     4\n",
       "0 - 1.99        4\n",
       "2.00 - 2.49     2\n",
       "Name: GPA, dtype: int64"
      ]
     },
     "execution_count": 156,
     "metadata": {},
     "output_type": "execute_result"
    }
   ],
   "source": [
    "student_df[\"GPA\"].value_counts()"
   ]
  },
  {
   "cell_type": "code",
   "execution_count": 157,
   "id": "03bf87de",
   "metadata": {},
   "outputs": [],
   "source": [
    "# Question:\n",
    "# Different years of college create different stress levels. Which year creates the most mental strain on college students?"
   ]
  },
  {
   "cell_type": "code",
   "execution_count": 158,
   "id": "dd41dd5b",
   "metadata": {},
   "outputs": [
    {
     "data": {
      "text/html": [
       "<div>\n",
       "<style scoped>\n",
       "    .dataframe tbody tr th:only-of-type {\n",
       "        vertical-align: middle;\n",
       "    }\n",
       "\n",
       "    .dataframe tbody tr th {\n",
       "        vertical-align: top;\n",
       "    }\n",
       "\n",
       "    .dataframe thead th {\n",
       "        text-align: right;\n",
       "    }\n",
       "</style>\n",
       "<table border=\"1\" class=\"dataframe\">\n",
       "  <thead>\n",
       "    <tr style=\"text-align: right;\">\n",
       "      <th></th>\n",
       "      <th>Gender</th>\n",
       "      <th>Age</th>\n",
       "      <th>Course</th>\n",
       "      <th>Year</th>\n",
       "      <th>GPA</th>\n",
       "      <th>Marital_status</th>\n",
       "      <th>Depression</th>\n",
       "      <th>Anxiety</th>\n",
       "      <th>Panic_attack</th>\n",
       "      <th>Specialist_visit</th>\n",
       "    </tr>\n",
       "  </thead>\n",
       "  <tbody>\n",
       "    <tr>\n",
       "      <th>0</th>\n",
       "      <td>Female</td>\n",
       "      <td>18.0</td>\n",
       "      <td>Engineering</td>\n",
       "      <td>Year 1</td>\n",
       "      <td>3.00 - 3.49</td>\n",
       "      <td>No</td>\n",
       "      <td>Yes</td>\n",
       "      <td>No</td>\n",
       "      <td>Yes</td>\n",
       "      <td>No</td>\n",
       "    </tr>\n",
       "    <tr>\n",
       "      <th>1</th>\n",
       "      <td>Male</td>\n",
       "      <td>21.0</td>\n",
       "      <td>Islamic Education</td>\n",
       "      <td>Year 2</td>\n",
       "      <td>3.00 - 3.49</td>\n",
       "      <td>No</td>\n",
       "      <td>No</td>\n",
       "      <td>Yes</td>\n",
       "      <td>No</td>\n",
       "      <td>No</td>\n",
       "    </tr>\n",
       "    <tr>\n",
       "      <th>2</th>\n",
       "      <td>Male</td>\n",
       "      <td>19.0</td>\n",
       "      <td>BIT</td>\n",
       "      <td>Year 1</td>\n",
       "      <td>3.00 - 3.49</td>\n",
       "      <td>No</td>\n",
       "      <td>Yes</td>\n",
       "      <td>Yes</td>\n",
       "      <td>Yes</td>\n",
       "      <td>No</td>\n",
       "    </tr>\n",
       "    <tr>\n",
       "      <th>3</th>\n",
       "      <td>Female</td>\n",
       "      <td>22.0</td>\n",
       "      <td>Law</td>\n",
       "      <td>Year 3</td>\n",
       "      <td>3.00 - 3.49</td>\n",
       "      <td>Yes</td>\n",
       "      <td>Yes</td>\n",
       "      <td>No</td>\n",
       "      <td>No</td>\n",
       "      <td>No</td>\n",
       "    </tr>\n",
       "    <tr>\n",
       "      <th>4</th>\n",
       "      <td>Male</td>\n",
       "      <td>23.0</td>\n",
       "      <td>Mathemathics</td>\n",
       "      <td>Year 4</td>\n",
       "      <td>3.00 - 3.49</td>\n",
       "      <td>No</td>\n",
       "      <td>No</td>\n",
       "      <td>No</td>\n",
       "      <td>No</td>\n",
       "      <td>No</td>\n",
       "    </tr>\n",
       "    <tr>\n",
       "      <th>...</th>\n",
       "      <td>...</td>\n",
       "      <td>...</td>\n",
       "      <td>...</td>\n",
       "      <td>...</td>\n",
       "      <td>...</td>\n",
       "      <td>...</td>\n",
       "      <td>...</td>\n",
       "      <td>...</td>\n",
       "      <td>...</td>\n",
       "      <td>...</td>\n",
       "    </tr>\n",
       "    <tr>\n",
       "      <th>96</th>\n",
       "      <td>Female</td>\n",
       "      <td>21.0</td>\n",
       "      <td>BCS</td>\n",
       "      <td>Year 1</td>\n",
       "      <td>3.50 - 4.00</td>\n",
       "      <td>No</td>\n",
       "      <td>No</td>\n",
       "      <td>Yes</td>\n",
       "      <td>No</td>\n",
       "      <td>No</td>\n",
       "    </tr>\n",
       "    <tr>\n",
       "      <th>97</th>\n",
       "      <td>Male</td>\n",
       "      <td>18.0</td>\n",
       "      <td>Engineering</td>\n",
       "      <td>Year 2</td>\n",
       "      <td>3.00 - 3.49</td>\n",
       "      <td>No</td>\n",
       "      <td>Yes</td>\n",
       "      <td>Yes</td>\n",
       "      <td>No</td>\n",
       "      <td>No</td>\n",
       "    </tr>\n",
       "    <tr>\n",
       "      <th>98</th>\n",
       "      <td>Female</td>\n",
       "      <td>19.0</td>\n",
       "      <td>Nursing</td>\n",
       "      <td>Year 3</td>\n",
       "      <td>3.50 - 4.00</td>\n",
       "      <td>Yes</td>\n",
       "      <td>Yes</td>\n",
       "      <td>No</td>\n",
       "      <td>Yes</td>\n",
       "      <td>No</td>\n",
       "    </tr>\n",
       "    <tr>\n",
       "      <th>99</th>\n",
       "      <td>Female</td>\n",
       "      <td>23.0</td>\n",
       "      <td>Pendidikan Islam</td>\n",
       "      <td>Year 4</td>\n",
       "      <td>3.50 - 4.00</td>\n",
       "      <td>No</td>\n",
       "      <td>No</td>\n",
       "      <td>No</td>\n",
       "      <td>No</td>\n",
       "      <td>No</td>\n",
       "    </tr>\n",
       "    <tr>\n",
       "      <th>100</th>\n",
       "      <td>Male</td>\n",
       "      <td>20.0</td>\n",
       "      <td>Biomedical science</td>\n",
       "      <td>Year 2</td>\n",
       "      <td>3.00 - 3.49</td>\n",
       "      <td>No</td>\n",
       "      <td>No</td>\n",
       "      <td>No</td>\n",
       "      <td>No</td>\n",
       "      <td>No</td>\n",
       "    </tr>\n",
       "  </tbody>\n",
       "</table>\n",
       "<p>101 rows × 10 columns</p>\n",
       "</div>"
      ],
      "text/plain": [
       "     Gender   Age              Course    Year          GPA Marital_status  \\\n",
       "0    Female  18.0         Engineering  Year 1  3.00 - 3.49             No   \n",
       "1      Male  21.0   Islamic Education  Year 2  3.00 - 3.49             No   \n",
       "2      Male  19.0                 BIT  Year 1  3.00 - 3.49             No   \n",
       "3    Female  22.0                 Law  Year 3  3.00 - 3.49            Yes   \n",
       "4      Male  23.0        Mathemathics  Year 4  3.00 - 3.49             No   \n",
       "..      ...   ...                 ...     ...          ...            ...   \n",
       "96   Female  21.0                 BCS  Year 1  3.50 - 4.00             No   \n",
       "97     Male  18.0         Engineering  Year 2  3.00 - 3.49             No   \n",
       "98   Female  19.0             Nursing  Year 3  3.50 - 4.00            Yes   \n",
       "99   Female  23.0    Pendidikan Islam  Year 4  3.50 - 4.00             No   \n",
       "100    Male  20.0  Biomedical science  Year 2  3.00 - 3.49             No   \n",
       "\n",
       "    Depression Anxiety Panic_attack Specialist_visit  \n",
       "0          Yes      No          Yes               No  \n",
       "1           No     Yes           No               No  \n",
       "2          Yes     Yes          Yes               No  \n",
       "3          Yes      No           No               No  \n",
       "4           No      No           No               No  \n",
       "..         ...     ...          ...              ...  \n",
       "96          No     Yes           No               No  \n",
       "97         Yes     Yes           No               No  \n",
       "98         Yes      No          Yes               No  \n",
       "99          No      No           No               No  \n",
       "100         No      No           No               No  \n",
       "\n",
       "[101 rows x 10 columns]"
      ]
     },
     "execution_count": 158,
     "metadata": {},
     "output_type": "execute_result"
    }
   ],
   "source": [
    "#Data Frame working off of\n",
    "student_df"
   ]
  },
  {
   "cell_type": "code",
   "execution_count": 159,
   "id": "8f6f9573",
   "metadata": {},
   "outputs": [],
   "source": [
    "# New Data Frame with only students in Year 1 and total count of students in that year\n",
    "year1_data = student_df.loc[student_df['Year'] == \"Year 1\"]\n",
    "count_year1 = len(year1_data)\n",
    "\n",
    "# New Data Frame with only students in Year 2 and total count of students in that year\n",
    "year2_data = student_df.loc[student_df['Year'] == \"Year 2\"]\n",
    "count_year2 = len(year2_data)\n",
    "\n",
    "# New Data Frame with only students in Year 3 and total count of students in that year\n",
    "year3_data = student_df.loc[student_df['Year'] == \"Year 3\"]\n",
    "count_year3 = len(year3_data)\n",
    "\n",
    "# New Data Frame with only students in Year 4 and total count of students in that year\n",
    "year4_data = student_df.loc[student_df['Year'] == \"Year 4\"]\n",
    "count_year4 = len(year4_data)"
   ]
  },
  {
   "cell_type": "code",
   "execution_count": 160,
   "id": "0bde95f6",
   "metadata": {},
   "outputs": [],
   "source": [
    "# Calculate percentage of how many were depressed within Year \n",
    "\n",
    "# Calculate the number of depressed Year 1\n",
    "year1_dep = year1_data.loc[year1_data['Depression'] == \"Yes\"]\n",
    "count_year1_dep = len(year1_dep)\n",
    "# Calculate percentage depressed Year 1\n",
    "per_year1_dep = (count_year1_dep/count_year1) *100\n",
    " \n",
    "# Calculate the number of depressed Year 2\n",
    "year2_dep = year2_data.loc[year2_data['Depression'] == \"Yes\"]\n",
    "count_year2_dep = len(year2_dep)\n",
    "# Calculate percentage depressed Year 2\n",
    "per_year2_dep = (count_year2_dep/count_year2) *100\n",
    "\n",
    "# Calculate the number of depressed Year 3\n",
    "year3_dep = year3_data.loc[year3_data['Depression'] == \"Yes\"]\n",
    "count_year3_dep = len(year3_dep)\n",
    "# Calculate percentage depressed Year 3\n",
    "per_year3_dep = (count_year3_dep/count_year3) *100\n",
    "\n",
    "# Calculate the number of depressed Year 4\n",
    "year4_dep = year4_data.loc[year4_data['Depression'] == \"Yes\"]\n",
    "count_year4_dep = len(year4_dep)\n",
    "# Calculate percentage depressed Year 4\n",
    "per_year4_dep = (count_year4_dep/count_year4) *100"
   ]
  },
  {
   "cell_type": "code",
   "execution_count": 161,
   "id": "a42d8f89",
   "metadata": {},
   "outputs": [],
   "source": [
    "# Calculate percentage of how many were anxious within Year \n",
    "\n",
    "# Calculate the number of anxious Year 1\n",
    "year1_anx = year1_data.loc[year1_data['Anxiety'] == \"Yes\"]\n",
    "count_year1_anx = len(year1_anx)\n",
    "# Calculate percentage anxious Year 1\n",
    "per_year1_anx = (count_year1_anx/count_year1) *100\n",
    " \n",
    "# Calculate the number of anxious Year 2\n",
    "year2_anx = year2_data.loc[year2_data['Anxiety'] == \"Yes\"]\n",
    "count_year2_anx = len(year2_anx)\n",
    "# Calculate percentage anxious Year 2\n",
    "per_year2_anx = (count_year2_anx/count_year2) *100\n",
    "\n",
    "# Calculate the number of anxious Year 3\n",
    "year3_anx = year3_data.loc[year3_data['Anxiety'] == \"Yes\"]\n",
    "count_year3_anx = len(year3_anx)\n",
    "# Calculate percentage anxious Year 3\n",
    "per_year3_anx = (count_year3_anx/count_year3) *100\n",
    "\n",
    "# Calculate the number of anxious Year 4\n",
    "year4_anx = year4_data.loc[year4_data['Anxiety'] == \"Yes\"]\n",
    "count_year4_anx = len(year4_anx)\n",
    "# Calculate percentage anxious Year 4\n",
    "per_year4_anx = (count_year4_anx/count_year4) *100"
   ]
  },
  {
   "cell_type": "code",
   "execution_count": 162,
   "id": "963b6f9d",
   "metadata": {},
   "outputs": [],
   "source": [
    "# Calculate percentage of how many had a panic attack within Year \n",
    "\n",
    "# Calculate the number of how many had a panic attack Year 1\n",
    "year1_pa = year1_data.loc[year1_data['Panic_attack'] == \"Yes\"]\n",
    "count_year1_pa = len(year1_pa)\n",
    "# Calculate percentage how many had a panic attack Year 1\n",
    "per_year1_pa = (count_year1_pa/count_year1) *100\n",
    "\n",
    "# Calculate the number of how many had a panic attack Year 2\n",
    "year2_pa = year2_data.loc[year2_data['Panic_attack'] == \"Yes\"]\n",
    "count_year2_pa = len(year2_pa)\n",
    "# Calculate percentage of how many had a panic attack Year 2\n",
    "per_year2_pa = (count_year2_pa/count_year2) *100\n",
    "\n",
    "# Calculate the number of how many had a panic attack Year 3\n",
    "year3_pa = year3_data.loc[year3_data['Panic_attack'] == \"Yes\"]\n",
    "count_year3_pa = len(year3_pa)\n",
    "# Calculate percentage of how many had a panic attack Year 3\n",
    "per_year3_pa = (count_year3_dep/count_year3) *100\n",
    "\n",
    "# Calculate the number of how many had a panic attack Year 4\n",
    "year4_pa = year4_data.loc[year4_data['Panic_attack'] == \"Yes\"]\n",
    "count_year4_pa = len(year4_pa)\n",
    "# Calculate percentage of how many had a panic attack Year 4\n",
    "per_year4_pa = (count_year4_pa/count_year4) *100"
   ]
  },
  {
   "cell_type": "code",
   "execution_count": 163,
   "id": "c61404d4",
   "metadata": {},
   "outputs": [],
   "source": [
    "# Calculate percentage of those who saw a specialist within Year \n",
    "\n",
    "# Calculate the number of specialist visits Year 1\n",
    "year1_sv = year1_data.loc[year1_data['Specialist_visit'] == \"Yes\"]\n",
    "count_year1_sv = len(year1_sv)\n",
    "# Calculate percentage of specialist visits Year 1\n",
    "per_year1_sv = (count_year1_sv/count_year1) *100\n",
    " \n",
    "# Calculate the number of specialist visits Year 2\n",
    "year2_sv = year2_data.loc[year2_data['Specialist_visit'] == \"Yes\"]\n",
    "count_year2_sv = len(year2_sv)\n",
    "# Calculate percentage of specialist visits Year 2\n",
    "per_year2_sv = (count_year2_sv/count_year2) *100\n",
    "\n",
    "# Calculate the number of specialist visits Year 3\n",
    "year3_sv = year3_data.loc[year3_data['Specialist_visit'] == \"Yes\"]\n",
    "count_year3_sv = len(year3_sv)\n",
    "# Calculate percentage of specialist visits Year 3\n",
    "per_year3_sv = (count_year3_sv/count_year3) *100\n",
    "\n",
    "# Calculate the number of specialist visits Year 4\n",
    "year4_sv = year4_data.loc[year4_data['Specialist_visit'] == \"Yes\"]\n",
    "count_year4_sv = len(year4_sv)\n",
    "# Calculate percentage of specialist visits Year 4\n",
    "per_year4_sv = (count_year4_sv/count_year4) *100"
   ]
  },
  {
   "cell_type": "code",
   "execution_count": 173,
   "id": "1dc7d9b4",
   "metadata": {},
   "outputs": [],
   "source": [
    "# import matplotlib.pyplot as plt\n",
    "# from importlib import reload\n",
    "# plt=reload(plt)"
   ]
  },
  {
   "cell_type": "code",
   "execution_count": 181,
   "id": "1e0a02d2",
   "metadata": {},
   "outputs": [
    {
     "name": "stdout",
     "output_type": "stream",
     "text": [
      "  Mental Health Categories     Year 1     Year 2     Year 3  Year 4\n",
      "0               Depression  32.558140  38.461538  41.666667    12.5\n",
      "1                  Anxiety  32.558140  38.461538  33.333333    25.0\n",
      "2            Panic Attacks  32.558140  30.769231  41.666667    12.5\n",
      "3         Specialist Visit   6.976744   7.692308   4.166667     0.0\n"
     ]
    },
    {
     "data": {
      "text/plain": [
       "Text(0.5, 1.0, 'Comparing Mental Health Status to Grade Year in College (By Percentages)')"
      ]
     },
     "execution_count": 181,
     "metadata": {},
     "output_type": "execute_result"
    },
    {
     "data": {
      "image/png": "[encoded data removed]",
      "text/plain": [
       "<Figure size 640x480 with 1 Axes>"
      ]
     },
     "metadata": {},
     "output_type": "display_data"
    }
   ],
   "source": [
    "#Create a bar graph to compare all of the mental health categories by grade level, by percentages, to see which grade is more stressful.\n",
    "\n",
    "# Create data that we want to plot\n",
    "percentages_suffering = pd.DataFrame([['Depression', per_year1_dep, per_year2_dep, per_year3_dep, per_year4_dep], \n",
    "                ['Anxiety', per_year1_anx, per_year2_anx, per_year3_anx, per_year4_anx], \n",
    "                ['Panic Attacks', per_year1_pa, per_year2_pa, per_year3_pa, per_year4_pa], \n",
    "                ['Specialist Visit', per_year1_sv, per_year2_sv, per_year3_sv, per_year4_sv]],\n",
    "                columns= ['Mental Health Categories', 'Year 1', 'Year 2', 'Year 3', 'Year 4'])\n",
    "# View data to be plotted\n",
    "print(percentages_suffering)\n",
    "\n",
    "# Plot/label grouped bar chart\n",
    "percentages_suffering.plot(x=\"Mental Health Categories\", kind='bar', stacked=False)\n",
    "plt.ylabel(\"Percentage of Students Self-Reported\")\n",
    "plt.xlabel(\"Mental Health Categories\")\n",
    "plt.xticks(rotation = 45)\n",
    "plt.title(\"Comparing Mental Health Status to Grade Year in College (By Percentages)\")"
   ]
  },
  {
   "cell_type": "code",
   "execution_count": 197,
   "id": "050e2391",
   "metadata": {},
   "outputs": [
    {
     "data": {
      "image/png": "[encoded data removed]",
      "text/plain": [
       "<Figure size 640x480 with 1 Axes>"
      ]
     },
     "metadata": {},
     "output_type": "display_data"
    }
   ],
   "source": [
    "# Create a stacked bar graph to show a break down of how many total students in each grade reported Mental Health Issues\n",
    "\n",
    "# Create data to plot Depression comaprison\n",
    "x = ['Year 1', 'Year 2', 'Year 3', 'Year 4']\n",
    "y1 = [count_year1_dep, count_year2_dep, count_year3_dep, count_year4_dep]\n",
    "y2 = [(count_year1-count_year1_dep), (count_year2-count_year3_dep), (count_year3-count_year3_dep), (count_year4-count_year4_dep)]\n",
    " \n",
    "# plot bars in stack manner\n",
    "plt.bar(x, y1, color='g')\n",
    "plt.bar(x, y2, bottom=y1, color='r')\n",
    "plt.ylabel(\"Number of Students Self-Reported\")\n",
    "plt.xlabel(\"College Grade Year\")\n",
    "plt.title(\"Comparing Mental Health to Grade Year in College (By Depression)\")\n",
    "plt.legend([\"Yes- I am Depressed\", \"No- I am not Depressed\"])\n",
    "plt.show()"
   ]
  },
  {
   "cell_type": "code",
   "execution_count": 196,
   "id": "06071ac8",
   "metadata": {},
   "outputs": [
    {
     "data": {
      "image/png": "[encoded data removed]",
      "text/plain": [
       "<Figure size 640x480 with 1 Axes>"
      ]
     },
     "metadata": {},
     "output_type": "display_data"
    }
   ],
   "source": [
    "# Create data to plot Anxiety comaprison\n",
    "x = ['Year 1', 'Year 2', 'Year 3', 'Year 4']\n",
    "y1 = [count_year1_anx, count_year2_anx, count_year3_anx, count_year4_anx]\n",
    "y2 = [(count_year1-count_year1_anx), (count_year2-count_year3_anx), (count_year3-count_year3_anx), (count_year4-count_year4_anx)]\n",
    " \n",
    "# plot bars in stack manner\n",
    "plt.bar(x, y1, color='g')\n",
    "plt.bar(x, y2, bottom=y1, color='r')\n",
    "plt.ylabel(\"Number of Students Self-Reported\")\n",
    "plt.xlabel(\"College Grade Year\")\n",
    "plt.title(\"Comparing Mental Health to Grade Year in College (By Anxiety)\")\n",
    "plt.legend([\"Yes- I am Anxious\", \"No- I am not Anxious\"])\n",
    "plt.show()"
   ]
  },
  {
   "cell_type": "code",
   "execution_count": 195,
   "id": "328c9afb",
   "metadata": {},
   "outputs": [
    {
     "data": {
      "image/png": "[encoded data removed]",
      "text/plain": [
       "<Figure size 640x480 with 1 Axes>"
      ]
     },
     "metadata": {},
     "output_type": "display_data"
    }
   ],
   "source": [
    "# Create data to plot Panic Attack comaprison\n",
    "x = ['Year 1', 'Year 2', 'Year 3', 'Year 4']\n",
    "y1 = [count_year1_pa, count_year2_pa, count_year3_pa, count_year4_pa]\n",
    "y2 = [(count_year1-count_year1_pa), (count_year2-count_year3_pa), (count_year3-count_year3_pa), (count_year4-count_year4_pa)]\n",
    " \n",
    "# plot bars in stack manner\n",
    "plt.bar(x, y1, color='g')\n",
    "plt.bar(x, y2, bottom=y1, color='r')\n",
    "plt.ylabel(\"Number of Students Self-Reported\")\n",
    "plt.xlabel(\"College Grade Year\")\n",
    "plt.title(\"Comparing Mental Health to Grade Year in College (By Panic Attacks)\")\n",
    "plt.legend([\"Yes- I have Panic Attacks\", \"No- I do not have Panic Attacks\"])\n",
    "plt.show()"
   ]
  },
  {
   "cell_type": "code",
   "execution_count": 194,
   "id": "b0b73858",
   "metadata": {},
   "outputs": [
    {
     "data": {
      "image/png": "[encoded data removed]",
      "text/plain": [
       "<Figure size 640x480 with 1 Axes>"
      ]
     },
     "metadata": {},
     "output_type": "display_data"
    }
   ],
   "source": [
    "# Create data to plot Specialist Visit comaprison\n",
    "x = ['Year 1', 'Year 2', 'Year 3', 'Year 4']\n",
    "y1 = [count_year1_sv, count_year2_sv, count_year3_sv, count_year4_sv]\n",
    "y2 = [(count_year1-count_year1_sv), (count_year2-count_year3_sv), (count_year3-count_year3_sv), (count_year4-count_year4_sv)]\n",
    " \n",
    "# plot bars in stack manner\n",
    "plt.bar(x, y1, color='g')\n",
    "plt.bar(x, y2, bottom=y1, color='r')\n",
    "plt.ylabel(\"Number of Students Self-Reported\")\n",
    "plt.xlabel(\"College Grade Year\")\n",
    "plt.title(\"Comparing Mental Health to Grade Year in College (By Specialty Visits)\")\n",
    "plt.legend([\"Yes- I have seen a Specialist\", \"No- I have not seen a Specialist\"])\n",
    "plt.show()"
   ]
  },
  {
   "cell_type": "code",
   "execution_count": null,
   "id": "d4615f15",
   "metadata": {},
   "outputs": [],
   "source": []
  }
 ],
 "metadata": {
  "kernelspec": {
   "display_name": "PythonData",
   "language": "python",
   "name": "pythondata"
  },
  "language_info": {
   "codemirror_mode": {
    "name": "ipython",
    "version": 3
   },
   "file_extension": ".py",
   "mimetype": "text/x-python",
   "name": "python",
   "nbconvert_exporter": "python",
   "pygments_lexer": "ipython3",
   "version": "3.9.13"
  }
 },
 "nbformat": 4,
 "nbformat_minor": 5
}
